{
 "cells": [
  {
   "cell_type": "markdown",
   "metadata": {},
   "source": [
    "## Multiple outputs- Linear Regression"
   ]
  },
  {
   "cell_type": "code",
   "execution_count": 47,
   "metadata": {},
   "outputs": [],
   "source": [
    "from torch import nn\n",
    "import torch"
   ]
  },
  {
   "cell_type": "code",
   "execution_count": 48,
   "metadata": {},
   "outputs": [
    {
     "data": {
      "text/plain": [
       "<torch._C.Generator at 0x1112bbaf0>"
      ]
     },
     "execution_count": 48,
     "metadata": {},
     "output_type": "execute_result"
    }
   ],
   "source": [
    "torch.manual_seed(1)"
   ]
  },
  {
   "cell_type": "code",
   "execution_count": 49,
   "metadata": {},
   "outputs": [],
   "source": [
    "class linear_regression(nn.Module):\n",
    "    def __init__(self,input_size,output_size):\n",
    "        super(linear_regression,self).__init__()\n",
    "        self.linear=nn.Linear(input_size,output_size)\n",
    "    def forward(self,x):\n",
    "        yhat=self.linear(x)\n",
    "        return yhat"
   ]
  },
  {
   "cell_type": "code",
   "execution_count": 50,
   "metadata": {},
   "outputs": [
    {
     "name": "stdout",
     "output_type": "stream",
     "text": [
      "torch.Size([10])\n"
     ]
    }
   ],
   "source": [
    "model=linear_regression(1,10)\n",
    "y = model(torch.tensor([1.0]))\n",
    "print(y.shape)"
   ]
  },
  {
   "cell_type": "code",
   "execution_count": 51,
   "metadata": {},
   "outputs": [
    {
     "data": {
      "text/plain": [
       "[Parameter containing:\n",
       " tensor([[ 0.5153],\n",
       "         [-0.4414],\n",
       "         [-0.1939],\n",
       "         [ 0.4694],\n",
       "         [-0.9414],\n",
       "         [ 0.5997],\n",
       "         [-0.2057],\n",
       "         [ 0.5087],\n",
       "         [ 0.1390],\n",
       "         [-0.1224]], requires_grad=True),\n",
       " Parameter containing:\n",
       " tensor([ 0.2774,  0.0493,  0.3652, -0.3897, -0.0729, -0.0900,  0.1449, -0.0040,\n",
       "          0.8742,  0.3112], requires_grad=True)]"
      ]
     },
     "execution_count": 51,
     "metadata": {},
     "output_type": "execute_result"
    }
   ],
   "source": [
    "list(model.parameters())"
   ]
  },
  {
   "cell_type": "code",
   "execution_count": 52,
   "metadata": {},
   "outputs": [
    {
     "data": {
      "text/plain": [
       "tensor([[ 0.7926, -0.3920,  0.1714,  0.0797, -1.0143,  0.5097, -0.0608,  0.5047,\n",
       "          1.0132,  0.1887],\n",
       "        [ 0.7926, -0.3920,  0.1714,  0.0797, -1.0143,  0.5097, -0.0608,  0.5047,\n",
       "          1.0132,  0.1887],\n",
       "        [ 1.8232, -1.2748, -0.2164,  1.0184, -2.8972,  1.7091, -0.4722,  1.5222,\n",
       "          1.2912, -0.0561]], grad_fn=<AddmmBackward>)"
      ]
     },
     "execution_count": 52,
     "metadata": {},
     "output_type": "execute_result"
    }
   ],
   "source": [
    "X=torch.tensor([[1.0],[1.0],[3.0]])\n",
    "Yhat=model(X)\n",
    "Yhat"
   ]
  },
  {
   "cell_type": "code",
   "execution_count": 53,
   "metadata": {},
   "outputs": [
    {
     "data": {
      "text/plain": [
       "torch.Size([3, 10])"
      ]
     },
     "execution_count": 53,
     "metadata": {},
     "output_type": "execute_result"
    }
   ],
   "source": [
    "Yhat.shape"
   ]
  },
  {
   "cell_type": "code",
   "execution_count": 54,
   "metadata": {},
   "outputs": [],
   "source": [
    "import torch\n",
    "import numpy as np\n",
    "import matplotlib.pyplot as plt\n",
    "from torch import nn,optim\n",
    "from mpl_toolkits.mplot3d import Axes3D\n",
    "from torch.utils.data import Dataset, DataLoader\n",
    "import torchvision.transforms as transforms"
   ]
  },
  {
   "cell_type": "code",
   "execution_count": 55,
   "metadata": {},
   "outputs": [
    {
     "data": {
      "text/plain": [
       "<torch._C.Generator at 0x1112bbaf0>"
      ]
     },
     "execution_count": 55,
     "metadata": {},
     "output_type": "execute_result"
    }
   ],
   "source": [
    "torch.manual_seed(1)"
   ]
  },
  {
   "cell_type": "code",
   "execution_count": 56,
   "metadata": {},
   "outputs": [],
   "source": [
    "from torch.utils.data import Dataset, DataLoader\n",
    "class Data(Dataset):\n",
    "    def __init__(self):\n",
    "            self.x=torch.zeros(20,2)\n",
    "            self.x[:,0]=torch.arange(-1,1,0.1)\n",
    "            self.x[:,1]=torch.arange(-1,1,0.1)\n",
    "            self.w=torch.tensor([ [1.0,-1.0],[1.0,3.0]])\n",
    "            self.b=torch.tensor([[1.0,-1.0]])\n",
    "            self.f=torch.mm(self.x,self.w)+self.b\n",
    "            \n",
    "            self.y=self.f+0.001*torch.randn((self.x.shape[0],1))\n",
    "            self.len=self.x.shape[0]\n",
    "\n",
    "    def __getitem__(self,index):\n",
    "\n",
    "        return self.x[index],self.y[index]\n",
    "    \n",
    "    def __len__(self):\n",
    "        return self.len"
   ]
  },
  {
   "cell_type": "code",
   "execution_count": 57,
   "metadata": {},
   "outputs": [
    {
     "name": "stdout",
     "output_type": "stream",
     "text": [
      "tensor([[-1.0000, -1.0000],\n",
      "        [-0.9000, -0.9000],\n",
      "        [-0.8000, -0.8000],\n",
      "        [-0.7000, -0.7000],\n",
      "        [-0.6000, -0.6000],\n",
      "        [-0.5000, -0.5000],\n",
      "        [-0.4000, -0.4000],\n",
      "        [-0.3000, -0.3000],\n",
      "        [-0.2000, -0.2000],\n",
      "        [-0.1000, -0.1000],\n",
      "        [ 0.0000,  0.0000],\n",
      "        [ 0.1000,  0.1000],\n",
      "        [ 0.2000,  0.2000],\n",
      "        [ 0.3000,  0.3000],\n",
      "        [ 0.4000,  0.4000],\n",
      "        [ 0.5000,  0.5000],\n",
      "        [ 0.6000,  0.6000],\n",
      "        [ 0.7000,  0.7000],\n",
      "        [ 0.8000,  0.8000],\n",
      "        [ 0.9000,  0.9000]])\n"
     ]
    },
    {
     "data": {
      "text/plain": [
       "torch.Size([20, 2])"
      ]
     },
     "execution_count": 57,
     "metadata": {},
     "output_type": "execute_result"
    }
   ],
   "source": [
    "data_set=Data()\n",
    "print(data_set.x)\n",
    "data_set.x.shape"
   ]
  },
  {
   "cell_type": "code",
   "execution_count": 58,
   "metadata": {},
   "outputs": [],
   "source": [
    "class linear_regression(nn.Module):\n",
    "    def __init__(self,input_size,output_size):\n",
    "        super(linear_regression,self).__init__()\n",
    "        self.linear=nn.Linear(input_size,output_size)\n",
    "    def forward(self,x):\n",
    "        yhat=self.linear(x)\n",
    "        return yhat"
   ]
  },
  {
   "cell_type": "code",
   "execution_count": 59,
   "metadata": {},
   "outputs": [],
   "source": [
    "model = linear_regression(2,2)"
   ]
  },
  {
   "cell_type": "code",
   "execution_count": 64,
   "metadata": {},
   "outputs": [],
   "source": [
    "optimizer = optim.SGD(model.parameters(), lr = 0.05)\n",
    "criterion = nn.MSELoss()\n",
    "train_loader=DataLoader(dataset=data_set,batch_size=1)"
   ]
  },
  {
   "cell_type": "code",
   "execution_count": 65,
   "metadata": {},
   "outputs": [
    {
     "name": "stdout",
     "output_type": "stream",
     "text": [
      "tensor([[-1.0005, -3.0005]], grad_fn=<AddmmBackward>)\n",
      "tensor([[-0.8006, -2.8006]], grad_fn=<AddmmBackward>)\n",
      "tensor([[-0.6005, -2.6005]], grad_fn=<AddmmBackward>)\n",
      "tensor([[-0.4005, -2.4005]], grad_fn=<AddmmBackward>)\n",
      "tensor([[-0.2005, -2.2005]], grad_fn=<AddmmBackward>)\n",
      "tensor([[-3.2330e-04, -2.0003e+00]], grad_fn=<AddmmBackward>)\n",
      "tensor([[ 0.1998, -1.8002]], grad_fn=<AddmmBackward>)\n",
      "tensor([[ 0.3998, -1.6002]], grad_fn=<AddmmBackward>)\n",
      "tensor([[ 0.5999, -1.4001]], grad_fn=<AddmmBackward>)\n",
      "tensor([[ 0.8000, -1.2000]], grad_fn=<AddmmBackward>)\n",
      "tensor([[ 1.0002, -0.9998]], grad_fn=<AddmmBackward>)\n",
      "tensor([[ 1.2003, -0.7997]], grad_fn=<AddmmBackward>)\n",
      "tensor([[ 1.4003, -0.5997]], grad_fn=<AddmmBackward>)\n",
      "tensor([[ 1.6004, -0.3996]], grad_fn=<AddmmBackward>)\n",
      "tensor([[ 1.8004, -0.1996]], grad_fn=<AddmmBackward>)\n",
      "tensor([[2.0004e+00, 3.5590e-04]], grad_fn=<AddmmBackward>)\n",
      "tensor([[2.2004, 0.2004]], grad_fn=<AddmmBackward>)\n",
      "tensor([[2.4003, 0.4003]], grad_fn=<AddmmBackward>)\n",
      "tensor([[2.6004, 0.6004]], grad_fn=<AddmmBackward>)\n",
      "tensor([[2.8004, 0.8004]], grad_fn=<AddmmBackward>)\n",
      "tensor([[-1.0005, -3.0005]], grad_fn=<AddmmBackward>)\n",
      "tensor([[-0.8006, -2.8006]], grad_fn=<AddmmBackward>)\n",
      "tensor([[-0.6005, -2.6005]], grad_fn=<AddmmBackward>)\n",
      "tensor([[-0.4005, -2.4005]], grad_fn=<AddmmBackward>)\n",
      "tensor([[-0.2005, -2.2005]], grad_fn=<AddmmBackward>)\n",
      "tensor([[-3.2330e-04, -2.0003e+00]], grad_fn=<AddmmBackward>)\n",
      "tensor([[ 0.1998, -1.8002]], grad_fn=<AddmmBackward>)\n",
      "tensor([[ 0.3998, -1.6002]], grad_fn=<AddmmBackward>)\n",
      "tensor([[ 0.5999, -1.4001]], grad_fn=<AddmmBackward>)\n",
      "tensor([[ 0.8000, -1.2000]], grad_fn=<AddmmBackward>)\n",
      "tensor([[ 1.0002, -0.9998]], grad_fn=<AddmmBackward>)\n",
      "tensor([[ 1.2003, -0.7997]], grad_fn=<AddmmBackward>)\n",
      "tensor([[ 1.4003, -0.5997]], grad_fn=<AddmmBackward>)\n",
      "tensor([[ 1.6004, -0.3996]], grad_fn=<AddmmBackward>)\n",
      "tensor([[ 1.8004, -0.1996]], grad_fn=<AddmmBackward>)\n",
      "tensor([[2.0004e+00, 3.5590e-04]], grad_fn=<AddmmBackward>)\n",
      "tensor([[2.2004, 0.2004]], grad_fn=<AddmmBackward>)\n",
      "tensor([[2.4003, 0.4003]], grad_fn=<AddmmBackward>)\n",
      "tensor([[2.6004, 0.6004]], grad_fn=<AddmmBackward>)\n",
      "tensor([[2.8004, 0.8004]], grad_fn=<AddmmBackward>)\n",
      "tensor([[-1.0005, -3.0005]], grad_fn=<AddmmBackward>)\n",
      "tensor([[-0.8006, -2.8006]], grad_fn=<AddmmBackward>)\n",
      "tensor([[-0.6005, -2.6005]], grad_fn=<AddmmBackward>)\n",
      "tensor([[-0.4005, -2.4005]], grad_fn=<AddmmBackward>)\n",
      "tensor([[-0.2005, -2.2005]], grad_fn=<AddmmBackward>)\n",
      "tensor([[-3.2330e-04, -2.0003e+00]], grad_fn=<AddmmBackward>)\n",
      "tensor([[ 0.1998, -1.8002]], grad_fn=<AddmmBackward>)\n",
      "tensor([[ 0.3998, -1.6002]], grad_fn=<AddmmBackward>)\n",
      "tensor([[ 0.5999, -1.4001]], grad_fn=<AddmmBackward>)\n",
      "tensor([[ 0.8000, -1.2000]], grad_fn=<AddmmBackward>)\n",
      "tensor([[ 1.0002, -0.9998]], grad_fn=<AddmmBackward>)\n",
      "tensor([[ 1.2003, -0.7997]], grad_fn=<AddmmBackward>)\n",
      "tensor([[ 1.4003, -0.5997]], grad_fn=<AddmmBackward>)\n",
      "tensor([[ 1.6004, -0.3996]], grad_fn=<AddmmBackward>)\n",
      "tensor([[ 1.8004, -0.1996]], grad_fn=<AddmmBackward>)\n",
      "tensor([[2.0004e+00, 3.5590e-04]], grad_fn=<AddmmBackward>)\n",
      "tensor([[2.2004, 0.2004]], grad_fn=<AddmmBackward>)\n",
      "tensor([[2.4003, 0.4003]], grad_fn=<AddmmBackward>)\n",
      "tensor([[2.6004, 0.6004]], grad_fn=<AddmmBackward>)\n",
      "tensor([[2.8004, 0.8004]], grad_fn=<AddmmBackward>)\n",
      "tensor([[-1.0005, -3.0005]], grad_fn=<AddmmBackward>)\n",
      "tensor([[-0.8006, -2.8006]], grad_fn=<AddmmBackward>)\n",
      "tensor([[-0.6005, -2.6005]], grad_fn=<AddmmBackward>)\n",
      "tensor([[-0.4005, -2.4005]], grad_fn=<AddmmBackward>)\n",
      "tensor([[-0.2005, -2.2005]], grad_fn=<AddmmBackward>)\n",
      "tensor([[-3.2330e-04, -2.0003e+00]], grad_fn=<AddmmBackward>)\n",
      "tensor([[ 0.1998, -1.8002]], grad_fn=<AddmmBackward>)\n",
      "tensor([[ 0.3998, -1.6002]], grad_fn=<AddmmBackward>)\n",
      "tensor([[ 0.5999, -1.4001]], grad_fn=<AddmmBackward>)\n",
      "tensor([[ 0.8000, -1.2000]], grad_fn=<AddmmBackward>)\n",
      "tensor([[ 1.0002, -0.9998]], grad_fn=<AddmmBackward>)\n",
      "tensor([[ 1.2003, -0.7997]], grad_fn=<AddmmBackward>)\n",
      "tensor([[ 1.4003, -0.5997]], grad_fn=<AddmmBackward>)\n",
      "tensor([[ 1.6004, -0.3996]], grad_fn=<AddmmBackward>)\n",
      "tensor([[ 1.8004, -0.1996]], grad_fn=<AddmmBackward>)\n",
      "tensor([[2.0004e+00, 3.5590e-04]], grad_fn=<AddmmBackward>)\n",
      "tensor([[2.2004, 0.2004]], grad_fn=<AddmmBackward>)\n",
      "tensor([[2.4003, 0.4003]], grad_fn=<AddmmBackward>)\n",
      "tensor([[2.6004, 0.6004]], grad_fn=<AddmmBackward>)\n",
      "tensor([[2.8004, 0.8004]], grad_fn=<AddmmBackward>)\n",
      "tensor([[-1.0005, -3.0005]], grad_fn=<AddmmBackward>)\n",
      "tensor([[-0.8006, -2.8006]], grad_fn=<AddmmBackward>)\n",
      "tensor([[-0.6005, -2.6005]], grad_fn=<AddmmBackward>)\n",
      "tensor([[-0.4005, -2.4005]], grad_fn=<AddmmBackward>)\n",
      "tensor([[-0.2005, -2.2005]], grad_fn=<AddmmBackward>)\n",
      "tensor([[-3.2330e-04, -2.0003e+00]], grad_fn=<AddmmBackward>)\n",
      "tensor([[ 0.1998, -1.8002]], grad_fn=<AddmmBackward>)\n",
      "tensor([[ 0.3998, -1.6002]], grad_fn=<AddmmBackward>)\n",
      "tensor([[ 0.5999, -1.4001]], grad_fn=<AddmmBackward>)\n",
      "tensor([[ 0.8000, -1.2000]], grad_fn=<AddmmBackward>)\n",
      "tensor([[ 1.0002, -0.9998]], grad_fn=<AddmmBackward>)\n",
      "tensor([[ 1.2003, -0.7997]], grad_fn=<AddmmBackward>)\n",
      "tensor([[ 1.4003, -0.5997]], grad_fn=<AddmmBackward>)\n",
      "tensor([[ 1.6004, -0.3996]], grad_fn=<AddmmBackward>)\n",
      "tensor([[ 1.8004, -0.1996]], grad_fn=<AddmmBackward>)\n",
      "tensor([[2.0004e+00, 3.5590e-04]], grad_fn=<AddmmBackward>)\n",
      "tensor([[2.2004, 0.2004]], grad_fn=<AddmmBackward>)\n",
      "tensor([[2.4003, 0.4003]], grad_fn=<AddmmBackward>)\n",
      "tensor([[2.6004, 0.6004]], grad_fn=<AddmmBackward>)\n",
      "tensor([[2.8004, 0.8004]], grad_fn=<AddmmBackward>)\n",
      "tensor([[-1.0005, -3.0005]], grad_fn=<AddmmBackward>)\n",
      "tensor([[-0.8006, -2.8006]], grad_fn=<AddmmBackward>)\n",
      "tensor([[-0.6005, -2.6005]], grad_fn=<AddmmBackward>)\n",
      "tensor([[-0.4005, -2.4005]], grad_fn=<AddmmBackward>)\n",
      "tensor([[-0.2005, -2.2005]], grad_fn=<AddmmBackward>)\n",
      "tensor([[-3.2330e-04, -2.0003e+00]], grad_fn=<AddmmBackward>)\n",
      "tensor([[ 0.1998, -1.8002]], grad_fn=<AddmmBackward>)\n",
      "tensor([[ 0.3998, -1.6002]], grad_fn=<AddmmBackward>)\n",
      "tensor([[ 0.5999, -1.4001]], grad_fn=<AddmmBackward>)\n",
      "tensor([[ 0.8000, -1.2000]], grad_fn=<AddmmBackward>)\n",
      "tensor([[ 1.0002, -0.9998]], grad_fn=<AddmmBackward>)\n",
      "tensor([[ 1.2003, -0.7997]], grad_fn=<AddmmBackward>)\n",
      "tensor([[ 1.4003, -0.5997]], grad_fn=<AddmmBackward>)\n",
      "tensor([[ 1.6004, -0.3996]], grad_fn=<AddmmBackward>)\n",
      "tensor([[ 1.8004, -0.1996]], grad_fn=<AddmmBackward>)\n",
      "tensor([[2.0004e+00, 3.5590e-04]], grad_fn=<AddmmBackward>)\n",
      "tensor([[2.2004, 0.2004]], grad_fn=<AddmmBackward>)\n",
      "tensor([[2.4003, 0.4003]], grad_fn=<AddmmBackward>)\n",
      "tensor([[2.6004, 0.6004]], grad_fn=<AddmmBackward>)\n",
      "tensor([[2.8004, 0.8004]], grad_fn=<AddmmBackward>)\n",
      "tensor([[-1.0005, -3.0005]], grad_fn=<AddmmBackward>)\n",
      "tensor([[-0.8006, -2.8006]], grad_fn=<AddmmBackward>)\n",
      "tensor([[-0.6005, -2.6005]], grad_fn=<AddmmBackward>)\n",
      "tensor([[-0.4005, -2.4005]], grad_fn=<AddmmBackward>)\n",
      "tensor([[-0.2005, -2.2005]], grad_fn=<AddmmBackward>)\n",
      "tensor([[-3.2330e-04, -2.0003e+00]], grad_fn=<AddmmBackward>)\n",
      "tensor([[ 0.1998, -1.8002]], grad_fn=<AddmmBackward>)\n",
      "tensor([[ 0.3998, -1.6002]], grad_fn=<AddmmBackward>)\n",
      "tensor([[ 0.5999, -1.4001]], grad_fn=<AddmmBackward>)\n",
      "tensor([[ 0.8000, -1.2000]], grad_fn=<AddmmBackward>)\n",
      "tensor([[ 1.0002, -0.9998]], grad_fn=<AddmmBackward>)\n",
      "tensor([[ 1.2003, -0.7997]], grad_fn=<AddmmBackward>)\n",
      "tensor([[ 1.4003, -0.5997]], grad_fn=<AddmmBackward>)\n",
      "tensor([[ 1.6004, -0.3996]], grad_fn=<AddmmBackward>)\n",
      "tensor([[ 1.8004, -0.1996]], grad_fn=<AddmmBackward>)\n",
      "tensor([[2.0004e+00, 3.5590e-04]], grad_fn=<AddmmBackward>)\n",
      "tensor([[2.2004, 0.2004]], grad_fn=<AddmmBackward>)\n",
      "tensor([[2.4003, 0.4003]], grad_fn=<AddmmBackward>)\n",
      "tensor([[2.6004, 0.6004]], grad_fn=<AddmmBackward>)\n",
      "tensor([[2.8004, 0.8004]], grad_fn=<AddmmBackward>)\n",
      "tensor([[-1.0005, -3.0005]], grad_fn=<AddmmBackward>)\n",
      "tensor([[-0.8006, -2.8006]], grad_fn=<AddmmBackward>)\n",
      "tensor([[-0.6005, -2.6005]], grad_fn=<AddmmBackward>)\n",
      "tensor([[-0.4005, -2.4005]], grad_fn=<AddmmBackward>)\n",
      "tensor([[-0.2005, -2.2005]], grad_fn=<AddmmBackward>)\n",
      "tensor([[-3.2330e-04, -2.0003e+00]], grad_fn=<AddmmBackward>)\n",
      "tensor([[ 0.1998, -1.8002]], grad_fn=<AddmmBackward>)\n",
      "tensor([[ 0.3998, -1.6002]], grad_fn=<AddmmBackward>)\n",
      "tensor([[ 0.5999, -1.4001]], grad_fn=<AddmmBackward>)\n",
      "tensor([[ 0.8000, -1.2000]], grad_fn=<AddmmBackward>)\n",
      "tensor([[ 1.0002, -0.9998]], grad_fn=<AddmmBackward>)\n",
      "tensor([[ 1.2003, -0.7997]], grad_fn=<AddmmBackward>)\n",
      "tensor([[ 1.4003, -0.5997]], grad_fn=<AddmmBackward>)\n",
      "tensor([[ 1.6004, -0.3996]], grad_fn=<AddmmBackward>)\n",
      "tensor([[ 1.8004, -0.1996]], grad_fn=<AddmmBackward>)\n",
      "tensor([[2.0004e+00, 3.5590e-04]], grad_fn=<AddmmBackward>)\n",
      "tensor([[2.2004, 0.2004]], grad_fn=<AddmmBackward>)\n",
      "tensor([[2.4003, 0.4003]], grad_fn=<AddmmBackward>)\n",
      "tensor([[2.6004, 0.6004]], grad_fn=<AddmmBackward>)\n",
      "tensor([[2.8004, 0.8004]], grad_fn=<AddmmBackward>)\n",
      "tensor([[-1.0005, -3.0005]], grad_fn=<AddmmBackward>)\n",
      "tensor([[-0.8006, -2.8006]], grad_fn=<AddmmBackward>)\n",
      "tensor([[-0.6005, -2.6005]], grad_fn=<AddmmBackward>)\n",
      "tensor([[-0.4005, -2.4005]], grad_fn=<AddmmBackward>)\n",
      "tensor([[-0.2005, -2.2005]], grad_fn=<AddmmBackward>)\n",
      "tensor([[-3.2330e-04, -2.0003e+00]], grad_fn=<AddmmBackward>)\n",
      "tensor([[ 0.1998, -1.8002]], grad_fn=<AddmmBackward>)\n",
      "tensor([[ 0.3998, -1.6002]], grad_fn=<AddmmBackward>)\n",
      "tensor([[ 0.5999, -1.4001]], grad_fn=<AddmmBackward>)\n",
      "tensor([[ 0.8000, -1.2000]], grad_fn=<AddmmBackward>)\n",
      "tensor([[ 1.0002, -0.9998]], grad_fn=<AddmmBackward>)\n",
      "tensor([[ 1.2003, -0.7997]], grad_fn=<AddmmBackward>)\n",
      "tensor([[ 1.4003, -0.5997]], grad_fn=<AddmmBackward>)\n",
      "tensor([[ 1.6004, -0.3996]], grad_fn=<AddmmBackward>)\n",
      "tensor([[ 1.8004, -0.1996]], grad_fn=<AddmmBackward>)\n",
      "tensor([[2.0004e+00, 3.5590e-04]], grad_fn=<AddmmBackward>)\n",
      "tensor([[2.2004, 0.2004]], grad_fn=<AddmmBackward>)\n",
      "tensor([[2.4003, 0.4003]], grad_fn=<AddmmBackward>)\n",
      "tensor([[2.6004, 0.6004]], grad_fn=<AddmmBackward>)\n",
      "tensor([[2.8004, 0.8004]], grad_fn=<AddmmBackward>)\n",
      "tensor([[-1.0005, -3.0005]], grad_fn=<AddmmBackward>)\n",
      "tensor([[-0.8006, -2.8006]], grad_fn=<AddmmBackward>)\n",
      "tensor([[-0.6005, -2.6005]], grad_fn=<AddmmBackward>)\n",
      "tensor([[-0.4005, -2.4005]], grad_fn=<AddmmBackward>)\n",
      "tensor([[-0.2005, -2.2005]], grad_fn=<AddmmBackward>)\n",
      "tensor([[-3.2330e-04, -2.0003e+00]], grad_fn=<AddmmBackward>)\n",
      "tensor([[ 0.1998, -1.8002]], grad_fn=<AddmmBackward>)\n",
      "tensor([[ 0.3998, -1.6002]], grad_fn=<AddmmBackward>)\n",
      "tensor([[ 0.5999, -1.4001]], grad_fn=<AddmmBackward>)\n",
      "tensor([[ 0.8000, -1.2000]], grad_fn=<AddmmBackward>)\n",
      "tensor([[ 1.0002, -0.9998]], grad_fn=<AddmmBackward>)\n",
      "tensor([[ 1.2003, -0.7997]], grad_fn=<AddmmBackward>)\n",
      "tensor([[ 1.4003, -0.5997]], grad_fn=<AddmmBackward>)\n",
      "tensor([[ 1.6004, -0.3996]], grad_fn=<AddmmBackward>)\n",
      "tensor([[ 1.8004, -0.1996]], grad_fn=<AddmmBackward>)\n",
      "tensor([[2.0004e+00, 3.5590e-04]], grad_fn=<AddmmBackward>)\n",
      "tensor([[2.2004, 0.2004]], grad_fn=<AddmmBackward>)\n",
      "tensor([[2.4003, 0.4003]], grad_fn=<AddmmBackward>)\n",
      "tensor([[2.6004, 0.6004]], grad_fn=<AddmmBackward>)\n",
      "tensor([[2.8004, 0.8004]], grad_fn=<AddmmBackward>)\n"
     ]
    }
   ],
   "source": [
    "LOSS=[]\n",
    " \n",
    "epochs=10\n",
    "   \n",
    "for epoch in range(epochs):\n",
    "    for x,y in train_loader:\n",
    "        #make a prediction \n",
    "        yhat=model(x)\n",
    "        #calculate the loss\n",
    "        print(yhat)\n",
    "        loss=criterion(yhat,y)\n",
    "        #store loss/cost \n",
    "        LOSS.append(loss.item())\n",
    "        #clear gradient \n",
    "        optimizer.zero_grad()\n",
    "        #Backward pass: compute gradient of the loss with respect to all the learnable parameters\n",
    "        loss.backward()\n",
    "        #the step function on an Optimizer makes an update to its parameters\n",
    "        optimizer.step()"
   ]
  },
  {
   "cell_type": "code",
   "execution_count": 66,
   "metadata": {},
   "outputs": [
    {
     "data": {
      "image/png": "[encoded data removed]",
      "text/plain": [
       "<Figure size 432x288 with 1 Axes>"
      ]
     },
     "metadata": {
      "needs_background": "light"
     },
     "output_type": "display_data"
    }
   ],
   "source": [
    "plt.plot(LOSS)\n",
    "plt.xlabel(\"iterations \")\n",
    "plt.ylabel(\"Cost/total loss \")\n",
    "plt.show()"
   ]
  },
  {
   "cell_type": "code",
   "execution_count": 67,
   "metadata": {},
   "outputs": [
    {
     "data": {
      "text/plain": [
       "OrderedDict([('linear.weight',\n",
       "              tensor([[1.3696, 0.6309],\n",
       "                      [1.3159, 0.6847]])),\n",
       "             ('linear.bias', tensor([ 1.0001, -0.9999]))])"
      ]
     },
     "execution_count": 67,
     "metadata": {},
     "output_type": "execute_result"
    }
   ],
   "source": [
    "list(model.parameters())\n",
    "model.state_dict()"
   ]
  },
  {
   "cell_type": "code",
   "execution_count": 26,
   "metadata": {},
   "outputs": [
    {
     "data": {
      "text/plain": [
       "tensor([[ 1., -1.],\n",
       "        [ 1.,  3.]])"
      ]
     },
     "execution_count": 26,
     "metadata": {},
     "output_type": "execute_result"
    }
   ],
   "source": [
    "data_set.w"
   ]
  },
  {
   "cell_type": "code",
   "execution_count": null,
   "metadata": {},
   "outputs": [],
   "source": []
  }
 ],
 "metadata": {
  "kernelspec": {
   "display_name": "PytochJN",
   "language": "python",
   "name": "pytochjn"
  },
  "language_info": {
   "codemirror_mode": {
    "name": "ipython",
    "version": 3
   },
   "file_extension": ".py",
   "mimetype": "text/x-python",
   "name": "python",
   "nbconvert_exporter": "python",
   "pygments_lexer": "ipython3",
   "version": "3.8.1"
  }
 },
 "nbformat": 4,
 "nbformat_minor": 2
}
