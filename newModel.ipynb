{
 "cells": [
  {
   "cell_type": "markdown",
   "metadata": {},
   "source": [
    "# Model where inputs are kept seperate"
   ]
  },
  {
   "cell_type": "markdown",
   "metadata": {},
   "source": [
    "## Prep"
   ]
  },
  {
   "cell_type": "code",
   "execution_count": 1,
   "metadata": {},
   "outputs": [],
   "source": [
    "import torch\n",
    "import torch.nn as nn\n",
    "import torchvision.transforms as transforms\n",
    "import torchvision.datasets as dsets\n",
    "import torch.nn.functional as F\n",
    "import matplotlib.pylab as plt\n",
    "import seaborn as sns\n",
    "import numpy as np\n",
    "from time import time\n",
    "from torch.utils.data import Dataset"
   ]
  },
  {
   "cell_type": "code",
   "execution_count": 2,
   "metadata": {},
   "outputs": [],
   "source": [
    "def plot_accuracy_loss(training_results):\n",
    "    plt.subplot(2, 1, 1)\n",
    "    plt.plot(training_results['training_loss'], 'r')\n",
    "    plt.ylabel('loss')\n",
    "    plt.title('training loss iterations')\n",
    "    plt.subplot(2, 1, 2)\n",
    "    plt.plot(training_results['validation_accuracy'])\n",
    "    plt.ylabel('accuracy')\n",
    "    plt.xlabel('epochs')\n",
    "    plt.show()\n",
    "\n",
    "def show_data(data_sample):\n",
    "    plt.imshow(data_sample[0].numpy().reshape(28, 28), cmap='gray')\n",
    "    plt.title('y = ' + str(data_sample[1]))\n",
    "    plt.show()\n",
    "\n",
    "def show_dataComp(data_sample,y):\n",
    "    plt.subplot(1,2,1)\n",
    "    plt.imshow(data_sample[0].numpy().reshape(28, 28), cmap='gray')\n",
    "    plt.subplot(1,2,2)\n",
    "    plt.imshow(data_sample[1].numpy().reshape(28, 28), cmap='gray')\n",
    "    plt.title('y = ' + str(y))\n",
    "\n",
    "    plt.show()"
   ]
  },
  {
   "cell_type": "markdown",
   "metadata": {},
   "source": [
    "## Data Pairing"
   ]
  },
  {
   "cell_type": "code",
   "execution_count": 3,
   "metadata": {},
   "outputs": [],
   "source": [
    "def indlist(target):\n",
    "    indlist = [[],[],[],[],[]]\n",
    "    \n",
    "    for i in range(len(target)):\n",
    "        if target[i] < 5:\n",
    "            indlist[target[i]].append(i)\n",
    "    return indlist\n",
    "\n",
    "def subData(dataSet):\n",
    "    #gets all the indices of the data obsv with same y from the dataset that is passed in only for 0-4\n",
    "    indices = indlist(dataSet.targets)\n",
    "    # a list of datasets where each dataset has the data for the same number\n",
    "    subsets = []\n",
    "    [subsets.append(torch.utils.data.Subset(dataSet, i)) for i in indices]\n",
    "    return subsets\n",
    "    "
   ]
  },
  {
   "cell_type": "code",
   "execution_count": 4,
   "metadata": {},
   "outputs": [],
   "source": [
    "def comparisonDataConsecutive(dataSet):\n",
    "    subsets = subData(dataSet)\n",
    "    # a list of the size of the possible pairs\n",
    "    comp = []\n",
    "    for indi in range(len(subsets) - 1):\n",
    "        comp.append(int(min(len(subsets[indi]), len(subsets[indi + 1]))))\n",
    "    tot1 = sum(comp)\n",
    "    # img pair data stored\n",
    "    x = torch.zeros([tot1, 2, 28, 28], dtype=torch.float32)\n",
    "    # greater than or less than label stored\n",
    "    y = torch.zeros([tot1,1])\n",
    "    # 1 for first pic greater, 0 for first pic less\n",
    "    k = 0\n",
    "    # does the actual pairing\n",
    "    for i in range(len(subsets) - 1):\n",
    "        for j in range(int(comp[i] / 2)):\n",
    "            x[k][0] = subsets[i][j][0]\n",
    "            x[k][1] = subsets[i + 1][j][0]\n",
    "            y[k][0] = 0\n",
    "            k += 1\n",
    "        for j in range(int(comp[i] / 2), comp[i]):\n",
    "            x[k][1] = subsets[i][j][0]\n",
    "            x[k][0] = subsets[i + 1][j][0]\n",
    "            y[k][0] = 1\n",
    "            k += 1\n",
    "    return x,y"
   ]
  },
  {
   "cell_type": "code",
   "execution_count": 5,
   "metadata": {},
   "outputs": [],
   "source": [
    "def comparisonDataNonconsecutive(dataSet):\n",
    "    subsets = subData(dataSet)\n",
    "    # a dictionary of pairs and the size of the pairings\n",
    "    comp = {}\n",
    "    \n",
    "    for i in range(len(subsets) - 2):\n",
    "        for j in range(i + 2, len(subsets), 1):\n",
    "            comp[(i, j)] = int(min(len(subsets[i]), len(subsets[j])))\n",
    "    tot = sum(comp.values())\n",
    "    # greater than or less than label stored\n",
    "    x = torch.zeros([tot, 2, 28, 28], dtype=torch.float32)\n",
    "    # 1 for first pic greater, 0 for first pic less\n",
    "    y = torch.zeros([tot, 1])\n",
    "    k = 0\n",
    "    #the pairing\n",
    "    for key, values in comp.items():\n",
    "        for value in range(int(values / 2)):\n",
    "            x[k][0] = subsets[key[0]][value][0]\n",
    "            x[k][1] = subsets[key[1]][value][0]\n",
    "            y[k][0] = 0\n",
    "            k += 1\n",
    "        for value in range(int(values / 2), values):\n",
    "            x[k][0] = subsets[key[1]][value][0]\n",
    "            x[k][1] = subsets[key[0]][value][0]\n",
    "            y[k][0] = 1\n",
    "            k += 1\n",
    "    return x,y\n"
   ]
  },
  {
   "cell_type": "code",
   "execution_count": 6,
   "metadata": {},
   "outputs": [],
   "source": [
    "def comparisonAll(dataSet):\n",
    "    subsets = subData(dataSet)\n",
    "    # a dictionary of pairs(tuple) and the size of the pairings\n",
    "    comp = {}\n",
    "    for i in range(len(subsets) - 1):\n",
    "        for j in range(i + 1, len(subsets), 1):\n",
    "            comp[(i, j)] = int(min(len(subsets[i]), len(subsets[j])))\n",
    "    #print(len(comp.keys()))\n",
    "    #print(comp.keys())\n",
    "    tot = sum(comp.values())\n",
    "    # greater than or less than label stored\n",
    "    x = torch.zeros([tot, 2, 28, 28], dtype=torch.float32)\n",
    "    # 1 for first pic greater, 0 for first pic less\n",
    "    y = torch.zeros([tot, 1])\n",
    "    z = list()\n",
    "    k = 0\n",
    "    # the pairining\n",
    "    for key, values in comp.items():\n",
    "        for value in range(int(values / 2)):\n",
    "            x[k][0] = subsets[key[0]][value][0]\n",
    "            x[k][1] = subsets[key[1]][value][0]\n",
    "            y[k][0] = 0\n",
    "            z.append(key)\n",
    "            k += 1\n",
    "        for value in range(int(values / 2), values):\n",
    "            x[k][0] = subsets[key[1]][value][0]\n",
    "            x[k][1] = subsets[key[0]][value][0]\n",
    "            y[k][0] = 1\n",
    "            a = key[0]\n",
    "            b = key[1]\n",
    "            c = (b,a)\n",
    "            z.append(c)\n",
    "            k += 1\n",
    "    return x,y,z"
   ]
  },
  {
   "cell_type": "code",
   "execution_count": 8,
   "metadata": {},
   "outputs": [],
   "source": [
    "class Trainsetcomp(Dataset):\n",
    "    def __init__(self, x, y):\n",
    "        self.len = (x.shape[0])\n",
    "        self.x = x\n",
    "        self.y = y \n",
    "\n",
    "    def __getitem__(self, index):\n",
    "        return (self.x[index], self.y[index])\n",
    "\n",
    "    def __len__(self):\n",
    "        return self.len\n",
    "    \n",
    "class TrainsetcompwithA(Dataset):\n",
    "    def __init__(self, x, y, z):\n",
    "        self.len = (x.shape[0])\n",
    "        self.x = x\n",
    "        self.y = y \n",
    "        #the pair\n",
    "        self.z = z\n",
    "\n",
    "    def __getitem__(self, index):\n",
    "        return (self.x[index], self.y[index], self.z[index])\n",
    "\n",
    "    def __len__(self):\n",
    "        return self.len"
   ]
  },
  {
   "cell_type": "code",
   "execution_count": 9,
   "metadata": {},
   "outputs": [],
   "source": [
    "transform = transforms.Compose([transforms.ToTensor(),\n",
    "                              transforms.Normalize((0.5,), (0.5,)),])\n",
    "\n",
    "trainset = dsets.MNIST(root='./../data',\n",
    "                            train=True,\n",
    "                            download=True,\n",
    "                            transform=transform)\n",
    "valset = dsets.MNIST(root='./../data',\n",
    "                            train=False,\n",
    "                            download=True,\n",
    "                            transform=transform)"
   ]
  },
  {
   "cell_type": "code",
   "execution_count": 11,
   "metadata": {},
   "outputs": [],
   "source": [
    "x, y = comparisonDataConsecutive(trainset)\n",
    "traindataComp = Trainsetcomp(x,y)\n",
    "x,y = comparisonDataConsecutive(valset)\n",
    "valdataComp = Trainsetcomp(x,y)"
   ]
  },
  {
   "cell_type": "code",
   "execution_count": 12,
   "metadata": {},
   "outputs": [],
   "source": [
    "trainloader = torch.utils.data.DataLoader(traindataComp,\n",
    "                                          batch_size=64,\n",
    "                                          shuffle=True)\n",
    "valloader = torch.utils.data.DataLoader(valdataComp,\n",
    "                                          batch_size=64,\n",
    "                                          shuffle=True)\n",
    "x,y,z = comparisonAll(valset)\n",
    "testdata = TrainsetcompwithA(x,y,z)\n",
    "testloader = torch.utils.data.DataLoader(testdata,\n",
    "                                          batch_size=64,\n",
    "                                          shuffle=F)\n",
    "# in the test loader: z is a list of size 2 of two [64] shape tensors. - it turned the tuple into a list of tensors"
   ]
  },
  {
   "cell_type": "code",
   "execution_count": 13,
   "metadata": {},
   "outputs": [
    {
     "data": {
      "image/png": "[encoded data removed]",
      "text/plain": [
       "<Figure size 432x288 with 2 Axes>"
      ]
     },
     "metadata": {
      "needs_background": "light"
     },
     "output_type": "display_data"
    },
    {
     "name": "stdout",
     "output_type": "stream",
     "text": [
      "tensor(2) tensor(3)\n"
     ]
    }
   ],
   "source": [
    "## showing what the z in the test loader is- ignore\n",
    "i = 1\n",
    "j = 0\n",
    "for x,y,z in testloader:\n",
    "    j+=1\n",
    "    p = x[i,:,:,:]\n",
    "    show_dataComp(p,y[i,:])\n",
    "    #print(z)\n",
    "    print(z[0][i],z[1][i])\n",
    "    if j >= 1:\n",
    "        break"
   ]
  },
  {
   "cell_type": "markdown",
   "metadata": {},
   "source": [
    "## Model"
   ]
  },
  {
   "cell_type": "code",
   "execution_count": 14,
   "metadata": {},
   "outputs": [],
   "source": [
    "ind = 784\n",
    "hlayers1 = [128,64,10]\n",
    "hlayer2 = 32\n",
    "outd = 1"
   ]
  },
  {
   "cell_type": "code",
   "execution_count": 28,
   "metadata": {},
   "outputs": [],
   "source": [
    "class Model(nn.Module):\n",
    "    \n",
    "    def __init__(self, ind, hlayers1, hlayers2, outd):\n",
    "        super(Model, self).__init__()\n",
    "        self.net1lin1 = nn.Linear(ind, hlayers1[0])\n",
    "        self.net1lin2 = nn.Linear(hlayers1[0], hlayers1[1])\n",
    "        self.net1lin3 = nn.Linear(hlayers1[1], hlayers1[2])\n",
    "        \n",
    "        self.net2lin1 = nn.Linear(ind, hlayers1[0])\n",
    "        self.net2lin2 = nn.Linear(hlayers1[0], hlayers1[1])\n",
    "        self.net2lin3 = nn.Linear(hlayers1[1], hlayers1[2])\n",
    "        \n",
    "        self.agg1 = nn.Linear(2*hlayers1[2], hlayers2)\n",
    "        self.agg1 = nn.Linear(hlayers2, outd)\n",
    "        #self.activations1 = []\n",
    "        #self.activations2 = []\n",
    "        #self.activations3 = []\n",
    "        self.activations = []\n",
    "        self.pairs = []\n",
    "        \n",
    "    def forward(self, x, recActivations = False):\n",
    "        if recActivations:\n",
    "            print(\"not done yet\")\n",
    "        else:\n",
    "            x1 = x[0].view(-1,784)\n",
    "            x2 = x[1].view(-1,784)\n",
    "            \n",
    "            a1 = torch.relu(self.net1lin1(x1))\n",
    "            a2 = torch.relu(self.net1lin2(a1))\n",
    "            a3 = torch.relu(self.net1lin3(a2))\n",
    "            \n",
    "            \n",
    "            b1 = torch.relu(self.net2lin1(x2))\n",
    "            b2 = torch.relu(self.net2lin2(b1))\n",
    "            b3 = torch.relu(self.net2lin3(b2))\n",
    "            \n",
    "            \n",
    "            return a3,b3\n",
    "        \n",
    "    def setPair(self, pair):\n",
    "        self.pairs.append(pair)\n"
   ]
  },
  {
   "cell_type": "code",
   "execution_count": 27,
   "metadata": {},
   "outputs": [
    {
     "data": {
      "image/png": "[encoded data removed]",
      "text/plain": [
       "<Figure size 432x288 with 2 Axes>"
      ]
     },
     "metadata": {
      "needs_background": "light"
     },
     "output_type": "display_data"
    }
   ],
   "source": [
    "x = testdata[0][0]\n",
    "show_dataComp(x, testdata[0][1])"
   ]
  },
  {
   "cell_type": "code",
   "execution_count": 29,
   "metadata": {},
   "outputs": [],
   "source": [
    "model = Model(ind,hlayers1,hlayer2,outd)"
   ]
  },
  {
   "cell_type": "code",
   "execution_count": 33,
   "metadata": {},
   "outputs": [
    {
     "data": {
      "text/plain": [
       "torch.Size([1, 10])"
      ]
     },
     "execution_count": 33,
     "metadata": {},
     "output_type": "execute_result"
    }
   ],
   "source": [
    "a,b = model(x)\n"
   ]
  },
  {
   "cell_type": "code",
   "execution_count": null,
   "metadata": {},
   "outputs": [],
   "source": []
  }
 ],
 "metadata": {
  "kernelspec": {
   "display_name": "PytochJN",
   "language": "python",
   "name": "pytochjn"
  },
  "language_info": {
   "codemirror_mode": {
    "name": "ipython",
    "version": 3
   },
   "file_extension": ".py",
   "mimetype": "text/x-python",
   "name": "python",
   "nbconvert_exporter": "python",
   "pygments_lexer": "ipython3",
   "version": "3.8.1"
  }
 },
 "nbformat": 4,
 "nbformat_minor": 2
}
