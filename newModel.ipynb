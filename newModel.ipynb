{
 "cells": [
  {
   "cell_type": "markdown",
   "metadata": {},
   "source": [
    "# Model where inputs are kept seperate"
   ]
  },
  {
   "cell_type": "markdown",
   "metadata": {},
   "source": [
    "## Prep"
   ]
  },
  {
   "cell_type": "code",
   "execution_count": 1,
   "metadata": {},
   "outputs": [],
   "source": [
    "import torch\n",
    "import torch.nn as nn\n",
    "import torchvision.transforms as transforms\n",
    "import torchvision.datasets as dsets\n",
    "import torch.nn.functional as F\n",
    "import matplotlib.pylab as plt\n",
    "import seaborn as sns\n",
    "import numpy as np\n",
    "from time import time\n",
    "from torch.utils.data import Dataset"
   ]
  },
  {
   "cell_type": "code",
   "execution_count": 2,
   "metadata": {},
   "outputs": [],
   "source": [
    "def plot_accuracy_loss(training_results):\n",
    "    plt.subplot(2, 1, 1)\n",
    "    plt.plot(training_results['training_loss'], 'r')\n",
    "    plt.ylabel('loss')\n",
    "    plt.title('training loss iterations')\n",
    "    plt.subplot(2, 1, 2)\n",
    "    plt.plot(training_results['validation_accuracy'])\n",
    "    plt.ylabel('accuracy')\n",
    "    plt.xlabel('epochs')\n",
    "    plt.show()\n",
    "\n",
    "def show_data(data_sample):\n",
    "    plt.imshow(data_sample[0].numpy().reshape(28, 28), cmap='gray')\n",
    "    plt.title('y = ' + str(data_sample[1]))\n",
    "    plt.show()\n",
    "\n",
    "def show_dataComp(data_sample,y):\n",
    "    plt.subplot(1,2,1)\n",
    "    plt.imshow(data_sample[0].numpy().reshape(28, 28), cmap='gray')\n",
    "    plt.subplot(1,2,2)\n",
    "    plt.imshow(data_sample[1].numpy().reshape(28, 28), cmap='gray')\n",
    "    plt.title('y = ' + str(y))\n",
    "\n",
    "    plt.show()"
   ]
  },
  {
   "cell_type": "markdown",
   "metadata": {},
   "source": [
    "## Data Pairing"
   ]
  },
  {
   "cell_type": "code",
   "execution_count": 3,
   "metadata": {},
   "outputs": [],
   "source": [
    "def indlist(target):\n",
    "    indlist = [[],[],[],[],[]]\n",
    "    \n",
    "    for i in range(len(target)):\n",
    "        if target[i] < 5:\n",
    "            indlist[target[i]].append(i)\n",
    "    return indlist\n",
    "\n",
    "def subData(dataSet):\n",
    "    #gets all the indices of the data obsv with same y from the dataset that is passed in only for 0-4\n",
    "    indices = indlist(dataSet.targets)\n",
    "    # a list of datasets where each dataset has the data for the same number\n",
    "    subsets = []\n",
    "    [subsets.append(torch.utils.data.Subset(dataSet, i)) for i in indices]\n",
    "    return subsets\n",
    "    "
   ]
  },
  {
   "cell_type": "code",
   "execution_count": 4,
   "metadata": {},
   "outputs": [],
   "source": [
    "def comparisonDataConsecutive(dataSet):\n",
    "    subsets = subData(dataSet)\n",
    "    # a list of the size of the possible pairs\n",
    "    comp = []\n",
    "    for indi in range(len(subsets) - 1):\n",
    "        comp.append(int(min(len(subsets[indi]), len(subsets[indi + 1]))))\n",
    "    tot1 = sum(comp)\n",
    "    # img pair data stored\n",
    "    x = torch.zeros([tot1, 2, 28, 28], dtype=torch.float32)\n",
    "    # greater than or less than label stored\n",
    "    y = torch.zeros([tot1,1])\n",
    "    # 1 for first pic greater, 0 for first pic less\n",
    "    k = 0\n",
    "    # does the actual pairing\n",
    "    for i in range(len(subsets) - 1):\n",
    "        for j in range(int(comp[i] / 2)):\n",
    "            x[k][0] = subsets[i][j][0]\n",
    "            x[k][1] = subsets[i + 1][j][0]\n",
    "            y[k][0] = 0\n",
    "            k += 1\n",
    "        for j in range(int(comp[i] / 2), comp[i]):\n",
    "            x[k][1] = subsets[i][j][0]\n",
    "            x[k][0] = subsets[i + 1][j][0]\n",
    "            y[k][0] = 1\n",
    "            k += 1\n",
    "    return x,y"
   ]
  },
  {
   "cell_type": "code",
   "execution_count": 5,
   "metadata": {},
   "outputs": [],
   "source": [
    "def comparisonDataNonconsecutive(dataSet):\n",
    "    subsets = subData(dataSet)\n",
    "    # a dictionary of pairs and the size of the pairings\n",
    "    comp = {}\n",
    "    \n",
    "    for i in range(len(subsets) - 2):\n",
    "        for j in range(i + 2, len(subsets), 1):\n",
    "            comp[(i, j)] = int(min(len(subsets[i]), len(subsets[j])))\n",
    "    tot = sum(comp.values())\n",
    "    # greater than or less than label stored\n",
    "    x = torch.zeros([tot, 2, 28, 28], dtype=torch.float32)\n",
    "    # 1 for first pic greater, 0 for first pic less\n",
    "    y = torch.zeros([tot, 1])\n",
    "    k = 0\n",
    "    #the pairing\n",
    "    for key, values in comp.items():\n",
    "        for value in range(int(values / 2)):\n",
    "            x[k][0] = subsets[key[0]][value][0]\n",
    "            x[k][1] = subsets[key[1]][value][0]\n",
    "            y[k][0] = 0\n",
    "            k += 1\n",
    "        for value in range(int(values / 2), values):\n",
    "            x[k][0] = subsets[key[1]][value][0]\n",
    "            x[k][1] = subsets[key[0]][value][0]\n",
    "            y[k][0] = 1\n",
    "            k += 1\n",
    "    return x,y\n"
   ]
  },
  {
   "cell_type": "code",
   "execution_count": 6,
   "metadata": {},
   "outputs": [],
   "source": [
    "def comparisonAll(dataSet):\n",
    "    subsets = subData(dataSet)\n",
    "    # a dictionary of pairs(tuple) and the size of the pairings\n",
    "    comp = {}\n",
    "    for i in range(len(subsets) - 1):\n",
    "        for j in range(i + 1, len(subsets), 1):\n",
    "            comp[(i, j)] = int(min(len(subsets[i]), len(subsets[j])))\n",
    "    #print(len(comp.keys()))\n",
    "    #print(comp.keys())\n",
    "    tot = sum(comp.values())\n",
    "    # greater than or less than label stored\n",
    "    x = torch.zeros([tot, 2, 28, 28], dtype=torch.float32)\n",
    "    # 1 for first pic greater, 0 for first pic less\n",
    "    y = torch.zeros([tot, 1])\n",
    "    z = list()\n",
    "    k = 0\n",
    "    # the pairining\n",
    "    for key, values in comp.items():\n",
    "        for value in range(int(values / 2)):\n",
    "            x[k][0] = subsets[key[0]][value][0]\n",
    "            x[k][1] = subsets[key[1]][value][0]\n",
    "            y[k][0] = 0\n",
    "            z.append(key)\n",
    "            k += 1\n",
    "        for value in range(int(values / 2), values):\n",
    "            x[k][0] = subsets[key[1]][value][0]\n",
    "            x[k][1] = subsets[key[0]][value][0]\n",
    "            y[k][0] = 1\n",
    "            a = key[0]\n",
    "            b = key[1]\n",
    "            c = (b,a)\n",
    "            z.append(c)\n",
    "            k += 1\n",
    "    return x,y,z"
   ]
  },
  {
   "cell_type": "code",
   "execution_count": 7,
   "metadata": {},
   "outputs": [],
   "source": [
    "class Trainsetcomp(Dataset):\n",
    "    def __init__(self, x, y):\n",
    "        self.len = (x.shape[0])\n",
    "        self.x = x\n",
    "        self.y = y \n",
    "\n",
    "    def __getitem__(self, index):\n",
    "        return (self.x[index], self.y[index])\n",
    "\n",
    "    def __len__(self):\n",
    "        return self.len\n",
    "    \n",
    "class TrainsetcompwithA(Dataset):\n",
    "    def __init__(self, x, y, z):\n",
    "        self.len = (x.shape[0])\n",
    "        self.x = x\n",
    "        self.y = y \n",
    "        #the pair\n",
    "        self.z = z\n",
    "\n",
    "    def __getitem__(self, index):\n",
    "        return (self.x[index], self.y[index], self.z[index])\n",
    "\n",
    "    def __len__(self):\n",
    "        return self.len"
   ]
  },
  {
   "cell_type": "code",
   "execution_count": 8,
   "metadata": {},
   "outputs": [],
   "source": [
    "transform = transforms.Compose([transforms.ToTensor(),\n",
    "                              transforms.Normalize((0.5,), (0.5,)),])\n",
    "\n",
    "trainset = dsets.MNIST(root='./../data',\n",
    "                            train=True,\n",
    "                            download=True,\n",
    "                            transform=transform)\n",
    "valset = dsets.MNIST(root='./../data',\n",
    "                            train=False,\n",
    "                            download=True,\n",
    "                            transform=transform)"
   ]
  },
  {
   "cell_type": "code",
   "execution_count": 9,
   "metadata": {},
   "outputs": [],
   "source": [
    "x, y = comparisonDataConsecutive(trainset)\n",
    "traindataComp = Trainsetcomp(x,y)\n",
    "x,y = comparisonDataConsecutive(valset)\n",
    "valdataComp = Trainsetcomp(x,y)"
   ]
  },
  {
   "cell_type": "code",
   "execution_count": 10,
   "metadata": {},
   "outputs": [],
   "source": [
    "trainloader = torch.utils.data.DataLoader(traindataComp,\n",
    "                                          batch_size=64,\n",
    "                                          shuffle=True)\n",
    "valloader = torch.utils.data.DataLoader(valdataComp,\n",
    "                                          batch_size=64,\n",
    "                                          shuffle=True)\n",
    "x,y,z = comparisonAll(valset)\n",
    "testdata = TrainsetcompwithA(x,y,z)\n",
    "testloader = torch.utils.data.DataLoader(testdata,\n",
    "                                          batch_size=64,\n",
    "                                          shuffle=F)\n",
    "# in the test loader: z is a list of size 2 of two [64] shape tensors. - it turned the tuple into a list of tensors"
   ]
  },
  {
   "cell_type": "code",
   "execution_count": 11,
   "metadata": {},
   "outputs": [
    {
     "data": {
      "image/png": "[encoded data removed]",
      "text/plain": [
       "<Figure size 432x288 with 2 Axes>"
      ]
     },
     "metadata": {
      "needs_background": "light"
     },
     "output_type": "display_data"
    },
    {
     "name": "stdout",
     "output_type": "stream",
     "text": [
      "tensor(4) tensor(0)\n"
     ]
    }
   ],
   "source": [
    "## showing what the z in the test loader is- ignore\n",
    "i = 1\n",
    "j = 0\n",
    "for x,y,z in testloader:\n",
    "    j+=1\n",
    "    p = x[i,:,:,:]\n",
    "    show_dataComp(p,y[i,:])\n",
    "    #print(z)\n",
    "    print(z[0][i],z[1][i])\n",
    "    if j >= 1:\n",
    "        break"
   ]
  },
  {
   "cell_type": "markdown",
   "metadata": {},
   "source": [
    "## Model"
   ]
  },
  {
   "cell_type": "code",
   "execution_count": 12,
   "metadata": {},
   "outputs": [],
   "source": [
    "ind = 784\n",
    "hlayers1 = [128,64,10]\n",
    "hlayer2 = 32\n",
    "outd = 1"
   ]
  },
  {
   "cell_type": "code",
   "execution_count": 152,
   "metadata": {},
   "outputs": [],
   "source": [
    "class Model(nn.Module):\n",
    "    \n",
    "    def __init__(self, ind, hlayers1, hlayers2, outd):\n",
    "        super(Model, self).__init__()\n",
    "        self.net1lin1 = nn.Linear(ind, hlayers1[0])\n",
    "        self.net1lin2 = nn.Linear(hlayers1[0], hlayers1[1])\n",
    "        self.net1lin3 = nn.Linear(hlayers1[1], hlayers1[2])\n",
    "        \n",
    "        self.net2lin1 = nn.Linear(ind, hlayers1[0])\n",
    "        self.net2lin2 = nn.Linear(hlayers1[0], hlayers1[1])\n",
    "        self.net2lin3 = nn.Linear(hlayers1[1], hlayers1[2])\n",
    "        \n",
    "        self.agg1 = nn.Linear(2*hlayers1[2], hlayers2)\n",
    "        self.agg2 = nn.Linear(hlayers2, outd)\n",
    "        self.n1l1 = []\n",
    "        self.n1l2 = []\n",
    "        self.n1l3 = []\n",
    "        self.n2l1 = []\n",
    "        self.n2l2 = []\n",
    "        self.n2l3 = []\n",
    "        self.ac1 = []\n",
    "        self.pairs = []\n",
    "        \n",
    "    def forward(self, x, recActivations = False):\n",
    "        if recActivations:\n",
    "            if len(list(x.shape)) < 4:\n",
    "                x1 = x[0].view(-1,784)\n",
    "                #print(x[1])\n",
    "                x2 = x[1].view(-1,784)\n",
    "                #print(x1.shape)\n",
    "            else:\n",
    "                x1 = x[:,0,:,:]\n",
    "                x1 = x1.view(x1.shape[0],784)\n",
    "                x2 = x[:,1,:,:]\n",
    "                x2 = x2.view(x2.shape[0],784)\n",
    "                \n",
    "            \n",
    "            a1 = torch.relu(self.net1lin1(x1))\n",
    "            self.n1l1.append(a1)\n",
    "            a2 = torch.relu(self.net1lin2(a1))\n",
    "            self.n1l2.append(a2)\n",
    "            a3 = torch.relu(self.net1lin3(a2))\n",
    "            self.n1l3.append(a3)\n",
    "            \n",
    "            \n",
    "            b1 = torch.relu(self.net2lin1(x2))\n",
    "            self.n2l1.append(b1)\n",
    "            b2 = torch.relu(self.net2lin2(b1))\n",
    "            self.n2l2.append(b2)\n",
    "            b3 = torch.relu(self.net2lin3(b2))\n",
    "            self.n2l3.append(b3)\n",
    "            \n",
    "            c = torch.cat((a3,b3),1)\n",
    "            #print(c.shape)\n",
    "            #c = torch.cat((a3,b3),0).view(-1)\n",
    "            c1 = torch.relu(self.agg1(c))\n",
    "            self.ac1.append(c1)\n",
    "            c2 = torch.sigmoid(self.agg2(c1))\n",
    "            \n",
    "            return c2\n",
    "            \n",
    "        else:\n",
    "            \n",
    "            if len(list(x.shape)) < 4:\n",
    "                x1 = x[0].view(-1,784)\n",
    "                #print(x[1])\n",
    "                x2 = x[1].view(-1,784)\n",
    "                #print(x1.shape)\n",
    "            else:\n",
    "                x1 = x[:,0,:,:]\n",
    "                x1 = x1.view(x1.shape[0],784)\n",
    "                x2 = x[:,1,:,:]\n",
    "                x2 = x2.view(x2.shape[0],784)\n",
    "                \n",
    "            \n",
    "            a1 = torch.relu(self.net1lin1(x1))\n",
    "            a2 = torch.relu(self.net1lin2(a1))\n",
    "            a3 = torch.relu(self.net1lin3(a2))\n",
    "            \n",
    "            \n",
    "            b1 = torch.relu(self.net2lin1(x2))\n",
    "            b2 = torch.relu(self.net2lin2(b1))\n",
    "            b3 = torch.relu(self.net2lin3(b2))\n",
    "            \n",
    "            c = torch.cat((a3,b3),1)\n",
    "            #print(c.shape)\n",
    "            #c = torch.cat((a3,b3),0).view(-1)\n",
    "            c1 = torch.relu(self.agg1(c))\n",
    "            c2 = torch.sigmoid(self.agg2(c1))\n",
    "            \n",
    "            return c2\n",
    "        \n",
    "    def setPair(self, pair):\n",
    "        self.pairs.append(pair)\n"
   ]
  },
  {
   "cell_type": "code",
   "execution_count": 153,
   "metadata": {},
   "outputs": [],
   "source": [
    "#x = testdata[0][0]\n",
    "#show_dataComp(x, testdata[0][1])"
   ]
  },
  {
   "cell_type": "code",
   "execution_count": 158,
   "metadata": {},
   "outputs": [],
   "source": [
    "model = Model(ind,hlayers1,hlayer2,outd)\n",
    "#a = model(testdata[0][0])\n",
    "#a"
   ]
  },
  {
   "cell_type": "code",
   "execution_count": 159,
   "metadata": {},
   "outputs": [],
   "source": [
    "def train(model, criterion, optimizer, epochs = 30):\n",
    "    lossList = []\n",
    "    #time0 = time()\n",
    "    for i in range(epochs):\n",
    "        runningLoss = 0\n",
    "        for x, y in trainloader:\n",
    "            optimizer.zero_grad()\n",
    "            yhat = model(x)\n",
    "            #print(yhat.shape)\n",
    "            #print(y.shape)\n",
    "            loss = criterion(yhat, y)\n",
    "            loss.backward()\n",
    "            optimizer.step()\n",
    "            runningLoss += loss.item()\n",
    "        print('epoch ', i, ' loss: ', str(runningLoss / len(traindataComp)))\n",
    "        lossList.append(runningLoss / len(traindataComp))\n",
    "    return lossList"
   ]
  },
  {
   "cell_type": "code",
   "execution_count": 160,
   "metadata": {},
   "outputs": [
    {
     "name": "stdout",
     "output_type": "stream",
     "text": [
      "epoch  0  loss:  0.01078224211829291\n",
      "epoch  1  loss:  0.009304856167698997\n",
      "epoch  2  loss:  0.00633980419995978\n",
      "epoch  3  loss:  0.0038838029684977564\n",
      "epoch  4  loss:  0.0027306694482342225\n",
      "epoch  5  loss:  0.0021493029999152054\n",
      "epoch  6  loss:  0.001877368435953916\n",
      "epoch  7  loss:  0.0015559985848377068\n",
      "epoch  8  loss:  0.0014340320403522597\n",
      "epoch  9  loss:  0.0012178708317849938\n",
      "epoch  10  loss:  0.0011382634119854265\n",
      "epoch  11  loss:  0.0009915686499494642\n",
      "epoch  12  loss:  0.0008912135568157132\n",
      "epoch  13  loss:  0.0008532937036338833\n",
      "epoch  14  loss:  0.0007531027160091755\n",
      "epoch  15  loss:  0.0006678331220608022\n",
      "epoch  16  loss:  0.001117653732686841\n",
      "epoch  17  loss:  0.0005739479014913641\n",
      "epoch  18  loss:  0.0005253707933968817\n",
      "epoch  19  loss:  0.0005293017159915394\n",
      "epoch  20  loss:  0.0004304711219262466\n",
      "epoch  21  loss:  0.0003580654589960693\n",
      "epoch  22  loss:  0.0003578098253531011\n",
      "epoch  23  loss:  0.0003655740186951007\n",
      "epoch  24  loss:  0.0002992712769554806\n"
     ]
    }
   ],
   "source": [
    "criterion = nn.BCELoss()\n",
    "optimizer = torch.optim.SGD(model.parameters(), lr=0.03)\n",
    "results = train(model,criterion,optimizer,25)"
   ]
  },
  {
   "cell_type": "code",
   "execution_count": 161,
   "metadata": {},
   "outputs": [
    {
     "name": "stdout",
     "output_type": "stream",
     "text": [
      "3926\n",
      "4004\n",
      "val set accuracy:  0.9805194805194806\n"
     ]
    }
   ],
   "source": [
    "totcount = 0\n",
    "correctcount = 0\n",
    "for x,y in valloader:\n",
    "    with torch.no_grad():\n",
    "        yhat = model(x)\n",
    "    ones = torch.ones(yhat.shape)\n",
    "    yhat = torch.where(yhat>.5, ones, yhat)\n",
    "    z = torch.zeros(yhat.shape)\n",
    "    yhat = torch.where(yhat<0.5, z, yhat)\n",
    "    wrongC = 0\n",
    "    for i in range(len(y)):\n",
    "        #print(i)\n",
    "        if yhat[i][0] == y[i][0]:\n",
    "            correctcount+=1\n",
    "            #p = torch.reshape(x[i], (2,28,28))\n",
    "            #show_dataComp(p, y[i])\n",
    "            \n",
    "        else:\n",
    "            #if wrongC < 2:\n",
    "                #p = torch.reshape(x[i], (2,28,28))\n",
    "                #show_dataComp(p, yhat[i])\n",
    "            wrongC += 1\n",
    "        totcount+=1\n",
    "print(correctcount)\n",
    "print(totcount)\n",
    "print('val set accuracy: ', correctcount/totcount)\n"
   ]
  },
  {
   "cell_type": "code",
   "execution_count": 162,
   "metadata": {},
   "outputs": [
    {
     "name": "stdout",
     "output_type": "stream",
     "text": [
      "9825\n",
      "9918\n",
      "test set accuracy:  0.9906231094978827\n"
     ]
    }
   ],
   "source": [
    "totcount = 0\n",
    "correctcount = 0\n",
    "for x,y,z in testloader:\n",
    "    with torch.no_grad():\n",
    "        yhat = model(x,True)\n",
    "    model.setPair(z)\n",
    "    ones = torch.ones(yhat.shape)\n",
    "    yhat = torch.where(yhat>.5, ones, yhat)\n",
    "    z = torch.zeros(yhat.shape)\n",
    "    yhat = torch.where(yhat<0.5, z, yhat)\n",
    "    wrongC = 0\n",
    "    for i in range(len(y)):\n",
    "        #print(i)\n",
    "        if yhat[i][0] == y[i][0]:\n",
    "            correctcount+=1\n",
    "            #p = torch.reshape(x[i], (2,28,28))\n",
    "            #show_dataComp(p, y[i])\n",
    "            \n",
    "        else:\n",
    "            #if wrongC < 2:\n",
    "                #p = torch.reshape(x[i], (2,28,28))\n",
    "                #show_dataComp(p, yhat[i])\n",
    "            wrongC += 1\n",
    "        totcount+=1\n",
    "print(correctcount)\n",
    "print(totcount)\n",
    "print('test set accuracy: ', correctcount/totcount)"
   ]
  },
  {
   "cell_type": "code",
   "execution_count": 171,
   "metadata": {},
   "outputs": [
    {
     "name": "stdout",
     "output_type": "stream",
     "text": [
      "9918\n",
      "9920\n",
      "155\n",
      "155\n",
      "[tensor([0, 3, 0, 2, 0, 2, 1, 0, 4, 0, 1, 0, 4, 1, 0, 2, 0, 1, 0, 1, 2, 3, 0, 2,\n",
      "        4, 3, 2, 4, 1, 4, 4, 0, 4, 0, 3, 0, 3, 1, 1, 2, 3, 0, 3, 2, 4, 4, 0, 3,\n",
      "        0, 2, 0, 0, 3, 4, 4, 1, 1, 2, 4, 1, 2, 3, 2, 3]), tensor([3, 1, 3, 3, 1, 4, 3, 1, 1, 4, 0, 2, 1, 0, 4, 0, 1, 0, 2, 0, 1, 4, 3, 4,\n",
      "        0, 0, 1, 0, 2, 2, 0, 1, 3, 1, 0, 4, 0, 4, 2, 4, 2, 4, 0, 0, 0, 0, 3, 2,\n",
      "        2, 1, 3, 4, 2, 3, 0, 3, 0, 3, 1, 2, 4, 2, 4, 4])]\n"
     ]
    }
   ],
   "source": [
    "#print(len(testdata))\n",
    "#print(len(testloader)*64)\n",
    "#print(len(model.n1l3))\n",
    "#print(len(model.pairs))\n",
    "print(model.pairs[0])"
   ]
  },
  {
   "cell_type": "markdown",
   "metadata": {},
   "source": [
    "## RSA Preprocess"
   ]
  },
  {
   "cell_type": "code",
   "execution_count": 186,
   "metadata": {},
   "outputs": [
    {
     "data": {
      "text/plain": [
       "9918"
      ]
     },
     "execution_count": 186,
     "metadata": {},
     "output_type": "execute_result"
    }
   ],
   "source": [
    "# last layer-  before the inputs are combined\n",
    "net1 = {0:[],1:[],2:[],3:[],4:[]}\n",
    "net2 = {0:[],1:[],2:[],3:[],4:[]}\n",
    "\n",
    "for num,n1,n2 in zip(model.pairs, model.n1l3, model.n2l3):\n",
    "    #print(num)\n",
    "    for i in range( len(num[0])):\n",
    "        nn1 = num[0][i].item()\n",
    "        nn2 = num[1][i].item()\n",
    "        net1[nn1].append(n1[i].numpy())\n",
    "        net2[nn2].append(n2[i].numpy())\n",
    "for key in net1.keys():\n",
    "        rep = np.array(net1[key])\n",
    "        net1[key] = rep\n",
    "for key in net2.keys():\n",
    "        rep = np.array(net2[key])\n",
    "        net2[key] = rep\n",
    "\n",
    "net2\n",
    "tota = 0\n",
    "for key in net1.keys():\n",
    "    #print(key)\n",
    "    tota +=len(net1[key])\n",
    "tota   \n",
    "# I avg over this- should i calculate variation?"
   ]
  },
  {
   "cell_type": "code",
   "execution_count": 211,
   "metadata": {},
   "outputs": [
    {
     "data": {
      "text/plain": [
       "{0: array([0.        , 0.02270868, 0.02743165, 3.451298  , 2.5189776 ,\n",
       "        3.482485  , 0.00465766, 0.0130514 , 0.01158277, 0.01553226],\n",
       "       dtype=float32),\n",
       " 1: array([0.        , 0.20562018, 0.14403307, 1.5850787 , 1.0635128 ,\n",
       "        0.01352642, 0.01018519, 0.01603615, 0.00397547, 0.0080237 ],\n",
       "       dtype=float32),\n",
       " 2: array([0.        , 1.4192814 , 0.22724456, 1.0606575 , 0.42853016,\n",
       "        0.01307661, 0.04057226, 0.01495758, 0.15296236, 0.35492963],\n",
       "       dtype=float32),\n",
       " 3: array([0.        , 2.3825645 , 0.5016595 , 0.84653896, 0.02495121,\n",
       "        0.00886979, 0.00646071, 0.00537598, 0.82254267, 1.1911602 ],\n",
       "       dtype=float32),\n",
       " 4: array([0.        , 4.8758907 , 2.2331488 , 0.02512791, 0.01675991,\n",
       "        0.05968692, 0.        , 0.00879957, 3.3590903 , 3.2235193 ],\n",
       "       dtype=float32)}"
      ]
     },
     "execution_count": 211,
     "metadata": {},
     "output_type": "execute_result"
    }
   ],
   "source": [
    "def mkAvgDict(activationsDict):\n",
    "    avgDict = {}\n",
    "    for key in activationsDict:\n",
    "        a = np.mean(activationsDict[key], axis=0)\n",
    "        avgDict[key] = a\n",
    "    return avgDict\n",
    "avgnet1 = mkAvgDict(net1)\n",
    "avgnet2 = mkAvgDict(net2)\n",
    "avgnet12 = {}\n",
    "for i in range(5):\n",
    "    avgnet12[i] = (avgnet1[i] + avgnet2[i])/2\n",
    "avgnet1"
   ]
  },
  {
   "cell_type": "code",
   "execution_count": 222,
   "metadata": {},
   "outputs": [],
   "source": [
    "avgnet1m = np.vstack((avgnet1[0],avgnet1[1],avgnet1[2],avgnet1[3],avgnet1[4]))\n",
    "avgnet2m = np.vstack((avgnet2[0],avgnet2[1],avgnet2[2],avgnet2[3],avgnet2[4]))\n",
    "avgnet12m = np.vstack((avgnet12[0],avgnet12[1],avgnet12[2],avgnet12[3],avgnet12[4]))\n",
    "def mkUnitbyRow(matrix):\n",
    "    unitMatrix = np.empty(list(matrix.shape))\n",
    "    for i in range(5):\n",
    "        unitMatrix[i] =  matrix[i]/np.linalg.norm(matrix[i])\n",
    "    return unitMatrix\n",
    "avgnet1m = mkUnitbyRow(avgnet1m)\n",
    "avgnet2m = mkUnitbyRow(avgnet2m)\n",
    "avgnet12m = mkUnitbyRow(avgnet12m)"
   ]
  },
  {
   "cell_type": "markdown",
   "metadata": {},
   "source": [
    "## RSA\n"
   ]
  },
  {
   "cell_type": "code",
   "execution_count": 223,
   "metadata": {},
   "outputs": [
    {
     "data": {
      "image/png": "[encoded data removed]",
      "text/plain": [
       "<Figure size 432x288 with 2 Axes>"
      ]
     },
     "metadata": {
      "needs_background": "light"
     },
     "output_type": "display_data"
    }
   ],
   "source": [
    "x = list(range(5))\n",
    "sim1= np.matmul(avgnet1m,np.transpose(avgnet1m))\n",
    "hm = sns.heatmap(sim1, xticklabels=x, yticklabels=x, cmap=\"GnBu\")"
   ]
  },
  {
   "cell_type": "code",
   "execution_count": 224,
   "metadata": {},
   "outputs": [
    {
     "data": {
      "image/png": "[encoded data removed]",
      "text/plain": [
       "<Figure size 432x288 with 2 Axes>"
      ]
     },
     "metadata": {
      "needs_background": "light"
     },
     "output_type": "display_data"
    }
   ],
   "source": [
    "sim2= np.matmul(avgnet2m,np.transpose(avgnet2m))\n",
    "hm = sns.heatmap(sim2, xticklabels=x, yticklabels=x, cmap=\"GnBu\")"
   ]
  },
  {
   "cell_type": "code",
   "execution_count": 225,
   "metadata": {},
   "outputs": [
    {
     "data": {
      "image/png": "[encoded data removed]",
      "text/plain": [
       "<Figure size 432x288 with 2 Axes>"
      ]
     },
     "metadata": {
      "needs_background": "light"
     },
     "output_type": "display_data"
    }
   ],
   "source": [
    "sim3= np.matmul(avgnet12m,np.transpose(avgnet12m))\n",
    "hm = sns.heatmap(sim3, xticklabels=x, yticklabels=x, cmap=\"GnBu\")"
   ]
  },
  {
   "cell_type": "code",
   "execution_count": null,
   "metadata": {},
   "outputs": [],
   "source": []
  }
 ],
 "metadata": {
  "kernelspec": {
   "display_name": "PytochJN",
   "language": "python",
   "name": "pytochjn"
  },
  "language_info": {
   "codemirror_mode": {
    "name": "ipython",
    "version": 3
   },
   "file_extension": ".py",
   "mimetype": "text/x-python",
   "name": "python",
   "nbconvert_exporter": "python",
   "pygments_lexer": "ipython3",
   "version": "3.8.1"
  }
 },
 "nbformat": 4,
 "nbformat_minor": 2
}
