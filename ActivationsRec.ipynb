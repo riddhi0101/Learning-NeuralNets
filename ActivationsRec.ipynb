{
 "cells": [
  {
   "cell_type": "markdown",
   "metadata": {},
   "source": [
    "# Activations recorded"
   ]
  },
  {
   "cell_type": "markdown",
   "metadata": {},
   "source": [
    "## Prep Functions- show images"
   ]
  },
  {
   "cell_type": "code",
   "execution_count": 67,
   "metadata": {},
   "outputs": [],
   "source": [
    "import torch\n",
    "import torch.nn as nn\n",
    "import torchvision.transforms as transforms\n",
    "import torchvision.datasets as dsets\n",
    "import torch.nn.functional as F\n",
    "import matplotlib.pylab as plt\n",
    "import seaborn as sns\n",
    "import numpy as np\n",
    "from time import time\n",
    "from torch.utils.data import Dataset"
   ]
  },
  {
   "cell_type": "code",
   "execution_count": 2,
   "metadata": {},
   "outputs": [],
   "source": [
    "def plot_accuracy_loss(training_results):\n",
    "    plt.subplot(2, 1, 1)\n",
    "    plt.plot(training_results['training_loss'], 'r')\n",
    "    plt.ylabel('loss')\n",
    "    plt.title('training loss iterations')\n",
    "    plt.subplot(2, 1, 2)\n",
    "    plt.plot(training_results['validation_accuracy'])\n",
    "    plt.ylabel('accuracy')\n",
    "    plt.xlabel('epochs')\n",
    "    plt.show()\n",
    "\n",
    "def show_data(data_sample):\n",
    "    plt.imshow(data_sample[0].numpy().reshape(28, 28), cmap='gray')\n",
    "    plt.title('y = ' + str(data_sample[1]))\n",
    "    plt.show()\n",
    "\n",
    "def show_dataComp(data_sample,y):\n",
    "    plt.subplot(1,2,1)\n",
    "    plt.imshow(data_sample[0].numpy().reshape(28, 28), cmap='gray')\n",
    "    plt.subplot(1,2,2)\n",
    "    plt.imshow(data_sample[1].numpy().reshape(28, 28), cmap='gray')\n",
    "    plt.title('y = ' + str(y))\n",
    "\n",
    "    plt.show()"
   ]
  },
  {
   "cell_type": "markdown",
   "metadata": {},
   "source": [
    "## Img Pairing and Data Prep"
   ]
  },
  {
   "cell_type": "markdown",
   "metadata": {},
   "source": [
    "1) traindataComp-trainloader: consecutive data pairs from the training set <br>\n",
    "2) valdataComp-valloader: consecutive data pairs from the test set <br>\n",
    "3) testdata- testloader: all data pairs from test set- keeps track of the pair <br>"
   ]
  },
  {
   "cell_type": "code",
   "execution_count": 3,
   "metadata": {},
   "outputs": [],
   "source": [
    "def indlist(target):\n",
    "    indlist = [[],[],[],[],[]]\n",
    "    \n",
    "    for i in range(len(target)):\n",
    "        if target[i] < 5:\n",
    "            indlist[target[i]].append(i)\n",
    "    return indlist\n",
    "\n",
    "def subData(dataSet):\n",
    "    #gets all the indices of the data obsv with same y from the dataset that is passed in only for 0-4\n",
    "    indices = indlist(dataSet.targets)\n",
    "    # a list of datasets where each dataset has the data for the same number\n",
    "    subsets = []\n",
    "    [subsets.append(torch.utils.data.Subset(dataSet, i)) for i in indices]\n",
    "    return subsets\n",
    "    "
   ]
  },
  {
   "cell_type": "code",
   "execution_count": 4,
   "metadata": {},
   "outputs": [],
   "source": [
    "def comparisonDataConsecutive(dataSet):\n",
    "    subsets = subData(dataSet)\n",
    "    # a list of the size of the possible pairs\n",
    "    comp = []\n",
    "    for indi in range(len(subsets) - 1):\n",
    "        comp.append(int(min(len(subsets[indi]), len(subsets[indi + 1]))))\n",
    "    tot1 = sum(comp)\n",
    "    # img pair data stored\n",
    "    x = torch.zeros([tot1, 2, 28, 28], dtype=torch.float32)\n",
    "    # greater than or less than label stored\n",
    "    y = torch.zeros([tot1,1])\n",
    "    # 1 for first pic greater, 0 for first pic less\n",
    "    k = 0\n",
    "    # does the actual pairing\n",
    "    for i in range(len(subsets) - 1):\n",
    "        for j in range(int(comp[i] / 2)):\n",
    "            x[k][0] = subsets[i][j][0]\n",
    "            x[k][1] = subsets[i + 1][j][0]\n",
    "            y[k][0] = 0\n",
    "            k += 1\n",
    "        for j in range(int(comp[i] / 2), comp[i]):\n",
    "            x[k][1] = subsets[i][j][0]\n",
    "            x[k][0] = subsets[i + 1][j][0]\n",
    "            y[k][0] = 1\n",
    "            k += 1\n",
    "    return x,y"
   ]
  },
  {
   "cell_type": "code",
   "execution_count": 5,
   "metadata": {},
   "outputs": [],
   "source": [
    "def comparisonDataNonconsecutive(dataSet):\n",
    "    subsets = subData(dataSet)\n",
    "    # a dictionary of pairs and the size of the pairings\n",
    "    comp = {}\n",
    "    \n",
    "    for i in range(len(subsets) - 2):\n",
    "        for j in range(i + 2, len(subsets), 1):\n",
    "            comp[(i, j)] = int(min(len(subsets[i]), len(subsets[j])))\n",
    "    tot = sum(comp.values())\n",
    "    # greater than or less than label stored\n",
    "    x = torch.zeros([tot, 2, 28, 28], dtype=torch.float32)\n",
    "    # 1 for first pic greater, 0 for first pic less\n",
    "    y = torch.zeros([tot, 1])\n",
    "    k = 0\n",
    "    #the pairing\n",
    "    for key, values in comp.items():\n",
    "        for value in range(int(values / 2)):\n",
    "            x[k][0] = subsets[key[0]][value][0]\n",
    "            x[k][1] = subsets[key[1]][value][0]\n",
    "            y[k][0] = 0\n",
    "            k += 1\n",
    "        for value in range(int(values / 2), values):\n",
    "            x[k][0] = subsets[key[1]][value][0]\n",
    "            x[k][1] = subsets[key[0]][value][0]\n",
    "            y[k][0] = 1\n",
    "            k += 1\n",
    "    return x,y\n"
   ]
  },
  {
   "cell_type": "code",
   "execution_count": 6,
   "metadata": {},
   "outputs": [],
   "source": [
    "def comparisonAll(dataSet):\n",
    "    subsets = subData(dataSet)\n",
    "    # a dictionary of pairs(tuple) and the size of the pairings\n",
    "    comp = {}\n",
    "    for i in range(len(subsets) - 1):\n",
    "        for j in range(i + 1, len(subsets), 1):\n",
    "            comp[(i, j)] = int(min(len(subsets[i]), len(subsets[j])))\n",
    "    #print(len(comp.keys()))\n",
    "    #print(comp.keys())\n",
    "    tot = sum(comp.values())\n",
    "    # greater than or less than label stored\n",
    "    x = torch.zeros([tot, 2, 28, 28], dtype=torch.float32)\n",
    "    # 1 for first pic greater, 0 for first pic less\n",
    "    y = torch.zeros([tot, 1])\n",
    "    z = list()\n",
    "    k = 0\n",
    "    # the pairining\n",
    "    for key, values in comp.items():\n",
    "        for value in range(int(values / 2)):\n",
    "            x[k][0] = subsets[key[0]][value][0]\n",
    "            x[k][1] = subsets[key[1]][value][0]\n",
    "            y[k][0] = 0\n",
    "            z.append(key)\n",
    "            k += 1\n",
    "        for value in range(int(values / 2), values):\n",
    "            x[k][0] = subsets[key[1]][value][0]\n",
    "            x[k][1] = subsets[key[0]][value][0]\n",
    "            y[k][0] = 1\n",
    "            a = key[0]\n",
    "            b = key[1]\n",
    "            c = (b,a)\n",
    "            z.append(c)\n",
    "            k += 1\n",
    "    return x,y,z"
   ]
  },
  {
   "cell_type": "code",
   "execution_count": 7,
   "metadata": {},
   "outputs": [],
   "source": [
    "class Trainsetcomp(Dataset):\n",
    "    def __init__(self, x, y):\n",
    "        self.len = (x.shape[0])\n",
    "        self.x = x\n",
    "        self.y = y \n",
    "\n",
    "    def __getitem__(self, index):\n",
    "        return (self.x[index], self.y[index])\n",
    "\n",
    "    def __len__(self):\n",
    "        return self.len"
   ]
  },
  {
   "cell_type": "code",
   "execution_count": 8,
   "metadata": {},
   "outputs": [],
   "source": [
    "class TrainsetcompwithA(Dataset):\n",
    "    def __init__(self, x, y, z):\n",
    "        self.len = (x.shape[0])\n",
    "        self.x = x\n",
    "        self.y = y \n",
    "        #the pair\n",
    "        self.z = z\n",
    "\n",
    "    def __getitem__(self, index):\n",
    "        return (self.x[index], self.y[index], self.z[index])\n",
    "\n",
    "    def __len__(self):\n",
    "        return self.len"
   ]
  },
  {
   "cell_type": "code",
   "execution_count": 9,
   "metadata": {},
   "outputs": [],
   "source": [
    "transform = transforms.Compose([transforms.ToTensor(),\n",
    "                              transforms.Normalize((0.5,), (0.5,)),])\n",
    "\n",
    "trainset = dsets.MNIST(root='./../data',\n",
    "                            train=True,\n",
    "                            download=True,\n",
    "                            transform=transform)\n",
    "valset = dsets.MNIST(root='./../data',\n",
    "                            train=False,\n",
    "                            download=True,\n",
    "                            transform=transform)"
   ]
  },
  {
   "cell_type": "code",
   "execution_count": 10,
   "metadata": {},
   "outputs": [],
   "source": [
    "x, y = comparisonDataConsecutive(trainset)\n",
    "traindataComp = Trainsetcomp(x,y)\n",
    "x,y = comparisonDataConsecutive(valset)\n",
    "valdataComp = Trainsetcomp(x,y)"
   ]
  },
  {
   "cell_type": "code",
   "execution_count": 11,
   "metadata": {},
   "outputs": [],
   "source": [
    "trainloader = torch.utils.data.DataLoader(traindataComp,\n",
    "                                          batch_size=64,\n",
    "                                          shuffle=True)\n",
    "valloader = torch.utils.data.DataLoader(valdataComp,\n",
    "                                          batch_size=64,\n",
    "                                          shuffle=True)\n",
    "x,y,z = comparisonAll(valset)\n",
    "testdata = TrainsetcompwithA(x,y,z)\n",
    "testloader = torch.utils.data.DataLoader(testdata,\n",
    "                                          batch_size=64,\n",
    "                                          shuffle=F)\n",
    "# in the test loader: z is a list of size 2 of two [64] shape tensors. - it turned the tuple into a list of tensors"
   ]
  },
  {
   "cell_type": "code",
   "execution_count": 12,
   "metadata": {},
   "outputs": [
    {
     "data": {
      "image/png": "[encoded data removed]",
      "text/plain": [
       "<Figure size 432x288 with 2 Axes>"
      ]
     },
     "metadata": {
      "needs_background": "light"
     },
     "output_type": "display_data"
    },
    {
     "name": "stdout",
     "output_type": "stream",
     "text": [
      "tensor(3) tensor(1)\n"
     ]
    }
   ],
   "source": [
    "## showing what the z in the test loader is- ignore\n",
    "i = 1\n",
    "j = 0\n",
    "for x,y,z in testloader:\n",
    "    j+=1\n",
    "    p = x[i,:,:,:]\n",
    "    show_dataComp(p,y[i,:])\n",
    "    #print(z)\n",
    "    print(z[0][i],z[1][i])\n",
    "    if j >= 1:\n",
    "        break"
   ]
  },
  {
   "cell_type": "markdown",
   "metadata": {},
   "source": [
    "## Model"
   ]
  },
  {
   "cell_type": "code",
   "execution_count": 13,
   "metadata": {},
   "outputs": [],
   "source": [
    "ind = 2 * 28 * 28\n",
    "hiddendim = [400,200,64]\n",
    "outd = 1\n",
    "# 0 if first image is less than and 1 if frist image is greater than"
   ]
  },
  {
   "cell_type": "code",
   "execution_count": 14,
   "metadata": {},
   "outputs": [],
   "source": [
    "class ModelFull(nn.Module):\n",
    "    def __init__(self, ind,h1d,h2d,h3d,outd):\n",
    "        super(ModelFull, self).__init__()\n",
    "        self.lin1 = nn.Linear(ind, h1d)\n",
    "        self.lin2 = nn.Linear(h1d, h2d)\n",
    "        self.lin3 = nn.Linear(h2d, h3d)\n",
    "        self.lin4 = nn.Linear(h3d, outd)\n",
    "        self.activations = []\n",
    "        self.pairs = []\n",
    "\n",
    "    def forward(self, x, recActivations = False):\n",
    "        if recActivations:\n",
    "            x1 = torch.relu(self.lin1(x))\n",
    "            x2 = torch.relu(self.lin2(x1))\n",
    "            x3 = torch.relu(self.lin3(x2))\n",
    "            self.activations.append(x3)\n",
    "            x4 = torch.sigmoid(self.lin4(x3))\n",
    "            return x4\n",
    "        else:\n",
    "            x1 = torch.relu(self.lin1(x))\n",
    "            x2 = torch.relu(self.lin2(x1))\n",
    "            x3 = torch.relu(self.lin3(x2))\n",
    "            x4 = torch.sigmoid(self.lin4(x3))\n",
    "            return x4\n",
    "        \n",
    "    def setPair(self, pair):\n",
    "        self.pairs.append(pair)"
   ]
  },
  {
   "cell_type": "code",
   "execution_count": 15,
   "metadata": {},
   "outputs": [],
   "source": [
    "def train(model, criterion, optimizer, epochs = 30):\n",
    "    lossList = []\n",
    "    #time0 = time()\n",
    "    for i in range(epochs):\n",
    "        runningLoss = 0\n",
    "        for x, y in trainloader:\n",
    "            optimizer.zero_grad()\n",
    "            yhat = model(x.view(-1, 2 * 28 *28))\n",
    "            #print(yhat.shape)\n",
    "            #print(y.shape)\n",
    "            loss = criterion(yhat, y)\n",
    "            loss.backward()\n",
    "            optimizer.step()\n",
    "            runningLoss += loss.item()\n",
    "        print('epoch ', i, ' loss: ', str(runningLoss / len(traindataComp)))\n",
    "        lossList.append(runningLoss / len(traindataComp))\n",
    "    return lossList"
   ]
  },
  {
   "cell_type": "code",
   "execution_count": 16,
   "metadata": {},
   "outputs": [],
   "source": [
    "model = ModelFull(ind,hiddendim[0],hiddendim[1],hiddendim[2], outd)"
   ]
  },
  {
   "cell_type": "code",
   "execution_count": 17,
   "metadata": {},
   "outputs": [
    {
     "name": "stdout",
     "output_type": "stream",
     "text": [
      "epoch  0  loss:  0.008382898135210865\n",
      "epoch  1  loss:  0.0037076317893083113\n",
      "epoch  2  loss:  0.0017978798901052413\n",
      "epoch  3  loss:  0.0013567086444954267\n",
      "epoch  4  loss:  0.001148785877678315\n",
      "epoch  5  loss:  0.0009722499657878665\n",
      "epoch  6  loss:  0.0009141856029918452\n",
      "epoch  7  loss:  0.000826726587953945\n",
      "epoch  8  loss:  0.014102130020917843\n",
      "epoch  9  loss:  0.0008667411049955749\n",
      "epoch  10  loss:  0.0007640555097028285\n",
      "epoch  11  loss:  0.0006042474285051855\n",
      "epoch  12  loss:  0.0005407521613680795\n",
      "epoch  13  loss:  0.0005119333132595079\n",
      "epoch  14  loss:  0.0003992040380334615\n",
      "epoch  15  loss:  0.00034035448462118196\n",
      "epoch  16  loss:  0.00034657194945411787\n",
      "epoch  17  loss:  0.00027034474367135903\n",
      "epoch  18  loss:  0.00021773700629177279\n",
      "epoch  19  loss:  0.0002021162805267537\n",
      "epoch  20  loss:  0.00046017364506392705\n",
      "epoch  21  loss:  0.00021771397766885266\n",
      "epoch  22  loss:  9.890810406107606e-05\n",
      "epoch  23  loss:  8.204218072101346e-05\n",
      "epoch  24  loss:  8.750546223402011e-05\n"
     ]
    }
   ],
   "source": [
    "criterion = nn.BCELoss()\n",
    "optimizer = torch.optim.SGD(model.parameters(), lr=0.03)\n",
    "results = train(model,criterion,optimizer,25)"
   ]
  },
  {
   "cell_type": "code",
   "execution_count": 20,
   "metadata": {},
   "outputs": [
    {
     "name": "stdout",
     "output_type": "stream",
     "text": [
      "3938\n",
      "4004\n",
      "val set accuracy:  0.9835164835164835\n"
     ]
    }
   ],
   "source": [
    "## consecutive test set\n",
    "totcount = 0\n",
    "correctcount = 0\n",
    "for x,y in valloader:\n",
    "    x = x.view(-1, 2 * 28 *28)\n",
    "    with torch.no_grad():\n",
    "        yhat = model(x)\n",
    "    ones = torch.ones(yhat.shape)\n",
    "    yhat = torch.where(yhat>.5, ones, yhat)\n",
    "    z = torch.zeros(yhat.shape)\n",
    "    yhat = torch.where(yhat<0.5, z, yhat)\n",
    "    wrongC = 0\n",
    "    for i in range(len(y)):\n",
    "        #print(i)\n",
    "        if yhat[i][0] == y[i][0]:\n",
    "            correctcount+=1\n",
    "            #p = torch.reshape(x[i], (2,28,28))\n",
    "            #show_dataComp(p, y[i])\n",
    "            \n",
    "        else:\n",
    "            #if wrongC < 2:\n",
    "                #p = torch.reshape(x[i], (2,28,28))\n",
    "                #show_dataComp(p, yhat[i])\n",
    "            wrongC += 1\n",
    "        totcount+=1\n",
    "print(correctcount)\n",
    "print(totcount)\n",
    "print('val set accuracy: ', correctcount/totcount)"
   ]
  },
  {
   "cell_type": "code",
   "execution_count": 21,
   "metadata": {},
   "outputs": [
    {
     "name": "stdout",
     "output_type": "stream",
     "text": [
      "9385\n",
      "9918\n",
      "test set accuracy:  0.9462593264771123\n"
     ]
    }
   ],
   "source": [
    "## test data set where activations are recorded\n",
    "totcount = 0\n",
    "correctcount = 0\n",
    "for x,y,z in testloader:\n",
    "    x = x.view(-1, 2 * 28 *28)\n",
    "    with torch.no_grad():\n",
    "        yhat = model(x,True)\n",
    "    model.setPair(z)\n",
    "    ones = torch.ones(yhat.shape)\n",
    "    yhat = torch.where(yhat>.5, ones, yhat)\n",
    "    z = torch.zeros(yhat.shape)\n",
    "    yhat = torch.where(yhat<0.5, z, yhat)\n",
    "    wrongC = 0\n",
    "    for i in range(len(y)):\n",
    "        #print(i)\n",
    "        if yhat[i][0] == y[i][0]:\n",
    "            correctcount+=1\n",
    "            #p = torch.reshape(x[i], (2,28,28))\n",
    "            #show_dataComp(p, y[i])\n",
    "            \n",
    "        else:\n",
    "            #if wrongC < 2:\n",
    "                #p = torch.reshape(x[i], (2,28,28))\n",
    "                #show_dataComp(p, yhat[i])\n",
    "            wrongC += 1\n",
    "        totcount+=1\n",
    "print(correctcount)\n",
    "print(totcount)\n",
    "print('test set accuracy: ', correctcount/totcount)"
   ]
  },
  {
   "cell_type": "code",
   "execution_count": 22,
   "metadata": {},
   "outputs": [
    {
     "name": "stdout",
     "output_type": "stream",
     "text": [
      "155\n",
      "torch.Size([64, 64])\n",
      "155\n",
      "torch.Size([64])\n",
      "tensor([[0.0000, 0.0000, 0.0000,  ..., 0.0000, 1.6243, 0.0000],\n",
      "        [0.2007, 0.3744, 0.8346,  ..., 2.0164, 0.0000, 1.2833],\n",
      "        [0.2168, 0.8350, 1.6269,  ..., 3.5839, 0.0000, 2.1864],\n",
      "        ...,\n",
      "        [0.1197, 0.2329, 0.5883,  ..., 1.1128, 0.3726, 0.7484],\n",
      "        [0.0199, 0.4503, 1.0324,  ..., 2.0922, 0.0000, 1.5032],\n",
      "        [0.1765, 0.6477, 1.5358,  ..., 3.1731, 0.0000, 2.1840]])\n",
      "[tensor([2, 0, 2, 3, 0, 4, 1, 1, 2, 0, 2, 2, 2, 4, 3, 0, 3, 2, 2, 1, 1, 2, 2, 2,\n",
      "        1, 1, 3, 1, 4, 4, 4, 1, 2, 4, 4, 1, 4, 1, 3, 2, 3, 4, 3, 3, 0, 2, 2, 2,\n",
      "        0, 4, 3, 0, 4, 3, 4, 4, 2, 2, 0, 4, 3, 0, 3, 1]), tensor([0, 4, 4, 4, 1, 2, 2, 3, 0, 1, 3, 4, 3, 3, 1, 3, 4, 0, 4, 0, 2, 4, 4, 3,\n",
      "        0, 2, 1, 0, 2, 2, 0, 4, 1, 2, 0, 0, 2, 2, 1, 4, 0, 3, 2, 4, 3, 4, 0, 4,\n",
      "        1, 2, 4, 2, 2, 0, 3, 2, 3, 3, 3, 0, 4, 2, 1, 4])]\n"
     ]
    }
   ],
   "source": [
    "len(testdata)\n",
    "print(len(testloader))\n",
    "print(model.activations[0].shape)\n",
    "print(len(model.pairs))\n",
    "print(model.pairs[0][1].shape)\n",
    "print(model.activations[0])\n",
    "print(model.pairs[1])"
   ]
  },
  {
   "cell_type": "markdown",
   "metadata": {},
   "source": [
    "## RSA preprocess"
   ]
  },
  {
   "cell_type": "code",
   "execution_count": 25,
   "metadata": {},
   "outputs": [
    {
     "name": "stdout",
     "output_type": "stream",
     "text": [
      "9918\n",
      "9918\n"
     ]
    }
   ],
   "source": [
    "# creates a dictionary of keys- the pair and values- the activations\n",
    "activationsDict = {}\n",
    "for pair,activ in zip(model.pairs, model.activations):\n",
    "    for i in range(len(pair[0])):\n",
    "        p1= pair[0][i].item()\n",
    "        p2 = pair[1][i].item()\n",
    "        key1 = (p1,p2)\n",
    "        val = activ[i,:].numpy()\n",
    "        if key1 in activationsDict:\n",
    "            cur = activationsDict[key1]\n",
    "            cur.append(val)\n",
    "        else:\n",
    "            activationsDict[key1]= []\n",
    "            cur = activationsDict[key1]\n",
    "            cur.append(val)\n",
    "for key in activationsDict.keys():\n",
    "    rep = np.array(activationsDict[key])\n",
    "    activationsDict[key] = rep\n",
    "#check that all samples are included    \n",
    "\n",
    "tota = 0\n",
    "for key in activationsDict.keys():\n",
    "    #print(key)\n",
    "    tota +=len(activationsDict[key])\n",
    "print(len(testdata))\n",
    "print(tota)"
   ]
  },
  {
   "cell_type": "code",
   "execution_count": 26,
   "metadata": {},
   "outputs": [
    {
     "name": "stdout",
     "output_type": "stream",
     "text": [
      "20\n"
     ]
    }
   ],
   "source": [
    "# creates a dictionary of keys- the pair and values- the activations\n",
    "avgDict = {}\n",
    "for key in activationsDict:\n",
    "    a = np.mean(activationsDict[key], axis=0)\n",
    "    avgDict[key] = a\n",
    "print (len(avgDict.keys()))\n"
   ]
  },
  {
   "cell_type": "code",
   "execution_count": 55,
   "metadata": {},
   "outputs": [
    {
     "name": "stdout",
     "output_type": "stream",
     "text": [
      "[(0, 1), (0, 2), (0, 3), (0, 4), (1, 0), (1, 2), (1, 3), (1, 4), (2, 0), (2, 1), (2, 3), (2, 4), (3, 0), (3, 1), (3, 2), (3, 4), (4, 0), (4, 1), (4, 2), (4, 3)]\n",
      "[[0.00675299 0.07248668 0.16598204 ... 0.33933297 0.00239751 0.24483579]\n",
      " [0.01689213 0.06291376 0.16976649 ... 0.32297871 0.04193724 0.22600915]\n",
      " [0.01880461 0.05554073 0.16148542 ... 0.33014902 0.00290902 0.22949117]\n",
      " ...\n",
      " [0.00059003 0.00324804 0.01239095 ... 0.01320659 0.15592457 0.01079828]\n",
      " [0.00074775 0.0030376  0.01025293 ... 0.01452437 0.15323251 0.01043148]\n",
      " [0.00037654 0.00034617 0.00179504 ... 0.0045538  0.14905293 0.0036913 ]]\n"
     ]
    }
   ],
   "source": [
    "sortedKeys = sorted(avgDict)\n",
    "print(sortedKeys)\n",
    "sortedMatrix = np.empty([20,64])\n",
    "sortedMatrixUnit = np.empty([20,64])\n",
    "for i in range(20):\n",
    "    key = sortedKeys[i]\n",
    "    sortedMatrix[i] = avgDict[key]\n",
    "    sortedMatrixUnit[i] =  avgDict[key]/np.linalg.norm(avgDict[key])\n",
    "print(sortedMatrixUnit)"
   ]
  },
  {
   "cell_type": "code",
   "execution_count": 56,
   "metadata": {},
   "outputs": [
    {
     "name": "stdout",
     "output_type": "stream",
     "text": [
      "20\n",
      "[[5.04709519e-02 5.41755915e-01 1.24052787e+00 ... 2.53612971e+00\n",
      "  1.79186705e-02 1.82987034e+00]\n",
      " [6.78046665e-04 3.50546604e-03 9.36566573e-03 ... 2.19688434e-02\n",
      "  1.40790558e+00 2.45573744e-02]\n",
      " [8.04480389e-02 2.99624085e-01 8.08505595e-01 ... 1.53817213e+00\n",
      "  1.99724317e-01 1.07635880e+00]\n",
      " ...\n",
      " [5.17019350e-03 2.10028924e-02 7.08918348e-02 ... 1.00425780e-01\n",
      "  1.05949509e+00 7.21263289e-02]\n",
      " [7.63417482e-02 5.27123332e-01 1.06885064e+00 ... 2.18348479e+00\n",
      "  2.11336929e-02 1.45686960e+00]\n",
      " [3.34408786e-03 3.07438499e-03 1.59419011e-02 ... 4.04426605e-02\n",
      "  1.32375085e+00 3.27827185e-02]]\n"
     ]
    }
   ],
   "source": [
    "sortbypair = [(0,1), (1,0), (0, 2), (2, 0), (0, 3), (3, 0), (0, 4), (4, 0), (1, 2), (2, 1), (1, 3), (3, 1), \n",
    "              (1, 4), (4, 1), (2, 3), (3, 2), (2, 4), (4, 2), (3, 4), (4, 3)]\n",
    "print(len(sortbypair))\n",
    "sortedPairMatrix = np.empty([20,64])\n",
    "sortedPairMatrixUnit = np.empty([20,64])\n",
    "for i in range(20):\n",
    "    key = sortbypair[i]\n",
    "    sortedPairMatrix[i] = avgDict[key]\n",
    "    sortedPairMatrixUnit[i] =  avgDict[key]/np.linalg.norm(avgDict[key])\n",
    "print(sortedPairMatrix)"
   ]
  },
  {
   "cell_type": "code",
   "execution_count": 76,
   "metadata": {},
   "outputs": [
    {
     "name": "stdout",
     "output_type": "stream",
     "text": [
      "20\n",
      "[[-0.06112472  0.01391653  0.12065034 ...  0.31854689 -0.06609692\n",
      "   0.21066938]\n",
      " [-0.07763594 -0.01888277  0.11752994 ...  0.3131271  -0.04566228\n",
      "   0.18933167]\n",
      " [-0.04821672 -0.0061483   0.11517438 ...  0.30831972 -0.06641957\n",
      "   0.19305126]\n",
      " ...\n",
      " [-0.10060675 -0.09963987 -0.09553545 ... -0.09509675  0.12259312\n",
      "  -0.09595702]\n",
      " [-0.1017231  -0.09875962 -0.08942167 ... -0.08389366  0.09561987\n",
      "  -0.0891906 ]\n",
      " [-0.09813959 -0.09817827 -0.09633277 ... -0.0928188   0.09123748\n",
      "  -0.0939174 ]]\n"
     ]
    }
   ],
   "source": [
    "lessGreater = [(0,1), (0, 2), (0, 3), (0, 4), (1, 2), (1, 3), (1, 4), (2, 3), (2, 4), (3, 4), (1,0), (2, 0), (3, 0), \n",
    "               (4, 0), (2, 1), (3, 1), (4, 1), (3, 2), (4, 2), (4, 3)]\n",
    "print(len(lessGreater))\n",
    "lgMatrix = np.empty([20,64])\n",
    "lgMatrixUnit = np.empty([20,64])\n",
    "centeredlg = np.empty([20,64])\n",
    "for i in range(20):\n",
    "    key = lessGreater[i]\n",
    "    val = avgDict[key]\n",
    "    mean = np.mean(val)\n",
    "    val = val-mean\n",
    "    centeredlg[i] = val/np.linalg.norm(val)\n",
    "    lgMatrix[i] = avgDict[key]\n",
    "    lgMatrixUnit[i] =  avgDict[key]/np.linalg.norm(avgDict[key])\n",
    "    \n",
    "print(centeredlg)"
   ]
  },
  {
   "cell_type": "markdown",
   "metadata": {},
   "source": [
    "## RSA"
   ]
  },
  {
   "cell_type": "markdown",
   "metadata": {},
   "source": [
    "- calc similarity measures (380 each)\n",
    "- see if the similarity measures are statistically significant\n",
    "- where the structure is"
   ]
  },
  {
   "cell_type": "markdown",
   "metadata": {},
   "source": [
    "### Calculating the similarity- cosine similarity/pearson correlation"
   ]
  },
  {
   "cell_type": "markdown",
   "metadata": {},
   "source": [
    "- i dont think pearson is necessary because there shouldnt be shifts in data "
   ]
  },
  {
   "cell_type": "code",
   "execution_count": 63,
   "metadata": {},
   "outputs": [
    {
     "name": "stdout",
     "output_type": "stream",
     "text": [
      "(20, 64)\n"
     ]
    }
   ],
   "source": [
    "print(sortedMatrixUnit.shape)\n",
    "\n",
    "def simMatrix(x):\n",
    "    xt = np.transpose(x)\n",
    "    return np.matmul(x,xt)"
   ]
  },
  {
   "cell_type": "code",
   "execution_count": 70,
   "metadata": {},
   "outputs": [
    {
     "name": "stdout",
     "output_type": "stream",
     "text": [
      "(20, 20)\n"
     ]
    },
    {
     "data": {
      "image/png": "[encoded data removed]",
      "text/plain": [
       "<Figure size 432x288 with 2 Axes>"
      ]
     },
     "metadata": {
      "needs_background": "light"
     },
     "output_type": "display_data"
    }
   ],
   "source": [
    "simSorted = simMatrix(sortedMatrixUnit)\n",
    "print(simSorted.shape)\n",
    "hm = sns.heatmap(simSorted, xticklabels=sortedKeys, yticklabels=sortedKeys, cmap=\"GnBu\")"
   ]
  },
  {
   "cell_type": "code",
   "execution_count": 72,
   "metadata": {},
   "outputs": [
    {
     "name": "stdout",
     "output_type": "stream",
     "text": [
      "(20, 20)\n"
     ]
    },
    {
     "data": {
      "image/png": "[encoded data removed]",
      "text/plain": [
       "<Figure size 432x288 with 2 Axes>"
      ]
     },
     "metadata": {
      "needs_background": "light"
     },
     "output_type": "display_data"
    }
   ],
   "source": [
    "simSorted1 = simMatrix(sortedPairMatrixUnit)\n",
    "print(simSorted1.shape)\n",
    "hm = sns.heatmap(simSorted1, xticklabels=sortbypair, yticklabels=sortbypair, cmap=\"GnBu\")"
   ]
  },
  {
   "cell_type": "code",
   "execution_count": 73,
   "metadata": {},
   "outputs": [
    {
     "name": "stdout",
     "output_type": "stream",
     "text": [
      "(20, 20)\n"
     ]
    },
    {
     "data": {
      "image/png": "[encoded data removed]",
      "text/plain": [
       "<Figure size 432x288 with 2 Axes>"
      ]
     },
     "metadata": {
      "needs_background": "light"
     },
     "output_type": "display_data"
    }
   ],
   "source": [
    "simSorted2 = simMatrix(lgMatrixUnit)\n",
    "print(simSorted2.shape)\n",
    "hm = sns.heatmap(simSorted2, xticklabels=lessGreater, yticklabels=lessGreater, cmap=\"GnBu\")"
   ]
  },
  {
   "cell_type": "code",
   "execution_count": 74,
   "metadata": {},
   "outputs": [
    {
     "data": {
      "image/png": "[encoded data removed]",
      "text/plain": [
       "<Figure size 432x288 with 2 Axes>"
      ]
     },
     "metadata": {
      "needs_background": "light"
     },
     "output_type": "display_data"
    }
   ],
   "source": [
    "# dot product\n",
    "sim = simMatrix(lgMatrix)\n",
    "hm = sns.heatmap(sim, xticklabels=lessGreater, yticklabels=lessGreater, cmap=\"GnBu\")"
   ]
  },
  {
   "cell_type": "code",
   "execution_count": null,
   "metadata": {},
   "outputs": [],
   "source": []
  }
 ],
 "metadata": {
  "kernelspec": {
   "display_name": "PytochJN",
   "language": "python",
   "name": "pytochjn"
  },
  "language_info": {
   "codemirror_mode": {
    "name": "ipython",
    "version": 3
   },
   "file_extension": ".py",
   "mimetype": "text/x-python",
   "name": "python",
   "nbconvert_exporter": "python",
   "pygments_lexer": "ipython3",
   "version": "3.8.1"
  }
 },
 "nbformat": 4,
 "nbformat_minor": 2
}
