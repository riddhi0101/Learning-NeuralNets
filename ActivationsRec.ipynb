{
 "cells": [
  {
   "cell_type": "markdown",
   "metadata": {},
   "source": [
    "# Activations recorded"
   ]
  },
  {
   "cell_type": "markdown",
   "metadata": {},
   "source": [
    "## Prep Functions- show images"
   ]
  },
  {
   "cell_type": "code",
   "execution_count": 2,
   "metadata": {},
   "outputs": [],
   "source": [
    "import torch\n",
    "import torch.nn as nn\n",
    "import torchvision.transforms as transforms\n",
    "import torchvision.datasets as dsets\n",
    "import torch.nn.functional as F\n",
    "import matplotlib.pylab as plt\n",
    "import numpy as np\n",
    "from time import time\n",
    "from torch.utils.data import Dataset"
   ]
  },
  {
   "cell_type": "code",
   "execution_count": 3,
   "metadata": {},
   "outputs": [],
   "source": [
    "def plot_accuracy_loss(training_results):\n",
    "    plt.subplot(2, 1, 1)\n",
    "    plt.plot(training_results['training_loss'], 'r')\n",
    "    plt.ylabel('loss')\n",
    "    plt.title('training loss iterations')\n",
    "    plt.subplot(2, 1, 2)\n",
    "    plt.plot(training_results['validation_accuracy'])\n",
    "    plt.ylabel('accuracy')\n",
    "    plt.xlabel('epochs')\n",
    "    plt.show()\n",
    "\n",
    "def show_data(data_sample):\n",
    "    plt.imshow(data_sample[0].numpy().reshape(28, 28), cmap='gray')\n",
    "    plt.title('y = ' + str(data_sample[1]))\n",
    "    plt.show()\n",
    "\n",
    "def show_dataComp(data_sample,y):\n",
    "    plt.subplot(1,2,1)\n",
    "    plt.imshow(data_sample[0].numpy().reshape(28, 28), cmap='gray')\n",
    "    plt.subplot(1,2,2)\n",
    "    plt.imshow(data_sample[1].numpy().reshape(28, 28), cmap='gray')\n",
    "    plt.title('y = ' + str(y))\n",
    "\n",
    "    plt.show()"
   ]
  },
  {
   "cell_type": "markdown",
   "metadata": {},
   "source": [
    "## Img Pairing and Data Prep"
   ]
  },
  {
   "cell_type": "markdown",
   "metadata": {},
   "source": [
    "1) traindataComp-trainloader: consecutive data pairs from the training set <br>\n",
    "2) valdataComp-valloader: consecutive data pairs from the test set <br>\n",
    "3) testdata- testloader: all data pairs from test set- keeps track of the pair <br>"
   ]
  },
  {
   "cell_type": "code",
   "execution_count": 4,
   "metadata": {},
   "outputs": [],
   "source": [
    "def indlist(target):\n",
    "    indlist = [[],[],[],[],[]]\n",
    "    \n",
    "    for i in range(len(target)):\n",
    "        if target[i] < 5:\n",
    "            indlist[target[i]].append(i)\n",
    "    return indlist\n",
    "\n",
    "def subData(dataSet):\n",
    "    #gets all the indices of the data obsv with same y from the dataset that is passed in only for 0-4\n",
    "    indices = indlist(dataSet.targets)\n",
    "    # a list of datasets where each dataset has the data for the same number\n",
    "    subsets = []\n",
    "    [subsets.append(torch.utils.data.Subset(dataSet, i)) for i in indices]\n",
    "    return subsets\n",
    "    "
   ]
  },
  {
   "cell_type": "code",
   "execution_count": 5,
   "metadata": {},
   "outputs": [],
   "source": [
    "def comparisonDataConsecutive(dataSet):\n",
    "    subsets = subData(dataSet)\n",
    "    # a list of the size of the possible pairs\n",
    "    comp = []\n",
    "    for indi in range(len(subsets) - 1):\n",
    "        comp.append(int(min(len(subsets[indi]), len(subsets[indi + 1]))))\n",
    "    tot1 = sum(comp)\n",
    "    # img pair data stored\n",
    "    x = torch.zeros([tot1, 2, 28, 28], dtype=torch.float32)\n",
    "    # greater than or less than label stored\n",
    "    y = torch.zeros([tot1,1])\n",
    "    # 1 for first pic greater, 0 for first pic less\n",
    "    k = 0\n",
    "    # does the actual pairing\n",
    "    for i in range(len(subsets) - 1):\n",
    "        for j in range(int(comp[i] / 2)):\n",
    "            x[k][0] = subsets[i][j][0]\n",
    "            x[k][1] = subsets[i + 1][j][0]\n",
    "            y[k][0] = 0\n",
    "            k += 1\n",
    "        for j in range(int(comp[i] / 2), comp[i]):\n",
    "            x[k][1] = subsets[i][j][0]\n",
    "            x[k][0] = subsets[i + 1][j][0]\n",
    "            y[k][0] = 1\n",
    "            k += 1\n",
    "    return x,y/"
   ]
  },
  {
   "cell_type": "code",
   "execution_count": 6,
   "metadata": {},
   "outputs": [],
   "source": [
    "def comparisonDataNonconsecutive(dataSet):\n",
    "    subsets = subData(dataSet)\n",
    "    # a dictionary of pairs and the size of the pairings\n",
    "    comp = {}\n",
    "    for i in range(len(subsets) - 2):\n",
    "        for j in range(i + 2, len(subsets), 1):\n",
    "            comp[(i, j)] = int(min(len(subsets[i]), len(subsets[j])))\n",
    "    tot = sum(comp.values())\n",
    "    # greater than or less than label stored\n",
    "    x = torch.zeros([tot, 2, 28, 28], dtype=torch.float32)\n",
    "    # 1 for first pic greater, 0 for first pic less\n",
    "    y = torch.zeros([tot, 1])\n",
    "    k = 0\n",
    "    #the pairing\n",
    "    for key, values in comp.items():\n",
    "        for value in range(int(values / 2)):\n",
    "            x[k][0] = subsets[key[0]][value][0]\n",
    "            x[k][1] = subsets[key[1]][value][0]\n",
    "            y[k][0] = 0\n",
    "            k += 1\n",
    "        for value in range(int(values / 2), values):\n",
    "            x[k][0] = subsets[key[1]][value][0]\n",
    "            x[k][1] = subsets[key[0]][value][0]\n",
    "            y[k][0] = 1\n",
    "            k += 1\n",
    "    return x,y\n"
   ]
  },
  {
   "cell_type": "code",
   "execution_count": 42,
   "metadata": {},
   "outputs": [],
   "source": [
    "def comparisonAll(dataSet):\n",
    "    subsets = subData(dataSet)\n",
    "    # a dictionary of pairs(tuple) and the size of the pairings\n",
    "    comp = {}\n",
    "    for i in range(len(subsets) - 2):\n",
    "        for j in range(i + 1, len(subsets), 1):\n",
    "            comp[(i, j)] = int(min(len(subsets[i]), len(subsets[j])))\n",
    "    tot = sum(comp.values())\n",
    "    # greater than or less than label stored\n",
    "    x = torch.zeros([tot, 2, 28, 28], dtype=torch.float32)\n",
    "    # 1 for first pic greater, 0 for first pic less\n",
    "    y = torch.zeros([tot, 1])\n",
    "    z = list()\n",
    "    k = 0\n",
    "    # the pairining\n",
    "    for key, values in comp.items():\n",
    "        for value in range(int(values / 2)):\n",
    "            x[k][0] = subsets[key[0]][value][0]\n",
    "            x[k][1] = subsets[key[1]][value][0]\n",
    "            y[k][0] = 0\n",
    "            z.append(key)\n",
    "            k += 1\n",
    "        for value in range(int(values / 2), values):\n",
    "            x[k][0] = subsets[key[1]][value][0]\n",
    "            x[k][1] = subsets[key[0]][value][0]\n",
    "            y[k][0] = 1\n",
    "            a = key[0]\n",
    "            b = key[1]\n",
    "            c = (b,a)\n",
    "            z.append(c)\n",
    "            k += 1\n",
    "    return x,y,z"
   ]
  },
  {
   "cell_type": "code",
   "execution_count": 43,
   "metadata": {},
   "outputs": [],
   "source": [
    "class Trainsetcomp(Dataset):\n",
    "    def __init__(self, x, y):\n",
    "        self.len = (x.shape[0])\n",
    "        self.x = x\n",
    "        self.y = y \n",
    "\n",
    "    def __getitem__(self, index):\n",
    "        return (self.x[index], self.y[index])\n",
    "\n",
    "    def __len__(self):\n",
    "        return self.len"
   ]
  },
  {
   "cell_type": "code",
   "execution_count": 44,
   "metadata": {},
   "outputs": [],
   "source": [
    "class TrainsetcompwithA(Dataset):\n",
    "    def __init__(self, x, y, z):\n",
    "        self.len = (x.shape[0])\n",
    "        self.x = x\n",
    "        self.y = y \n",
    "        #the pair\n",
    "        self.z = z\n",
    "\n",
    "    def __getitem__(self, index):\n",
    "        return (self.x[index], self.y[index], self.z[index])\n",
    "\n",
    "    def __len__(self):\n",
    "        return self.len"
   ]
  },
  {
   "cell_type": "code",
   "execution_count": 45,
   "metadata": {},
   "outputs": [],
   "source": [
    "transform = transforms.Compose([transforms.ToTensor(),\n",
    "                              transforms.Normalize((0.5,), (0.5,)),])\n",
    "\n",
    "trainset = dsets.MNIST(root='./../data',\n",
    "                            train=True,\n",
    "                            download=True,\n",
    "                            transform=transform)\n",
    "valset = dsets.MNIST(root='./../data',\n",
    "                            train=False,\n",
    "                            download=True,\n",
    "                            transform=transform)"
   ]
  },
  {
   "cell_type": "code",
   "execution_count": 46,
   "metadata": {},
   "outputs": [],
   "source": [
    "x, y = comparisonDataConsecutive(trainset)\n",
    "traindataComp = Trainsetcomp(x,y)\n",
    "x,y = comparisonDataConsecutive(valset)\n",
    "valdataComp = Trainsetcomp(x,y)"
   ]
  },
  {
   "cell_type": "code",
   "execution_count": 47,
   "metadata": {},
   "outputs": [],
   "source": [
    "trainloader = torch.utils.data.DataLoader(traindataComp,\n",
    "                                          batch_size=64,\n",
    "                                          shuffle=True)\n",
    "valloader = torch.utils.data.DataLoader(valdataComp,\n",
    "                                          batch_size=64,\n",
    "                                          shuffle=True)\n",
    "x,y,z = comparisonAll(valset)\n",
    "testdata = TrainsetcompwithA(x,y,z)\n",
    "testloader = torch.utils.data.DataLoader(testdata,\n",
    "                                          batch_size=64,\n",
    "                                          shuffle=F)\n",
    "# in the test loader: z is a list of size 2 of two [64] shape tensors. - it turned the tuple into a list of tensors"
   ]
  },
  {
   "cell_type": "code",
   "execution_count": 54,
   "metadata": {},
   "outputs": [
    {
     "data": {
      "image/png": "[encoded data removed]",
      "text/plain": [
       "<Figure size 432x288 with 2 Axes>"
      ]
     },
     "metadata": {
      "needs_background": "light"
     },
     "output_type": "display_data"
    },
    {
     "name": "stdout",
     "output_type": "stream",
     "text": [
      "tensor(3) tensor(2)\n"
     ]
    }
   ],
   "source": [
    "## showing what the z in the test loader is- ignore\n",
    "i = 1\n",
    "j = 0\n",
    "for x,y,z in testloader:\n",
    "    j+=1\n",
    "    p = x[i,:,:,:]\n",
    "    show_dataComp(p,y[i,:])\n",
    "    #print(z)\n",
    "    print(z[0][i],z[1][i])\n",
    "    if j >= 1:\n",
    "        break"
   ]
  },
  {
   "cell_type": "markdown",
   "metadata": {},
   "source": [
    "## Model"
   ]
  },
  {
   "cell_type": "code",
   "execution_count": 88,
   "metadata": {},
   "outputs": [],
   "source": [
    "ind = 2 * 28 * 28\n",
    "hiddendim = [400,200,64]\n",
    "outd = 1\n",
    "# 0 if first image is less than and 1 if frist image is greater than"
   ]
  },
  {
   "cell_type": "code",
   "execution_count": 96,
   "metadata": {},
   "outputs": [],
   "source": [
    "class ModelFull(nn.Module):\n",
    "    def __init__(self, ind,h1d,h2d,h3d,outd):\n",
    "        super(ModelFull, self).__init__()\n",
    "        self.lin1 = nn.Linear(ind, h1d)\n",
    "        self.lin2 = nn.Linear(h1d, h2d)\n",
    "        self.lin3 = nn.Linear(h2d, h3d)\n",
    "        self.lin4 = nn.Linear(h3d, outd)\n",
    "        self.activations = []\n",
    "        self.pairs = []\n",
    "\n",
    "    def forward(self, x, recActivations = False):\n",
    "        if recActivations:\n",
    "            x1 = torch.relu(self.lin1(x))\n",
    "            x2 = torch.relu(self.lin2(x1))\n",
    "            x3 = torch.relu(self.lin3(x2))\n",
    "            self.activations.append(x3)\n",
    "            x4 = torch.sigmoid(self.lin4(x3))\n",
    "            return x4\n",
    "        else:\n",
    "            x1 = torch.relu(self.lin1(x))\n",
    "            x2 = torch.relu(self.lin2(x1))\n",
    "            x3 = torch.relu(self.lin3(x2))\n",
    "            x4 = torch.sigmoid(self.lin4(x3))\n",
    "            return x4\n",
    "        \n",
    "    def setPair(self, pair):\n",
    "        self.pairs.append(pair)"
   ]
  },
  {
   "cell_type": "code",
   "execution_count": 97,
   "metadata": {},
   "outputs": [],
   "source": [
    "def train(model, criterion, optimizer, epochs = 30):\n",
    "    lossList = []\n",
    "    #time0 = time()\n",
    "    for i in range(epochs):\n",
    "        runningLoss = 0\n",
    "        for x, y in trainloader:\n",
    "            optimizer.zero_grad()\n",
    "            yhat = model(x.view(-1, 2 * 28 *28))\n",
    "            #print(yhat.shape)\n",
    "            #print(y.shape)\n",
    "            loss = criterion(yhat, y)\n",
    "            loss.backward()\n",
    "            optimizer.step()\n",
    "            runningLoss += loss.item()\n",
    "        print('epoch ', i, ' loss: ', str(runningLoss / len(traindataComp)))\n",
    "        lossList.append(runningLoss / len(traindataComp))\n",
    "    return lossList"
   ]
  },
  {
   "cell_type": "code",
   "execution_count": 98,
   "metadata": {},
   "outputs": [],
   "source": [
    "model = ModelFull(ind,hiddendim[0],hiddendim[1],hiddendim[2], outd)"
   ]
  },
  {
   "cell_type": "code",
   "execution_count": 99,
   "metadata": {},
   "outputs": [
    {
     "name": "stdout",
     "output_type": "stream",
     "text": [
      "epoch  0  loss:  0.008733639343116318\n",
      "epoch  1  loss:  0.004051011978181742\n",
      "epoch  2  loss:  0.002187853483837539\n",
      "epoch  3  loss:  0.0016020586082779382\n",
      "epoch  4  loss:  0.0011678018264181774\n",
      "epoch  5  loss:  0.0010088350091189793\n",
      "epoch  6  loss:  0.0008821851611956294\n",
      "epoch  7  loss:  0.0007930122579911089\n",
      "epoch  8  loss:  0.0006564705582842881\n",
      "epoch  9  loss:  0.0006028631571634687\n",
      "epoch  10  loss:  0.0014974820196506182\n",
      "epoch  11  loss:  0.0006955977505238364\n",
      "epoch  12  loss:  0.0004866103245524745\n",
      "epoch  13  loss:  0.00092757672381085\n",
      "epoch  14  loss:  0.000539636522171699\n",
      "epoch  15  loss:  0.00042297771180736115\n",
      "epoch  16  loss:  0.00031846098123743946\n",
      "epoch  17  loss:  0.00023021138210282025\n",
      "epoch  18  loss:  0.0002464844879236723\n",
      "epoch  19  loss:  0.00025379385122594275\n",
      "epoch  20  loss:  0.00013882958988714456\n",
      "epoch  21  loss:  0.00010032881407654586\n",
      "epoch  22  loss:  5.90960906863404e-05\n",
      "epoch  23  loss:  0.0007765317970140342\n",
      "epoch  24  loss:  0.001400851129518585\n"
     ]
    }
   ],
   "source": [
    "criterion = nn.BCELoss()\n",
    "optimizer = torch.optim.SGD(model.parameters(), lr=0.03)\n",
    "results = train(model,criterion,optimizer,25)"
   ]
  },
  {
   "cell_type": "code",
   "execution_count": 100,
   "metadata": {},
   "outputs": [
    {
     "name": "stdout",
     "output_type": "stream",
     "text": [
      "3802\n",
      "4004\n",
      "valset accuracy:  0.9495504495504495\n"
     ]
    }
   ],
   "source": [
    "## Consecutive test set\n",
    "totcount = 0\n",
    "correctcount = 0\n",
    "for x,y in valloader:\n",
    "    x = x.view(-1, 2 * 28 *28)\n",
    "    with torch.no_grad():\n",
    "        yhat = model(x)\n",
    "    #print(yhat.shape)\n",
    "    ones = torch.ones(yhat.shape)\n",
    "    yhat = torch.where(yhat>.9, ones, yhat)\n",
    "    z = torch.zeros(yhat.shape)\n",
    "    yhat = torch.where(yhat<0.1, z, yhat)\n",
    "    for i,j in zip(yhat,y):\n",
    "        if i[0] == j[0]:\n",
    "            correctcount+=1\n",
    "        totcount+=1\n",
    "print(correctcount)\n",
    "print(totcount)\n",
    "#print(len(dataPairing.valdataComp))\n",
    "print('valset accuracy: ', correctcount/totcount)"
   ]
  },
  {
   "cell_type": "code",
   "execution_count": 101,
   "metadata": {},
   "outputs": [
    {
     "name": "stdout",
     "output_type": "stream",
     "text": [
      "7714\n",
      "8008\n",
      "test set accuracy:  0.9632867132867133\n"
     ]
    }
   ],
   "source": [
    "## non consecutive test set\n",
    "for x,y in valloader:\n",
    "    x = x.view(-1, 2 * 28 *28)\n",
    "    with torch.no_grad():\n",
    "        yhat = model(x)\n",
    "    ones = torch.ones(yhat.shape)\n",
    "    yhat = torch.where(yhat>.5, ones, yhat)\n",
    "    z = torch.zeros(yhat.shape)\n",
    "    yhat = torch.where(yhat<0.5, z, yhat)\n",
    "    wrongC = 0\n",
    "    for i in range(len(y)):\n",
    "        #print(i)\n",
    "        if yhat[i][0] == y[i][0]:\n",
    "            correctcount+=1\n",
    "            #p = torch.reshape(x[i], (2,28,28))\n",
    "            #show_dataComp(p, y[i])\n",
    "            \n",
    "        else:\n",
    "            #if wrongC < 2:\n",
    "                #p = torch.reshape(x[i], (2,28,28))\n",
    "                #show_dataComp(p, yhat[i])\n",
    "            wrongC += 1\n",
    "        totcount+=1\n",
    "print(correctcount)\n",
    "print(totcount)\n",
    "print('test set accuracy: ', correctcount/totcount)"
   ]
  },
  {
   "cell_type": "code",
   "execution_count": 102,
   "metadata": {},
   "outputs": [
    {
     "name": "stdout",
     "output_type": "stream",
     "text": [
      "16126\n",
      "16944\n",
      "test set accuracy:  0.9517233238904627\n"
     ]
    }
   ],
   "source": [
    "## test data set where activations are recorded\n",
    "\n",
    "for x,y,z in testloader:\n",
    "    x = x.view(-1, 2 * 28 *28)\n",
    "    with torch.no_grad():\n",
    "        yhat = model(x,True)\n",
    "    model.setPair(z)\n",
    "    ones = torch.ones(yhat.shape)\n",
    "    yhat = torch.where(yhat>.5, ones, yhat)\n",
    "    z = torch.zeros(yhat.shape)\n",
    "    yhat = torch.where(yhat<0.5, z, yhat)\n",
    "    wrongC = 0\n",
    "    for i in range(len(y)):\n",
    "        #print(i)\n",
    "        if yhat[i][0] == y[i][0]:\n",
    "            correctcount+=1\n",
    "            #p = torch.reshape(x[i], (2,28,28))\n",
    "            #show_dataComp(p, y[i])\n",
    "            \n",
    "        else:\n",
    "            #if wrongC < 2:\n",
    "                #p = torch.reshape(x[i], (2,28,28))\n",
    "                #show_dataComp(p, yhat[i])\n",
    "            wrongC += 1\n",
    "        totcount+=1\n",
    "print(correctcount)\n",
    "print(totcount)\n",
    "print('test set accuracy: ', correctcount/totcount)"
   ]
  },
  {
   "cell_type": "code",
   "execution_count": 107,
   "metadata": {},
   "outputs": [
    {
     "name": "stdout",
     "output_type": "stream",
     "text": [
      "140\n",
      "torch.Size([64, 64])\n",
      "140\n",
      "torch.Size([64])\n",
      "tensor([[0.3978, 0.2578, 0.8092,  ..., 0.3629, 0.0000, 0.0000],\n",
      "        [0.0000, 0.8148, 2.9453,  ..., 1.5833, 0.0374, 0.0000],\n",
      "        [0.0000, 0.5649, 2.2676,  ..., 1.2280, 0.0095, 0.0000],\n",
      "        ...,\n",
      "        [0.0000, 0.5782, 1.9103,  ..., 0.8929, 0.0000, 0.0000],\n",
      "        [1.5552, 0.0000, 0.0000,  ..., 0.0000, 0.0000, 0.0000],\n",
      "        [0.1036, 0.3663, 1.1732,  ..., 0.5707, 0.0036, 0.0000]])\n"
     ]
    }
   ],
   "source": [
    "len(testdata)\n",
    "print(len(testloader))\n",
    "print(model.activations[0].shape)\n",
    "print(len(model.pairs))\n",
    "print(model.pairs[0][1].shape)\n",
    "print(model.activations[0])"
   ]
  },
  {
   "cell_type": "markdown",
   "metadata": {},
   "source": [
    "## RSA preprocess"
   ]
  },
  {
   "cell_type": "code",
   "execution_count": 114,
   "metadata": {},
   "outputs": [
    {
     "name": "stdout",
     "output_type": "stream",
     "text": [
      "(1, 3)\n"
     ]
    }
   ],
   "source": [
    "# incomplete\n",
    "for pair,activ in zip(model.pairs, model.activations):\n",
    "    for i in range(len(pair[0])):\n",
    "        p1= pair[0][i].item()\n",
    "        p2 = pair[1][i].item()\n",
    "        t = (p1,p2)\n",
    "        print(t)\n",
    "        break\n",
    "    break"
   ]
  },
  {
   "cell_type": "code",
   "execution_count": null,
   "metadata": {},
   "outputs": [],
   "source": []
  }
 ],
 "metadata": {
  "kernelspec": {
   "display_name": "PytochJN",
   "language": "python",
   "name": "pytochjn"
  },
  "language_info": {
   "codemirror_mode": {
    "name": "ipython",
    "version": 3
   },
   "file_extension": ".py",
   "mimetype": "text/x-python",
   "name": "python",
   "nbconvert_exporter": "python",
   "pygments_lexer": "ipython3",
   "version": "3.8.1"
  }
 },
 "nbformat": 4,
 "nbformat_minor": 2
}
