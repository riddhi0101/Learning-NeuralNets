{
 "cells": [
  {
   "cell_type": "markdown",
   "metadata": {},
   "source": [
    "# Activations recorded"
   ]
  },
  {
   "cell_type": "markdown",
   "metadata": {},
   "source": [
    "## Prep Functions- show images"
   ]
  },
  {
   "cell_type": "code",
   "execution_count": 1,
   "metadata": {},
   "outputs": [],
   "source": [
    "import torch\n",
    "import torch.nn as nn\n",
    "import torchvision.transforms as transforms\n",
    "import torchvision.datasets as dsets\n",
    "import torch.nn.functional as F\n",
    "import matplotlib.pylab as plt\n",
    "import seaborn as sns\n",
    "import numpy as np\n",
    "from time import time\n",
    "from torch.utils.data import Dataset"
   ]
  },
  {
   "cell_type": "code",
   "execution_count": 2,
   "metadata": {},
   "outputs": [],
   "source": [
    "def plot_accuracy_loss(training_results):\n",
    "    plt.subplot(2, 1, 1)\n",
    "    plt.plot(training_results['training_loss'], 'r')\n",
    "    plt.ylabel('loss')\n",
    "    plt.title('training loss iterations')\n",
    "    plt.subplot(2, 1, 2)\n",
    "    plt.plot(training_results['validation_accuracy'])\n",
    "    plt.ylabel('accuracy')\n",
    "    plt.xlabel('epochs')\n",
    "    plt.show()\n",
    "\n",
    "def show_data(data_sample):\n",
    "    plt.imshow(data_sample[0].numpy().reshape(28, 28), cmap='gray')\n",
    "    plt.title('y = ' + str(data_sample[1]))\n",
    "    plt.show()\n",
    "\n",
    "def show_dataComp(data_sample,y):\n",
    "    plt.subplot(1,2,1)\n",
    "    plt.imshow(data_sample[0].numpy().reshape(28, 28), cmap='gray')\n",
    "    plt.subplot(1,2,2)\n",
    "    plt.imshow(data_sample[1].numpy().reshape(28, 28), cmap='gray')\n",
    "    plt.title('y = ' + str(y))\n",
    "\n",
    "    plt.show()"
   ]
  },
  {
   "cell_type": "markdown",
   "metadata": {},
   "source": [
    "## Img Pairing and Data Prep"
   ]
  },
  {
   "cell_type": "markdown",
   "metadata": {},
   "source": [
    "1) traindataComp-trainloader: consecutive data pairs from the training set <br>\n",
    "2) valdataComp-valloader: consecutive data pairs from the test set <br>\n",
    "3) testdata- testloader: all data pairs from test set- keeps track of the pair <br>"
   ]
  },
  {
   "cell_type": "code",
   "execution_count": 3,
   "metadata": {},
   "outputs": [],
   "source": [
    "def indlist(target):\n",
    "    indlist = [[],[],[],[],[]]\n",
    "    \n",
    "    for i in range(len(target)):\n",
    "        if target[i] < 5:\n",
    "            indlist[target[i]].append(i)\n",
    "    return indlist\n",
    "\n",
    "def subData(dataSet):\n",
    "    #gets all the indices of the data obsv with same y from the dataset that is passed in only for 0-4\n",
    "    indices = indlist(dataSet.targets)\n",
    "    # a list of datasets where each dataset has the data for the same number\n",
    "    subsets = []\n",
    "    [subsets.append(torch.utils.data.Subset(dataSet, i)) for i in indices]\n",
    "    return subsets\n",
    "    "
   ]
  },
  {
   "cell_type": "code",
   "execution_count": 4,
   "metadata": {},
   "outputs": [],
   "source": [
    "def comparisonDataConsecutive(dataSet):\n",
    "    subsets = subData(dataSet)\n",
    "    # a list of the size of the possible pairs\n",
    "    comp = []\n",
    "    for indi in range(len(subsets) - 1):\n",
    "        comp.append(int(min(len(subsets[indi]), len(subsets[indi + 1]))))\n",
    "    tot1 = sum(comp)\n",
    "    # img pair data stored\n",
    "    x = torch.zeros([tot1, 2, 28, 28], dtype=torch.float32)\n",
    "    # greater than or less than label stored\n",
    "    y = torch.zeros([tot1,1])\n",
    "    # 1 for first pic greater, 0 for first pic less\n",
    "    k = 0\n",
    "    # does the actual pairing\n",
    "    for i in range(len(subsets) - 1):\n",
    "        for j in range(int(comp[i] / 2)):\n",
    "            x[k][0] = subsets[i][j][0]\n",
    "            x[k][1] = subsets[i + 1][j][0]\n",
    "            y[k][0] = 0\n",
    "            k += 1\n",
    "        for j in range(int(comp[i] / 2), comp[i]):\n",
    "            x[k][1] = subsets[i][j][0]\n",
    "            x[k][0] = subsets[i + 1][j][0]\n",
    "            y[k][0] = 1\n",
    "            k += 1\n",
    "    return x,y"
   ]
  },
  {
   "cell_type": "code",
   "execution_count": 5,
   "metadata": {},
   "outputs": [],
   "source": [
    "def comparisonDataNonconsecutive(dataSet):\n",
    "    subsets = subData(dataSet)\n",
    "    # a dictionary of pairs and the size of the pairings\n",
    "    comp = {}\n",
    "    \n",
    "    for i in range(len(subsets) - 2):\n",
    "        for j in range(i + 2, len(subsets), 1):\n",
    "            comp[(i, j)] = int(min(len(subsets[i]), len(subsets[j])))\n",
    "    tot = sum(comp.values())\n",
    "    # greater than or less than label stored\n",
    "    x = torch.zeros([tot, 2, 28, 28], dtype=torch.float32)\n",
    "    # 1 for first pic greater, 0 for first pic less\n",
    "    y = torch.zeros([tot, 1])\n",
    "    k = 0\n",
    "    #the pairing\n",
    "    for key, values in comp.items():\n",
    "        for value in range(int(values / 2)):\n",
    "            x[k][0] = subsets[key[0]][value][0]\n",
    "            x[k][1] = subsets[key[1]][value][0]\n",
    "            y[k][0] = 0\n",
    "            k += 1\n",
    "        for value in range(int(values / 2), values):\n",
    "            x[k][0] = subsets[key[1]][value][0]\n",
    "            x[k][1] = subsets[key[0]][value][0]\n",
    "            y[k][0] = 1\n",
    "            k += 1\n",
    "    return x,y\n"
   ]
  },
  {
   "cell_type": "code",
   "execution_count": 6,
   "metadata": {},
   "outputs": [],
   "source": [
    "def comparisonAll(dataSet):\n",
    "    subsets = subData(dataSet)\n",
    "    # a dictionary of pairs(tuple) and the size of the pairings\n",
    "    comp = {}\n",
    "    for i in range(len(subsets) - 1):\n",
    "        for j in range(i + 1, len(subsets), 1):\n",
    "            comp[(i, j)] = int(min(len(subsets[i]), len(subsets[j])))\n",
    "    #print(len(comp.keys()))\n",
    "    #print(comp.keys())\n",
    "    tot = sum(comp.values())\n",
    "    # greater than or less than label stored\n",
    "    x = torch.zeros([tot, 2, 28, 28], dtype=torch.float32)\n",
    "    # 1 for first pic greater, 0 for first pic less\n",
    "    y = torch.zeros([tot, 1])\n",
    "    z = list()\n",
    "    k = 0\n",
    "    # the pairining\n",
    "    for key, values in comp.items():\n",
    "        for value in range(int(values / 2)):\n",
    "            x[k][0] = subsets[key[0]][value][0]\n",
    "            x[k][1] = subsets[key[1]][value][0]\n",
    "            y[k][0] = 0\n",
    "            z.append(key)\n",
    "            k += 1\n",
    "        for value in range(int(values / 2), values):\n",
    "            x[k][0] = subsets[key[1]][value][0]\n",
    "            x[k][1] = subsets[key[0]][value][0]\n",
    "            y[k][0] = 1\n",
    "            a = key[0]\n",
    "            b = key[1]\n",
    "            c = (b,a)\n",
    "            z.append(c)\n",
    "            k += 1\n",
    "    return x,y,z"
   ]
  },
  {
   "cell_type": "code",
   "execution_count": 7,
   "metadata": {},
   "outputs": [],
   "source": [
    "class Trainsetcomp(Dataset):\n",
    "    def __init__(self, x, y):\n",
    "        self.len = (x.shape[0])\n",
    "        self.x = x\n",
    "        self.y = y \n",
    "\n",
    "    def __getitem__(self, index):\n",
    "        return (self.x[index], self.y[index])\n",
    "\n",
    "    def __len__(self):\n",
    "        return self.len"
   ]
  },
  {
   "cell_type": "code",
   "execution_count": 8,
   "metadata": {},
   "outputs": [],
   "source": [
    "class TrainsetcompwithA(Dataset):\n",
    "    def __init__(self, x, y, z):\n",
    "        self.len = (x.shape[0])\n",
    "        self.x = x\n",
    "        self.y = y \n",
    "        #the pair\n",
    "        self.z = z\n",
    "\n",
    "    def __getitem__(self, index):\n",
    "        return (self.x[index], self.y[index], self.z[index])\n",
    "\n",
    "    def __len__(self):\n",
    "        return self.len"
   ]
  },
  {
   "cell_type": "code",
   "execution_count": 9,
   "metadata": {},
   "outputs": [],
   "source": [
    "transform = transforms.Compose([transforms.ToTensor(),\n",
    "                              transforms.Normalize((0.5,), (0.5,)),])\n",
    "\n",
    "trainset = dsets.MNIST(root='./../data',\n",
    "                            train=True,\n",
    "                            download=True,\n",
    "                            transform=transform)\n",
    "valset = dsets.MNIST(root='./../data',\n",
    "                            train=False,\n",
    "                            download=True,\n",
    "                            transform=transform)"
   ]
  },
  {
   "cell_type": "code",
   "execution_count": 10,
   "metadata": {},
   "outputs": [],
   "source": [
    "x, y = comparisonDataConsecutive(trainset)\n",
    "traindataComp = Trainsetcomp(x,y)\n",
    "x,y = comparisonDataConsecutive(valset)\n",
    "valdataComp = Trainsetcomp(x,y)"
   ]
  },
  {
   "cell_type": "code",
   "execution_count": 11,
   "metadata": {},
   "outputs": [],
   "source": [
    "trainloader = torch.utils.data.DataLoader(traindataComp,\n",
    "                                          batch_size=64,\n",
    "                                          shuffle=True)\n",
    "valloader = torch.utils.data.DataLoader(valdataComp,\n",
    "                                          batch_size=64,\n",
    "                                          shuffle=True)\n",
    "x,y,z = comparisonAll(valset)\n",
    "testdata = TrainsetcompwithA(x,y,z)\n",
    "testloader = torch.utils.data.DataLoader(testdata,\n",
    "                                          batch_size=64,\n",
    "                                          shuffle=F)\n",
    "# in the test loader: z is a list of size 2 of two [64] shape tensors. - it turned the tuple into a list of tensors"
   ]
  },
  {
   "cell_type": "code",
   "execution_count": 12,
   "metadata": {},
   "outputs": [
    {
     "data": {
      "image/png": "[encoded data removed]",
      "text/plain": [
       "<Figure size 432x288 with 2 Axes>"
      ]
     },
     "metadata": {
      "needs_background": "light"
     },
     "output_type": "display_data"
    },
    {
     "name": "stdout",
     "output_type": "stream",
     "text": [
      "tensor(3) tensor(2)\n"
     ]
    }
   ],
   "source": [
    "## showing what the z in the test loader is- ignore\n",
    "i = 1\n",
    "j = 0\n",
    "for x,y,z in testloader:\n",
    "    j+=1\n",
    "    p = x[i,:,:,:]\n",
    "    show_dataComp(p,y[i,:])\n",
    "    #print(z)\n",
    "    print(z[0][i],z[1][i])\n",
    "    if j >= 1:\n",
    "        break"
   ]
  },
  {
   "cell_type": "markdown",
   "metadata": {},
   "source": [
    "## Model"
   ]
  },
  {
   "cell_type": "code",
   "execution_count": 13,
   "metadata": {},
   "outputs": [],
   "source": [
    "ind = 2 * 28 * 28\n",
    "hiddendim = [400,200,64]\n",
    "outd = 1\n",
    "# 0 if first image is less than and 1 if frist image is greater than"
   ]
  },
  {
   "cell_type": "code",
   "execution_count": 14,
   "metadata": {},
   "outputs": [],
   "source": [
    "class ModelFull(nn.Module):\n",
    "    def __init__(self, ind,h1d,h2d,h3d,outd):\n",
    "        super(ModelFull, self).__init__()\n",
    "        self.lin1 = nn.Linear(ind, h1d)\n",
    "        self.lin2 = nn.Linear(h1d, h2d)\n",
    "        self.lin3 = nn.Linear(h2d, h3d)\n",
    "        self.lin4 = nn.Linear(h3d, outd)\n",
    "        self.activations1 = []\n",
    "        self.activations2 = []\n",
    "        self.activations3 = []\n",
    "        self.pairs = []\n",
    "\n",
    "    def forward(self, x, recActivations = False):\n",
    "        if recActivations:\n",
    "            x1 = torch.relu(self.lin1(x))\n",
    "            self.activations1.append(x1)\n",
    "            x2 = torch.relu(self.lin2(x1))\n",
    "            self.activations2.append(x2)\n",
    "            x3 = torch.relu(self.lin3(x2))\n",
    "            self.activations3.append(x3)\n",
    "            x4 = torch.sigmoid(self.lin4(x3))\n",
    "            return x4\n",
    "        else:\n",
    "            x1 = torch.relu(self.lin1(x))\n",
    "            x2 = torch.relu(self.lin2(x1))\n",
    "            x3 = torch.relu(self.lin3(x2))\n",
    "            x4 = torch.sigmoid(self.lin4(x3))\n",
    "            return x4\n",
    "        \n",
    "    def setPair(self, pair):\n",
    "        self.pairs.append(pair)"
   ]
  },
  {
   "cell_type": "code",
   "execution_count": 15,
   "metadata": {},
   "outputs": [],
   "source": [
    "def train(model, criterion, optimizer, epochs = 30):\n",
    "    lossList = []\n",
    "    #time0 = time()\n",
    "    for i in range(epochs):\n",
    "        runningLoss = 0\n",
    "        for x, y in trainloader:\n",
    "            optimizer.zero_grad()\n",
    "            yhat = model(x.view(-1, 2 * 28 *28))\n",
    "            #print(yhat.shape)\n",
    "            #print(y.shape)\n",
    "            loss = criterion(yhat, y)\n",
    "            loss.backward()\n",
    "            optimizer.step()\n",
    "            runningLoss += loss.item()\n",
    "        print('epoch ', i, ' loss: ', str(runningLoss / len(traindataComp)))\n",
    "        lossList.append(runningLoss / len(traindataComp))\n",
    "    return lossList"
   ]
  },
  {
   "cell_type": "code",
   "execution_count": 16,
   "metadata": {},
   "outputs": [],
   "source": [
    "model = ModelFull(ind,hiddendim[0],hiddendim[1],hiddendim[2], outd)"
   ]
  },
  {
   "cell_type": "code",
   "execution_count": 17,
   "metadata": {},
   "outputs": [
    {
     "name": "stdout",
     "output_type": "stream",
     "text": [
      "epoch  0  loss:  0.00874180811834136\n",
      "epoch  1  loss:  0.00392397432464748\n",
      "epoch  2  loss:  0.0020903649300904417\n",
      "epoch  3  loss:  0.0014716555411239912\n",
      "epoch  4  loss:  0.0012208264677241708\n",
      "epoch  5  loss:  0.0010464254113545888\n",
      "epoch  6  loss:  0.0008811472510547484\n",
      "epoch  7  loss:  0.0007933595927612223\n",
      "epoch  8  loss:  0.0006824488923198337\n",
      "epoch  9  loss:  0.0005925769752976667\n",
      "epoch  10  loss:  0.0005019039470126433\n",
      "epoch  11  loss:  0.0004575037771946061\n",
      "epoch  12  loss:  0.0004318490699398756\n",
      "epoch  13  loss:  0.0005400195090518655\n",
      "epoch  14  loss:  0.00040090806336376086\n",
      "epoch  15  loss:  0.00023956845611349987\n",
      "epoch  16  loss:  0.000325736176519547\n",
      "epoch  17  loss:  0.0002119378332545719\n",
      "epoch  18  loss:  0.00013057862999893365\n",
      "epoch  19  loss:  0.00010905398680497535\n",
      "epoch  20  loss:  6.933324124951312e-05\n",
      "epoch  21  loss:  4.56172146594784e-05\n",
      "epoch  22  loss:  3.344713533505702e-05\n",
      "epoch  23  loss:  2.145995223445589e-05\n",
      "epoch  24  loss:  1.621025167045092e-05\n"
     ]
    }
   ],
   "source": [
    "criterion = nn.BCELoss()\n",
    "optimizer = torch.optim.SGD(model.parameters(), lr=0.03)\n",
    "results = train(model,criterion,optimizer,25)"
   ]
  },
  {
   "cell_type": "code",
   "execution_count": 18,
   "metadata": {},
   "outputs": [
    {
     "name": "stdout",
     "output_type": "stream",
     "text": [
      "3945\n",
      "4004\n",
      "val set accuracy:  0.9852647352647352\n"
     ]
    }
   ],
   "source": [
    "## consecutive test set\n",
    "totcount = 0\n",
    "correctcount = 0\n",
    "for x,y in valloader:\n",
    "    x = x.view(-1, 2 * 28 *28)\n",
    "    with torch.no_grad():\n",
    "        yhat = model(x)\n",
    "    ones = torch.ones(yhat.shape)\n",
    "    yhat = torch.where(yhat>.5, ones, yhat)\n",
    "    z = torch.zeros(yhat.shape)\n",
    "    yhat = torch.where(yhat<0.5, z, yhat)\n",
    "    wrongC = 0\n",
    "    for i in range(len(y)):\n",
    "        #print(i)\n",
    "        if yhat[i][0] == y[i][0]:\n",
    "            correctcount+=1\n",
    "            #p = torch.reshape(x[i], (2,28,28))\n",
    "            #show_dataComp(p, y[i])\n",
    "            \n",
    "        else:\n",
    "            #if wrongC < 2:\n",
    "                #p = torch.reshape(x[i], (2,28,28))\n",
    "                #show_dataComp(p, yhat[i])\n",
    "            wrongC += 1\n",
    "        totcount+=1\n",
    "print(correctcount)\n",
    "print(totcount)\n",
    "print('val set accuracy: ', correctcount/totcount)"
   ]
  },
  {
   "cell_type": "code",
   "execution_count": 19,
   "metadata": {},
   "outputs": [
    {
     "name": "stdout",
     "output_type": "stream",
     "text": [
      "9428\n",
      "9918\n",
      "test set accuracy:  0.9505948779995967\n"
     ]
    }
   ],
   "source": [
    "## test data set where activations are recorded\n",
    "totcount = 0\n",
    "correctcount = 0\n",
    "for x,y,z in testloader:\n",
    "    x = x.view(-1, 2 * 28 *28)\n",
    "    with torch.no_grad():\n",
    "        yhat = model(x,True)\n",
    "    model.setPair(z)\n",
    "    ones = torch.ones(yhat.shape)\n",
    "    yhat = torch.where(yhat>.5, ones, yhat)\n",
    "    z = torch.zeros(yhat.shape)\n",
    "    yhat = torch.where(yhat<0.5, z, yhat)\n",
    "    wrongC = 0\n",
    "    for i in range(len(y)):\n",
    "        #print(i)\n",
    "        if yhat[i][0] == y[i][0]:\n",
    "            correctcount+=1\n",
    "            #p = torch.reshape(x[i], (2,28,28))\n",
    "            #show_dataComp(p, y[i])\n",
    "            \n",
    "        else:\n",
    "            #if wrongC < 2:\n",
    "                #p = torch.reshape(x[i], (2,28,28))\n",
    "                #show_dataComp(p, yhat[i])\n",
    "            wrongC += 1\n",
    "        totcount+=1\n",
    "print(correctcount)\n",
    "print(totcount)\n",
    "print('test set accuracy: ', correctcount/totcount)"
   ]
  },
  {
   "cell_type": "code",
   "execution_count": 20,
   "metadata": {},
   "outputs": [
    {
     "name": "stdout",
     "output_type": "stream",
     "text": [
      "155\n",
      "torch.Size([64, 200])\n",
      "155\n",
      "torch.Size([64])\n",
      "tensor([[5.3550e-01, 3.0850e+00, 3.6658e-01,  ..., 0.0000e+00, 0.0000e+00,\n",
      "         0.0000e+00],\n",
      "        [5.4091e-01, 1.7117e+00, 4.3634e-01,  ..., 8.1388e-02, 2.0882e-01,\n",
      "         0.0000e+00],\n",
      "        [0.0000e+00, 0.0000e+00, 1.7371e+00,  ..., 1.2473e-01, 0.0000e+00,\n",
      "         0.0000e+00],\n",
      "        ...,\n",
      "        [3.2501e-01, 0.0000e+00, 2.5736e-01,  ..., 0.0000e+00, 1.5732e-03,\n",
      "         0.0000e+00],\n",
      "        [0.0000e+00, 3.0326e-01, 8.1465e-01,  ..., 0.0000e+00, 0.0000e+00,\n",
      "         0.0000e+00],\n",
      "        [0.0000e+00, 1.9550e+00, 1.9952e-01,  ..., 0.0000e+00, 0.0000e+00,\n",
      "         0.0000e+00]])\n",
      "[tensor([0, 2, 1, 1, 1, 4, 2, 0, 1, 2, 3, 0, 0, 4, 1, 2, 2, 0, 2, 2, 0, 0, 2, 4,\n",
      "        1, 4, 0, 4, 0, 0, 3, 3, 0, 3, 1, 1, 2, 0, 1, 2, 2, 1, 2, 4, 3, 1, 1, 4,\n",
      "        1, 2, 0, 3, 0, 1, 2, 1, 4, 1, 2, 3, 2, 4, 3, 0]), tensor([2, 1, 0, 0, 2, 3, 1, 4, 4, 1, 2, 2, 3, 0, 2, 1, 3, 4, 3, 1, 4, 2, 0, 3,\n",
      "        4, 2, 3, 1, 1, 2, 2, 1, 3, 0, 2, 4, 4, 4, 3, 0, 4, 3, 0, 1, 2, 2, 3, 1,\n",
      "        3, 1, 4, 4, 1, 2, 4, 4, 0, 0, 4, 2, 4, 0, 4, 2])]\n"
     ]
    }
   ],
   "source": [
    "len(testdata)\n",
    "print(len(testloader))\n",
    "print(model.activations2[0].shape)\n",
    "print(len(model.pairs))\n",
    "print(model.pairs[0][1].shape)\n",
    "print(model.activations2[0])\n",
    "print(model.pairs[1])"
   ]
  },
  {
   "cell_type": "markdown",
   "metadata": {},
   "source": [
    "## RSA preprocess"
   ]
  },
  {
   "cell_type": "code",
   "execution_count": 22,
   "metadata": {},
   "outputs": [
    {
     "name": "stdout",
     "output_type": "stream",
     "text": [
      "9918\n",
      "9918\n"
     ]
    }
   ],
   "source": [
    "# creates a dictionary of keys- the pair and values- the activations\n",
    "def activationsDirF(mpairs, mactivations):\n",
    "    activationsDict = {}\n",
    "    for pair,activ in zip(mpairs, mactivations):\n",
    "        for i in range(len(pair[0])):\n",
    "            p1= pair[0][i].item()\n",
    "            p2 = pair[1][i].item()\n",
    "            key1 = (p1,p2)\n",
    "            val = activ[i,:].numpy()\n",
    "            if key1 in activationsDict:\n",
    "                cur = activationsDict[key1]\n",
    "                cur.append(val)\n",
    "            else:\n",
    "                activationsDict[key1]= []\n",
    "                cur = activationsDict[key1]\n",
    "                cur.append(val)\n",
    "    for key in activationsDict.keys():\n",
    "        rep = np.array(activationsDict[key])\n",
    "        activationsDict[key] = rep\n",
    "    return activationsDict\n",
    "\n",
    "activationsDict1 = activationsDirF(model.pairs,model.activations1)\n",
    "activationsDict2 = activationsDirF(model.pairs,model.activations2)\n",
    "activationsDict3 = activationsDirF(model.pairs,model.activations3)\n",
    "\n",
    "#check that all samples are included    \n",
    "tota = 0\n",
    "for key in activationsDict1.keys():\n",
    "    #print(key)\n",
    "    tota +=len(activationsDict1[key])\n",
    "print(len(testdata))\n",
    "print(tota)"
   ]
  },
  {
   "cell_type": "code",
   "execution_count": 25,
   "metadata": {},
   "outputs": [
    {
     "name": "stdout",
     "output_type": "stream",
     "text": [
      "20\n"
     ]
    }
   ],
   "source": [
    "# creates a dictionary of keys- the pair and values- the activations\n",
    "\n",
    "def mkAvgDict(activationsDict):\n",
    "    avgDict = {}\n",
    "    for key in activationsDict:\n",
    "        a = np.mean(activationsDict[key], axis=0)\n",
    "        avgDict[key] = a\n",
    "    return avgDict\n",
    "\n",
    "avgDict1 = mkAvgDict(activationsDict1)\n",
    "avgDict2 = mkAvgDict(activationsDict2)\n",
    "avgDict3 = mkAvgDict(activationsDict3)\n",
    "print (len(avgDict1.keys()))"
   ]
  },
  {
   "cell_type": "code",
   "execution_count": 83,
   "metadata": {},
   "outputs": [],
   "source": [
    "\n",
    "# takes keys to sort by and returns a matrix in that order \n",
    "def sortbykey(sortedKeys, avgDict):\n",
    "    size1 = avgDict[(0,1)].shape[0]\n",
    "    sortedMatrix = np.empty([20,size1])\n",
    "    for i in range(20):\n",
    "        key = sortedKeys[i]\n",
    "        sortedMatrix[i] = avgDict[key]\n",
    "    return sortedMatrix\n",
    "\n",
    "def mkUnitbyRow(matrix):\n",
    "    unitMatrix = np.empty(list(matrix.shape))\n",
    "    for i in range(20):\n",
    "        unitMatrix[i] =  matrix[i]/np.linalg.norm(matrix[i])\n",
    "    return unitMatrix\n",
    "\n",
    "\n"
   ]
  },
  {
   "cell_type": "code",
   "execution_count": 84,
   "metadata": {},
   "outputs": [
    {
     "name": "stdout",
     "output_type": "stream",
     "text": [
      "20\n",
      "20\n"
     ]
    }
   ],
   "source": [
    "sortedKeys1 = sorted(avgDict1)\n",
    "#print(sortedKeys1)\n",
    "sortbypair = [(0,1), (1,0), (0, 2), (2, 0), (0, 3), (3, 0), (0, 4), (4, 0), (1, 2), (2, 1), (1, 3), (3, 1), \n",
    "              (1, 4), (4, 1), (2, 3), (3, 2), (2, 4), (4, 2), (3, 4), (4, 3)]\n",
    "print(len(sortbypair))\n",
    "lessGreater = [(0,1), (0, 2), (0, 3), (0, 4), (1, 2), (1, 3), (1, 4), (2, 3), (2, 4), (3, 4), (1,0), (2, 0), (3, 0), \n",
    "               (4, 0), (2, 1), (3, 1), (4, 1), (3, 2), (4, 2), (4, 3)]\n",
    "print(len(lessGreater))\n",
    "sortl = [sortedKeys1,sortbypair, lessGreater]\n",
    "#print(sortl[2])"
   ]
  },
  {
   "cell_type": "markdown",
   "metadata": {},
   "source": [
    "## RSA"
   ]
  },
  {
   "cell_type": "markdown",
   "metadata": {},
   "source": [
    "- calc similarity measures (380 each)\n",
    "- see if the similarity measures are statistically significant\n",
    "- where the structure is"
   ]
  },
  {
   "cell_type": "markdown",
   "metadata": {},
   "source": [
    "### Calculating the similarity- cosine similarity/pearson correlation"
   ]
  },
  {
   "cell_type": "markdown",
   "metadata": {},
   "source": [
    "- i dont think pearson is necessary because there shouldnt be shifts in data "
   ]
  },
  {
   "cell_type": "code",
   "execution_count": 85,
   "metadata": {},
   "outputs": [
    {
     "data": {
      "image/png": "[encoded data removed]",
      "text/plain": [
       "<Figure size 432x288 with 2 Axes>"
      ]
     },
     "metadata": {
      "needs_background": "light"
     },
     "output_type": "display_data"
    }
   ],
   "source": [
    "## similarity matrix of activation at the third hidden layer orders by less than and greater than\n",
    "lgActiv3 = sortbykey(lessGreater,avgDict3)\n",
    "lgActiv3 = mkUnitbyRow(lgActiv3)\n",
    "simlgActiv3 = np.matmul(lgActiv3,np.transpose(lgActiv3))\n",
    "hm = sns.heatmap(simlgActiv3, xticklabels=lessGreater, yticklabels=lessGreater, cmap=\"GnBu\")"
   ]
  },
  {
   "cell_type": "code",
   "execution_count": 86,
   "metadata": {},
   "outputs": [
    {
     "data": {
      "image/png": "[encoded data removed]",
      "text/plain": [
       "<Figure size 432x288 with 2 Axes>"
      ]
     },
     "metadata": {
      "needs_background": "light"
     },
     "output_type": "display_data"
    }
   ],
   "source": [
    "lgActiv2 = sortbykey(lessGreater, avgDict2)\n",
    "lgActiv2 = mkUnitbyRow(lgActiv2)\n",
    "simlgActiv2 = np.matmul(lgActiv2,np.transpose(lgActiv2))\n",
    "hm = sns.heatmap(simlgActiv2, xticklabels=lessGreater, yticklabels=lessGreater, cmap=\"GnBu\")"
   ]
  },
  {
   "cell_type": "code",
   "execution_count": 87,
   "metadata": {},
   "outputs": [
    {
     "data": {
      "image/png": "[encoded data removed]",
      "text/plain": [
       "<Figure size 432x288 with 2 Axes>"
      ]
     },
     "metadata": {
      "needs_background": "light"
     },
     "output_type": "display_data"
    }
   ],
   "source": [
    "# activations of layer 1\n",
    "lgActiv1 = sortbykey(lessGreater, avgDict1)\n",
    "lgActiv1 = mkUnitbyRow(lgActiv1)\n",
    "simlgActiv1= np.matmul(lgActiv1,np.transpose(lgActiv1))\n",
    "hm = sns.heatmap(simlgActiv1, xticklabels=lessGreater, yticklabels=lessGreater, cmap=\"GnBu\")"
   ]
  },
  {
   "cell_type": "code",
   "execution_count": 92,
   "metadata": {},
   "outputs": [
    {
     "data": {
      "image/png": "[encoded data removed]",
      "text/plain": [
       "<Figure size 432x288 with 2 Axes>"
      ]
     },
     "metadata": {
      "needs_background": "light"
     },
     "output_type": "display_data"
    }
   ],
   "source": [
    "# activations of layer 1\n",
    "s1Activ1 = sortbykey(sortedKeys1, avgDict1)\n",
    "s1Activ1 = mkUnitbyRow(s1Activ1)\n",
    "simActiv1= np.matmul(s1Activ1,np.transpose(s1Activ1))\n",
    "hm = sns.heatmap(simActiv1, xticklabels=sortedKeys1, yticklabels=sortedKeys1, cmap=\"GnBu\")"
   ]
  },
  {
   "cell_type": "code",
   "execution_count": 96,
   "metadata": {},
   "outputs": [
    {
     "data": {
      "image/png": "[encoded data removed]",
      "text/plain": [
       "<Figure size 432x288 with 2 Axes>"
      ]
     },
     "metadata": {
      "needs_background": "light"
     },
     "output_type": "display_data"
    }
   ],
   "source": [
    "# activations of layer 1 by distance\n",
    "distkeys = [(0,1),(1,2),(2,3),(3,4),(1,0),(2,1),(3,2),(4,3),(0,2),(1,3),(2,4),(2,0),(3,1),(4,2),(0,3),(1,4),\n",
    "            (3,0),(1,4),(0,4),(4,0)]\n",
    "s2Activ1 = sortbykey(distkeys, avgDict1)\n",
    "s2Activ1 = mkUnitbyRow(s2Activ1)\n",
    "sim2Activ1= np.matmul(s2Activ1,np.transpose(s2Activ1))\n",
    "hm = sns.heatmap(sim2Activ1, xticklabels=sortedKeys1, yticklabels=sortedKeys1, cmap=\"GnBu\")"
   ]
  },
  {
   "cell_type": "markdown",
   "metadata": {},
   "source": [
    "### What if we can try to cluster the activations at each layer and see what stimuli cluster and how that differs <br>\n",
    "    Wait is clustering necessary- try plotting similarity first"
   ]
  },
  {
   "cell_type": "code",
   "execution_count": null,
   "metadata": {},
   "outputs": [],
   "source": []
  }
 ],
 "metadata": {
  "kernelspec": {
   "display_name": "PytochJN",
   "language": "python",
   "name": "pytochjn"
  },
  "language_info": {
   "codemirror_mode": {
    "name": "ipython",
    "version": 3
   },
   "file_extension": ".py",
   "mimetype": "text/x-python",
   "name": "python",
   "nbconvert_exporter": "python",
   "pygments_lexer": "ipython3",
   "version": "3.8.1"
  }
 },
 "nbformat": 4,
 "nbformat_minor": 2
}
