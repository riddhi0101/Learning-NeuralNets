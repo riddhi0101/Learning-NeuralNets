{
 "cells": [
  {
   "cell_type": "code",
   "execution_count": 2,
   "metadata": {},
   "outputs": [],
   "source": [
    "import torch \n",
    "import torch.nn as nn\n",
    "import torchvision.transforms as transforms\n",
    "import torchvision.datasets as dsets\n",
    "import torch.nn.functional as F\n",
    "import matplotlib.pylab as plt\n",
    "import numpy as np\n",
    "from time import time\n",
    "from torch.utils.data import Dataset"
   ]
  },
  {
   "cell_type": "code",
   "execution_count": 21,
   "metadata": {},
   "outputs": [
    {
     "name": "stdout",
     "output_type": "stream",
     "text": [
      "(8, 1)\n"
     ]
    },
    {
     "data": {
      "text/plain": [
       "(8, 2)"
      ]
     },
     "execution_count": 21,
     "metadata": {},
     "output_type": "execute_result"
    }
   ],
   "source": [
    "xcons = np.array([[0,1],[1,0],[1,2],[2,1],[2,3],[3,2],[3,4],[4,3]], dtype = float)\n",
    "ycons = np.array([[0],[1],[0],[1],[0],[1],[0],[1]])\n",
    "print(ycons.shape)\n",
    "xcons.shape"
   ]
  },
  {
   "cell_type": "code",
   "execution_count": 34,
   "metadata": {},
   "outputs": [],
   "source": [
    "ind = 2\n",
    "outd = 1\n",
    "h1d = 4\n",
    "epochs = 1000"
   ]
  },
  {
   "cell_type": "code",
   "execution_count": 35,
   "metadata": {},
   "outputs": [],
   "source": [
    "w1 = np.random.randn(h1d, ind)\n",
    "b1 = np.random.randn(h1d, 1)\n",
    "w2 = np.random.randn(outd, h1d)\n",
    "b2 = np.random.randn(outd, 1)"
   ]
  },
  {
   "cell_type": "code",
   "execution_count": 36,
   "metadata": {},
   "outputs": [],
   "source": [
    "def sigmoid(z):\n",
    "    return 1.0/(1.0+np.exp(-z))\n",
    "\n",
    "def sigmoid_prime(z):\n",
    "    return sigmoid(z)*(1-sigmoid(z))"
   ]
  },
  {
   "cell_type": "code",
   "execution_count": null,
   "metadata": {},
   "outputs": [],
   "source": [
    "lossL = []\n",
    "for epoch in range(epochs):\n",
    "    runningLoss = 0\n",
    "    for x,y in zip(xcons,ycons):\n",
    "        #forward pass\n",
    "        z1 = x.dot(w1) + b1\n",
    "        a1 = sigmoid(z1)\n",
    "        z2 = a1.dot(w2) + b2\n",
    "        a2 = sigmoif(z2)\n",
    "        \n",
    "        #make grad 0\n",
    "        gradw1 = np.zeros(w1.shape)\n",
    "        gradw2 = np.zeros(w2.shape)\n",
    "        gradb1 = "
   ]
  }
 ],
 "metadata": {
  "kernelspec": {
   "display_name": "PytochJN",
   "language": "python",
   "name": "pytochjn"
  },
  "language_info": {
   "codemirror_mode": {
    "name": "ipython",
    "version": 3
   },
   "file_extension": ".py",
   "mimetype": "text/x-python",
   "name": "python",
   "nbconvert_exporter": "python",
   "pygments_lexer": "ipython3",
   "version": "3.8.1"
  }
 },
 "nbformat": 4,
 "nbformat_minor": 2
}
