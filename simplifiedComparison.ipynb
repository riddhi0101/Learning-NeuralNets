{
 "cells": [
  {
   "cell_type": "markdown",
   "metadata": {},
   "source": [
    "# Comparison without classification"
   ]
  },
  {
   "cell_type": "code",
   "execution_count": 2,
   "metadata": {},
   "outputs": [],
   "source": [
    "import torch\n",
    "from torch.utils.data import Dataset\n",
    "import torch.nn.functional as F\n",
    "import torch.nn as nn\n",
    "import numpy as np"
   ]
  },
  {
   "cell_type": "markdown",
   "metadata": {},
   "source": [
    "## Make Data"
   ]
  },
  {
   "cell_type": "code",
   "execution_count": 47,
   "metadata": {},
   "outputs": [],
   "source": [
    "class conComparisonData(torch.utils.data.Dataset):\n",
    "    \n",
    "    def __init__(self):\n",
    "        #unnecessary because they are all the same\n",
    "        self.x = torch.zeros([500,2])\n",
    "        self.y = torch.zeros([500,1])\n",
    "        k = 0\n",
    "        for i in range(1,6):\n",
    "            for j in range(50):\n",
    "                self.x[k][0] = i-1\n",
    "                self.x[k][1] = i\n",
    "                self.y[k][0] = 0\n",
    "                k += 1\n",
    "                self.x[k][0] = i\n",
    "                self.x[k][1] = i-1\n",
    "                self.y[k][0] = 1\n",
    "                k += 1\n",
    "        self.len = len(self.x)\n",
    "            \n",
    "    def __getitem__(self, index):\n",
    "        return (self.x[index], self.y[index])\n",
    "    \n",
    "    def __len__(self):\n",
    "        return self.len\n",
    "        "
   ]
  },
  {
   "cell_type": "code",
   "execution_count": 49,
   "metadata": {},
   "outputs": [
    {
     "data": {
      "text/plain": [
       "(tensor([0., 1.]), tensor([0.]))"
      ]
     },
     "execution_count": 49,
     "metadata": {},
     "output_type": "execute_result"
    }
   ],
   "source": [
    "dataset = conComparisonData()\n",
    "len(dataset)\n",
    "dataset[0]"
   ]
  },
  {
   "cell_type": "markdown",
   "metadata": {},
   "source": [
    "## Model"
   ]
  },
  {
   "cell_type": "code",
   "execution_count": 6,
   "metadata": {},
   "outputs": [
    {
     "data": {
      "text/plain": [
       "OrderedDict([('lin1.weight',\n",
       "              tensor([[ 0.6005, -0.3679],\n",
       "                      [-0.4366,  0.3920],\n",
       "                      [ 0.0515,  0.1376],\n",
       "                      [ 0.6551, -0.4528]])),\n",
       "             ('lin1.bias', tensor([-0.5528,  0.1071, -0.1619, -0.0622])),\n",
       "             ('lin2.weight', tensor([[ 0.0783,  0.1616,  0.3737, -0.4999]])),\n",
       "             ('lin2.bias', tensor([0.1046]))])"
      ]
     },
     "execution_count": 6,
     "metadata": {},
     "output_type": "execute_result"
    }
   ],
   "source": [
    "class Model(nn.Module):\n",
    "    def __init__(self,ind,h1,outd):\n",
    "        super(Model, self).__init__()\n",
    "        self.lin1 = nn.Linear(ind,h1)\n",
    "        self.lin2 = nn.Linear(h1,outd)\n",
    "    \n",
    "    def forward(self,x):\n",
    "        x = torch.relu(self.lin1(x))\n",
    "        x = torch.sigmoid(self.lin2(x))\n",
    "        return x\n",
    "\n",
    "model = Model(2,4,1)\n",
    "model.state_dict()"
   ]
  },
  {
   "cell_type": "code",
   "execution_count": 7,
   "metadata": {},
   "outputs": [
    {
     "name": "stdout",
     "output_type": "stream",
     "text": [
      "tensor([0., 1.])\n"
     ]
    },
    {
     "data": {
      "text/plain": [
       "torch.Size([500, 1])"
      ]
     },
     "execution_count": 7,
     "metadata": {},
     "output_type": "execute_result"
    }
   ],
   "source": [
    "x = dataset[0][0]\n",
    "print(x)\n",
    "yhat = model(x)\n",
    "yhat\n",
    "len(model(dataset.x))\n",
    "dataset.y.shape"
   ]
  },
  {
   "cell_type": "markdown",
   "metadata": {},
   "source": [
    "## Training and Validation"
   ]
  },
  {
   "cell_type": "code",
   "execution_count": 8,
   "metadata": {},
   "outputs": [],
   "source": [
    "def train(model,criterion,optimizer,dataset):\n",
    "    lossList = []\n",
    "    for i in range(10000):\n",
    "        optimizer.zero_grad()\n",
    "        yhat = model(dataset.x)\n",
    "        #print(yhat)\n",
    "        loss = criterion(yhat,dataset.y)\n",
    "        lossList.append(loss.item())\n",
    "        loss.backward()\n",
    "        optimizer.step()\n",
    "        if i % 1000 == 0:\n",
    "            print('epoch ', i, ' loss: ', str(loss.item()))\n",
    "    return lossList    \n",
    "    "
   ]
  },
  {
   "cell_type": "code",
   "execution_count": 23,
   "metadata": {},
   "outputs": [
    {
     "name": "stdout",
     "output_type": "stream",
     "text": [
      "epoch  0  loss:  0.0023376168683171272\n",
      "epoch  1000  loss:  0.002042541280388832\n",
      "epoch  2000  loss:  0.0018085803603753448\n",
      "epoch  3000  loss:  0.001619085669517517\n",
      "epoch  4000  loss:  0.0014627992641180754\n",
      "epoch  5000  loss:  0.0013319465797394514\n",
      "epoch  6000  loss:  0.0012209804262965918\n",
      "epoch  7000  loss:  0.0011257779551669955\n",
      "epoch  8000  loss:  0.0010433244751766324\n",
      "epoch  9000  loss:  0.0009713053586892784\n"
     ]
    }
   ],
   "source": [
    "criterion = nn.BCELoss()\n",
    "optimizer = torch.optim.SGD(model.parameters(), lr=0.01)\n",
    "lossL = train(model,criterion,optimizer,dataset)"
   ]
  },
  {
   "cell_type": "code",
   "execution_count": 24,
   "metadata": {},
   "outputs": [
    {
     "data": {
      "text/plain": [
       "tensor([[0.0044],\n",
       "        [0.0005],\n",
       "        [0.0004],\n",
       "        [0.0004],\n",
       "        [0.0005]], grad_fn=<SigmoidBackward>)"
      ]
     },
     "execution_count": 24,
     "metadata": {},
     "output_type": "execute_result"
    }
   ],
   "source": [
    "vL = torch.tensor([[0.,1.],[1.,2.],[2.,3.],[3.,4.],[4.,5.]])\n",
    "v0 = model(vL)\n",
    "v0"
   ]
  },
  {
   "cell_type": "code",
   "execution_count": 25,
   "metadata": {},
   "outputs": [
    {
     "data": {
      "text/plain": [
       "tensor([[0.9992],\n",
       "        [0.9993],\n",
       "        [0.9995],\n",
       "        [1.0000],\n",
       "        [0.9996]], grad_fn=<SigmoidBackward>)"
      ]
     },
     "execution_count": 25,
     "metadata": {},
     "output_type": "execute_result"
    }
   ],
   "source": [
    "vG = torch.tensor([[1.,0.],[2.,1.],[3.,2.],[4.,2.],[5.,4.]])\n",
    "v1 = model(vG)\n",
    "v1"
   ]
  },
  {
   "cell_type": "markdown",
   "metadata": {},
   "source": [
    "## Test with untrained comparisons"
   ]
  },
  {
   "cell_type": "code",
   "execution_count": 3,
   "metadata": {},
   "outputs": [
    {
     "name": "stdout",
     "output_type": "stream",
     "text": [
      "tensor([[0., 2.],\n",
      "        [0., 3.],\n",
      "        [0., 4.],\n",
      "        [0., 5.],\n",
      "        [1., 3.],\n",
      "        [1., 4.],\n",
      "        [1., 5.],\n",
      "        [2., 4.],\n",
      "        [2., 5.],\n",
      "        [3., 5.]])\n"
     ]
    }
   ],
   "source": [
    "testing0 = torch.zeros([10,2])\n",
    "k = 0\n",
    "for i in range(4):\n",
    "    for j in range(i+2,6):\n",
    "        testing0[k][0] = i\n",
    "        testing0[k][1] = j\n",
    "        k += 1\n",
    "print(testing0)\n",
    "testing1 = torch.zeros([10,2])\n",
    "k = 0\n",
    "for i in range(5,-1,-1):\n",
    "    for j in range(i-2,-1,-1):\n",
    "        testing1[k][0] = i\n",
    "        testing1[k][1] = j\n",
    "        k += 1\n",
    "#print(testing1)"
   ]
  },
  {
   "cell_type": "code",
   "execution_count": 44,
   "metadata": {},
   "outputs": [
    {
     "data": {
      "text/plain": [
       "tensor([[2.5940e-04],\n",
       "        [1.5220e-05],\n",
       "        [8.9280e-07],\n",
       "        [5.2371e-08],\n",
       "        [3.0439e-05],\n",
       "        [1.7856e-06],\n",
       "        [1.0474e-07],\n",
       "        [3.5711e-06],\n",
       "        [2.0948e-07],\n",
       "        [4.1894e-07]], grad_fn=<SigmoidBackward>)"
      ]
     },
     "execution_count": 44,
     "metadata": {},
     "output_type": "execute_result"
    }
   ],
   "source": [
    "result0 = model(testing0)\n",
    "result0"
   ]
  },
  {
   "cell_type": "code",
   "execution_count": 45,
   "metadata": {},
   "outputs": [
    {
     "data": {
      "text/plain": [
       "tensor([[1.0000],\n",
       "        [1.0000],\n",
       "        [1.0000],\n",
       "        [1.0000],\n",
       "        [1.0000],\n",
       "        [1.0000],\n",
       "        [1.0000],\n",
       "        [1.0000],\n",
       "        [1.0000],\n",
       "        [1.0000]], grad_fn=<SigmoidBackward>)"
      ]
     },
     "execution_count": 45,
     "metadata": {},
     "output_type": "execute_result"
    }
   ],
   "source": [
    "result1 = model(testing1)\n",
    "result1"
   ]
  },
  {
   "cell_type": "code",
   "execution_count": null,
   "metadata": {},
   "outputs": [],
   "source": []
  }
 ],
 "metadata": {
  "kernelspec": {
   "display_name": "PytochJN",
   "language": "python",
   "name": "pytochjn"
  },
  "language_info": {
   "codemirror_mode": {
    "name": "ipython",
    "version": 3
   },
   "file_extension": ".py",
   "mimetype": "text/x-python",
   "name": "python",
   "nbconvert_exporter": "python",
   "pygments_lexer": "ipython3",
   "version": "3.8.1"
  }
 },
 "nbformat": 4,
 "nbformat_minor": 2
}
