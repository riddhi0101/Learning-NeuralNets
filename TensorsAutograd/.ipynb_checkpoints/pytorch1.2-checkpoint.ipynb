{
 "cells": [
  {
   "cell_type": "code",
   "execution_count": 2,
   "metadata": {},
   "outputs": [],
   "source": [
    "import numpy as np\n",
    "import matplotlib.pyplot as plt\n",
    "import torch\n",
    "import pandas as pd"
   ]
  },
  {
   "cell_type": "code",
   "execution_count": 5,
   "metadata": {},
   "outputs": [
    {
     "name": "stdout",
     "output_type": "stream",
     "text": [
      "tensor([[11, 12, 13],\n",
      "        [21, 22, 23],\n",
      "        [31, 32, 33]])\n"
     ]
    }
   ],
   "source": [
    "twoD_list = [[11,12,13],[21,22,23],[31,32,33]]\n",
    "a = torch.tensor(twoD_list)\n",
    "print(a)"
   ]
  },
  {
   "cell_type": "code",
   "execution_count": 10,
   "metadata": {},
   "outputs": [
    {
     "name": "stdout",
     "output_type": "stream",
     "text": [
      "2\n",
      "torch.Size([3, 3])\n",
      "torch.Size([3, 3])\n",
      "9\n"
     ]
    }
   ],
   "source": [
    "print(a.ndimension())\n",
    "print(a.shape)\n",
    "print(a.size())\n",
    "print(a.numel())"
   ]
  },
  {
   "cell_type": "code",
   "execution_count": 11,
   "metadata": {},
   "outputs": [
    {
     "name": "stdout",
     "output_type": "stream",
     "text": [
      "[[11 12 13]\n",
      " [21 22 23]\n",
      " [31 32 33]]\n",
      "int64\n",
      "converted to tensor\n",
      "tensor([[11, 12, 13],\n",
      "        [21, 22, 23],\n",
      "        [31, 32, 33]])\n",
      "torch.int64\n"
     ]
    }
   ],
   "source": [
    "twoD_numpy = twoD_tensor.numpy()\n",
    "print(twoD_numpy)\n",
    "print(twoD_numpy.dtype)\n",
    "print(\"converted to tensor\")\n",
    "b = torch.from_numpy(twoD_numpy)\n",
    "print(b)\n",
    "print(b.dtype)"
   ]
  },
  {
   "cell_type": "code",
   "execution_count": 21,
   "metadata": {},
   "outputs": [
    {
     "name": "stdout",
     "output_type": "stream",
     "text": [
      "    a    b\n",
      "0  11   12\n",
      "1  21   22\n",
      "2  31  312\n",
      "[[ 11  12]\n",
      " [ 21  22]\n",
      " [ 31 312]]\n",
      "int64\n",
      "tensor([[ 11,  12],\n",
      "        [ 21,  22],\n",
      "        [ 31, 312]])\n",
      "torch.int64\n",
      "tensor([[ 11,  12],\n",
      "        [ 21,  22],\n",
      "        [ 31, 312]])\n"
     ]
    }
   ],
   "source": [
    "df = pd.DataFrame({'a':[11,21,31],'b':[12,22,312]})\n",
    "print(df)\n",
    "print(df.values)\n",
    "print(df.values.dtype)\n",
    "c = torch.from_numpy(df.values)\n",
    "print(c)\n",
    "print(c.dtype)\n",
    "print(torch.tensor(df.values))\n"
   ]
  },
  {
   "cell_type": "code",
   "execution_count": 22,
   "metadata": {},
   "outputs": [
    {
     "name": "stdout",
     "output_type": "stream",
     "text": [
      "tensor([[11, 12, 13],\n",
      "        [21, 22, 23],\n",
      "        [31, 32, 33]])\n"
     ]
    }
   ],
   "source": [
    "print(a)"
   ]
  },
  {
   "cell_type": "code",
   "execution_count": 26,
   "metadata": {},
   "outputs": [
    {
     "name": "stdout",
     "output_type": "stream",
     "text": [
      "What is the value on 2nd-row 3rd-column? tensor(23)\n",
      "What is the value on 2nd-row 3rd-column?  tensor(23)\n"
     ]
    }
   ],
   "source": [
    "#indexing/slicing- like in matlab\n",
    "print(\"What is the value on 2nd-row 3rd-column?\",a[1][2])\n",
    "print(\"What is the value on 2nd-row 3rd-column? \",a[1,2])"
   ]
  },
  {
   "cell_type": "code",
   "execution_count": 28,
   "metadata": {},
   "outputs": [
    {
     "name": "stdout",
     "output_type": "stream",
     "text": [
      "What is the value on 1st-row first two columns?  tensor([11, 12])\n",
      "What is the value on 1st-row first two columns?  tensor([11, 12])\n"
     ]
    }
   ],
   "source": [
    "print(\"What is the value on 1st-row first two columns? \",a[0,0:2])\n",
    "print(\"What is the value on 1st-row first two columns? \",a[0][0:2])"
   ]
  },
  {
   "cell_type": "code",
   "execution_count": 34,
   "metadata": {},
   "outputs": [
    {
     "name": "stdout",
     "output_type": "stream",
     "text": [
      "tensor([[21, 22, 23],\n",
      "        [31, 32, 33]])\n",
      "2\n",
      "tensor([31, 32, 33])\n",
      "1\n",
      "tensor([31, 32, 33])\n"
     ]
    }
   ],
   "source": [
    "sla = a[1:3]\n",
    "print(sla)\n",
    "print(sla.ndimension())\n",
    "print(sla[1])\n",
    "print(sla[1].ndimension())\n",
    "print(a[1:3][1])"
   ]
  },
  {
   "cell_type": "code",
   "execution_count": 37,
   "metadata": {},
   "outputs": [
    {
     "name": "stdout",
     "output_type": "stream",
     "text": [
      "tensor([23, 33])\n"
     ]
    }
   ],
   "source": [
    "print(a[1:3,2])"
   ]
  },
  {
   "cell_type": "code",
   "execution_count": 38,
   "metadata": {},
   "outputs": [
    {
     "name": "stdout",
     "output_type": "stream",
     "text": [
      "tensor([[3, 1],\n",
      "        [1, 3]])\n"
     ]
    }
   ],
   "source": [
    "#operations\n",
    "x = torch.tensor([[1,0],[0,1]])\n",
    "y = torch.tensor([[2,1],[1,2]])\n",
    "z = x+y\n",
    "print(z)"
   ]
  },
  {
   "cell_type": "code",
   "execution_count": 39,
   "metadata": {},
   "outputs": [
    {
     "name": "stdout",
     "output_type": "stream",
     "text": [
      "tensor([[4, 2],\n",
      "        [2, 4]])\n"
     ]
    }
   ],
   "source": [
    "twoy = 2*y\n",
    "print(twoy)"
   ]
  },
  {
   "cell_type": "code",
   "execution_count": 40,
   "metadata": {},
   "outputs": [
    {
     "name": "stdout",
     "output_type": "stream",
     "text": [
      "tensor([[0, 2],\n",
      "        [0, 2]])\n"
     ]
    }
   ],
   "source": [
    "A = torch.tensor([[0, 1, 1], [1, 0, 1]])\n",
    "B = torch.tensor([[1, 1], [1, 1], [-1, 1]])\n",
    "ABmm = torch.mm(A,B)\n",
    "print(ABmm)"
   ]
  },
  {
   "cell_type": "code",
   "execution_count": 41,
   "metadata": {},
   "outputs": [
    {
     "name": "stdout",
     "output_type": "stream",
     "text": [
      "tensor([[2, 0],\n",
      "        [0, 2]])\n"
     ]
    }
   ],
   "source": [
    "print(x*y)\n",
    "#the * is element wise multiplication"
   ]
  },
  {
   "cell_type": "code",
   "execution_count": null,
   "metadata": {},
   "outputs": [],
   "source": []
  }
 ],
 "metadata": {
  "kernelspec": {
   "display_name": "PytochJN",
   "language": "python",
   "name": "pytochjn"
  },
  "language_info": {
   "codemirror_mode": {
    "name": "ipython",
    "version": 3
   },
   "file_extension": ".py",
   "mimetype": "text/x-python",
   "name": "python",
   "nbconvert_exporter": "python",
   "pygments_lexer": "ipython3",
   "version": "3.8.1"
  }
 },
 "nbformat": 4,
 "nbformat_minor": 2
}
