{
 "cells": [
  {
   "cell_type": "code",
   "execution_count": 3,
   "metadata": {},
   "outputs": [],
   "source": [
    "import torch \n",
    "import torch.nn as nn\n",
    "import torchvision.transforms as transforms\n",
    "import torchvision.datasets as dsets\n",
    "import torch.nn.functional as F\n",
    "import matplotlib.pylab as plt\n",
    "import numpy as np\n",
    "from time import time"
   ]
  },
  {
   "cell_type": "code",
   "execution_count": 4,
   "metadata": {},
   "outputs": [],
   "source": [
    "transform = transforms.Compose([transforms.ToTensor(),\n",
    "                              transforms.Normalize((0.5,), (0.5,)),])\n",
    "trainset = dsets.MNIST(root='./../data', \n",
    "                            train=True, \n",
    "                            download=True, \n",
    "                            transform=transform)\n",
    "valset = dsets.MNIST(root='./../data', \n",
    "                            train=True, \n",
    "                            download=True, \n",
    "                            transform=transform)"
   ]
  },
  {
   "cell_type": "code",
   "execution_count": 5,
   "metadata": {},
   "outputs": [],
   "source": [
    "def show_data(data_sample):\n",
    "    plt.imshow(data_sample[0].numpy().reshape(28, 28), cmap='gray')\n",
    "    plt.title('y = ' + str(data_sample[1]))\n",
    "    plt.show()"
   ]
  },
  {
   "cell_type": "code",
   "execution_count": 6,
   "metadata": {},
   "outputs": [],
   "source": [
    "def show_data1(data_sample,y):\n",
    "    plt.subplot(1,2,1)\n",
    "    plt.imshow(data_sample[0].numpy().reshape(28, 28), cmap='gray')\n",
    "    plt.subplot(1,2,2)\n",
    "    plt.imshow(data_sample[1].numpy().reshape(28, 28), cmap='gray')\n",
    "    plt.title('y = ' + str(y))\n",
    "\n",
    "    plt.show()"
   ]
  },
  {
   "cell_type": "code",
   "execution_count": 7,
   "metadata": {},
   "outputs": [
    {
     "name": "stdout",
     "output_type": "stream",
     "text": [
      "60000\n",
      "torch.Size([1, 28, 28])\n"
     ]
    },
    {
     "data": {
      "image/png": "[encoded data removed]",
      "text/plain": [
       "<Figure size 432x288 with 1 Axes>"
      ]
     },
     "metadata": {
      "needs_background": "light"
     },
     "output_type": "display_data"
    },
    {
     "name": "stdout",
     "output_type": "stream",
     "text": [
      "None\n"
     ]
    }
   ],
   "source": [
    "print(len(trainset))\n",
    "#print(trainset[1])\n",
    "# a tuple of a tensor with the image and its lable\n",
    "print(trainset[1][0].shape)\n",
    "print(show_data(trainset[1]))"
   ]
  },
  {
   "cell_type": "code",
   "execution_count": 8,
   "metadata": {},
   "outputs": [
    {
     "name": "stdout",
     "output_type": "stream",
     "text": [
      "5923\n",
      "5923\n"
     ]
    }
   ],
   "source": [
    "def get_same_index(target, label):\n",
    "    label_indices = []\n",
    "\n",
    "    for i in range(len(target)):\n",
    "        if target[i] == label:\n",
    "            label_indices.append(i)\n",
    "\n",
    "    return label_indices\n",
    "indices0 = get_same_index(trainset.targets, 0)\n",
    "trainsample0 = torch.utils.data.sampler.SubsetRandomSampler(indices0)\n",
    "\n",
    "indices1 = get_same_index(trainset.targets, 1)\n",
    "trainsample1 = torch.utils.data.sampler.SubsetRandomSampler(indices0)\n",
    "print(len(trainsample0))\n",
    "print(len(trainsample1))\n",
    "#for i in range(0,len(indices1),500):\n",
    " #  show_data(trainset[indices1[i]])"
   ]
  },
  {
   "cell_type": "code",
   "execution_count": 7,
   "metadata": {},
   "outputs": [],
   "source": [
    "class Model1(nn.Module):\n",
    "    def __init__(self,ind, hd, outd):\n",
    "        super(Model1, self).__init__()\n",
    "        self.lin1 = nn.Linear(ind,hd[0])\n",
    "        self.lin2 = nn.Linear(hd[0],hd[1])\n",
    "        self.lin3 = nn.Linear(hd[1], outd)\n",
    "    def forward(self,x):\n",
    "        x = torch.relu(self.lin1(x))\n",
    "        x = torch.relu(self.lin2(x))\n",
    "        x = self.lin3(x)\n",
    "        return x"
   ]
  },
  {
   "cell_type": "code",
   "execution_count": 16,
   "metadata": {},
   "outputs": [],
   "source": [
    "ind = 2 * 28 * 28\n",
    "outd = 2\n",
    "hd = [128,64]"
   ]
  },
  {
   "cell_type": "code",
   "execution_count": 20,
   "metadata": {},
   "outputs": [],
   "source": [
    "criterion = nn.CrossEntropyLoss()\n",
    "model = Model1(ind,hd,outd)\n",
    "optimizer = torch.optim.SGD(model.parameters(), lr=0.03)\n"
   ]
  },
  {
   "cell_type": "code",
   "execution_count": 32,
   "metadata": {},
   "outputs": [
    {
     "name": "stdout",
     "output_type": "stream",
     "text": [
      "5923\n",
      "5923\n"
     ]
    }
   ],
   "source": [
    "trainloader0 = train_loader = torch.utils.data.DataLoader(\n",
    "        trainset,\n",
    "        batch_size=1,\n",
    "        sampler=trainsample0)\n",
    "\n",
    "trainloader1 = train_loader = torch.utils.data.DataLoader(\n",
    "        trainset,\n",
    "        batch_size=1,\n",
    "        sampler=trainsample1)\n",
    "\n",
    "print(len(trainloader0))\n",
    "print(len(trainloader1))"
   ]
  },
  {
   "cell_type": "markdown",
   "metadata": {},
   "source": [
    "dataiter = iter(trainloader0)\n",
    "images, labels = dataiter.next()\n",
    "\n",
    "print(images.shape)\n",
    "print(labels)\n",
    "#for x,y in trainloader0:\n",
    "this wont work because how will you do for more than one comparison  "
   ]
  },
  {
   "cell_type": "code",
   "execution_count": 33,
   "metadata": {},
   "outputs": [
    {
     "ename": "SyntaxError",
     "evalue": "invalid syntax (<ipython-input-33-391dfeed441d>, line 4)",
     "output_type": "error",
     "traceback": [
      "\u001b[0;36m  File \u001b[0;32m\"<ipython-input-33-391dfeed441d>\"\u001b[0;36m, line \u001b[0;32m4\u001b[0m\n\u001b[0;31m    for x,y in\u001b[0m\n\u001b[0m               ^\u001b[0m\n\u001b[0;31mSyntaxError\u001b[0m\u001b[0;31m:\u001b[0m invalid syntax\n"
     ]
    }
   ],
   "source": [
    "i = 0\n",
    "data = torch.Tensor\n",
    "while i != 45:\n",
    "    for x,y in "
   ]
  },
  {
   "cell_type": "code",
   "execution_count": 44,
   "metadata": {},
   "outputs": [
    {
     "name": "stdout",
     "output_type": "stream",
     "text": [
      "2961.0\n",
      "5923\n",
      "6742\n",
      "torch.Size([1, 28, 28])\n"
     ]
    }
   ],
   "source": [
    "trainset_0 = torch.utils.data.Subset(trainset, indices0)\n",
    "trainset_1 = torch.utils.data.Subset(trainset, indices1)\n",
    "comp01 = (len(trainset_0) - 1)/2\n",
    "print(comp01)\n",
    "print(len(trainset_0))\n",
    "print(len(trainset_1))\n",
    "print(trainset_0[1][0].shape)"
   ]
  },
  {
   "cell_type": "code",
   "execution_count": 91,
   "metadata": {},
   "outputs": [
    {
     "data": {
      "image/png": "[encoded data removed]",
      "text/plain": [
       "<Figure size 432x288 with 2 Axes>"
      ]
     },
     "metadata": {
      "needs_background": "light"
     },
     "output_type": "display_data"
    },
    {
     "data": {
      "image/png": "[encoded data removed]",
      "text/plain": [
       "<Figure size 432x288 with 2 Axes>"
      ]
     },
     "metadata": {
      "needs_background": "light"
     },
     "output_type": "display_data"
    },
    {
     "data": {
      "image/png": "[encoded data removed]",
      "text/plain": [
       "<Figure size 432x288 with 2 Axes>"
      ]
     },
     "metadata": {
      "needs_background": "light"
     },
     "output_type": "display_data"
    },
    {
     "data": {
      "image/png": "[encoded data removed]",
      "text/plain": [
       "<Figure size 432x288 with 2 Axes>"
      ]
     },
     "metadata": {
      "needs_background": "light"
     },
     "output_type": "display_data"
    },
    {
     "data": {
      "image/png": "[encoded data removed]",
      "text/plain": [
       "<Figure size 432x288 with 2 Axes>"
      ]
     },
     "metadata": {
      "needs_background": "light"
     },
     "output_type": "display_data"
    },
    {
     "data": {
      "image/png": "[encoded data removed]",
      "text/plain": [
       "<Figure size 432x288 with 2 Axes>"
      ]
     },
     "metadata": {
      "needs_background": "light"
     },
     "output_type": "display_data"
    },
    {
     "data": {
      "image/png": "[encoded data removed]",
      "text/plain": [
       "<Figure size 432x288 with 2 Axes>"
      ]
     },
     "metadata": {
      "needs_background": "light"
     },
     "output_type": "display_data"
    },
    {
     "data": {
      "image/png": "[encoded data removed]",
      "text/plain": [
       "<Figure size 432x288 with 2 Axes>"
      ]
     },
     "metadata": {
      "needs_background": "light"
     },
     "output_type": "display_data"
    },
    {
     "data": {
      "image/png": "[encoded data removed]",
      "text/plain": [
       "<Figure size 432x288 with 2 Axes>"
      ]
     },
     "metadata": {
      "needs_background": "light"
     },
     "output_type": "display_data"
    },
    {
     "data": {
      "image/png": "[encoded data removed]",
      "text/plain": [
       "<Figure size 432x288 with 2 Axes>"
      ]
     },
     "metadata": {
      "needs_background": "light"
     },
     "output_type": "display_data"
    },
    {
     "data": {
      "image/png": "[encoded data removed]",
      "text/plain": [
       "<Figure size 432x288 with 2 Axes>"
      ]
     },
     "metadata": {
      "needs_background": "light"
     },
     "output_type": "display_data"
    },
    {
     "data": {
      "image/png": "[encoded data removed]",
      "text/plain": [
       "<Figure size 432x288 with 2 Axes>"
      ]
     },
     "metadata": {
      "needs_background": "light"
     },
     "output_type": "display_data"
    }
   ],
   "source": [
    "x = torch.zeros([2961,2,28,28], dtype=torch.float32)\n",
    "y = torch.zeros(x.shape[0])\n",
    "# 1 for greater, 0 for less\n",
    "for i in range(int(comp01)):\n",
    "    x[i][0] = trainset_0[i][0][0]\n",
    "    x[i][1] = trainset_1[i][0][0]\n",
    "    y[i] = 0\n",
    "\n",
    "for i in range(0, int(comp01),500):\n",
    "    show_data1(x[i],y[i])\n",
    "    show_data1(x[i],y[i])\n",
    "\n",
    "\n",
    "\n"
   ]
  },
  {
   "cell_type": "code",
   "execution_count": 12,
   "metadata": {},
   "outputs": [
    {
     "data": {
      "text/plain": [
       "6742"
      ]
     },
     "execution_count": 12,
     "metadata": {},
     "output_type": "execute_result"
    }
   ],
   "source": [
    "indicesv = []\n",
    "for i in range(5):\n",
    "    indlist = get_same_index(valset.targets,i)\n",
    "    indicesv.append(indlist)\n",
    "len(indicesv[1])"
   ]
  },
  {
   "cell_type": "code",
   "execution_count": null,
   "metadata": {},
   "outputs": [],
   "source": [
    "indicesv = []\n",
    "for i in range(5):\n",
    "    indlist = get_same_index(valset.targets,i)\n",
    "    indicesv.append(indlist)\n",
    "subsetsv = []\n",
    "[subsetsv.append(torch.utils.data.Subset(valset, i)) for i in indicesv]\n",
    "compv = []\n",
    "for indi in range(len(indicesv) - 1):\n",
    "    compv.append(int(min(len(subsetsv[indi]), len(subsetsv[indi+1]))))\n",
    "totv = sum(compv)\n",
    "print(len(indicesv))\n",
    "print(subsetsv)\n",
    "print(compv)\n",
    "\n",
    "xv = torch.zeros([totv,2,28,28], dtype=torch.float32)\n",
    "print(xv.shape)\n",
    "yv = []\n",
    "# 1 for first pic greater, 0 for first pic less\n",
    "k = 0\n",
    "for i in range(len(subsetsv)-1):\n",
    "    for j in range(int(compv[i]/2)):\n",
    "        xv[k][0] = subsetsv[i][j][0]\n",
    "        xv[k][1] = subsetsv[i+1][j][0]\n",
    "        yv.append(0)\n",
    "        k+=1\n",
    "    for j in range(int(compv[i]/2), compv[i]):\n",
    "        xv[k][1] = subsetsv[i][j][0]\n",
    "        xv[k][0] = subsetsv[i+1][j][0]\n",
    "        yv.append(1)\n",
    "        k+=1\n",
    "\n",
    "for i in range(0, xv.shape[0],500):\n",
    "    show_data(xv[i],yv[i])\n",
    "\n",
    "valsetcomp = Trainsetcomp(xv,yv)\n",
    "print(valsetcomp[0][0].shape)\n",
    "print(valsetcomp[0][1])\n",
    "show_data(valsetcomp[6000][0],valsetcomp[6000][1])\n",
    "len(valsetcomp)== totv\n",
    "len(valsetcomp) == len(trainsetcomp)"
   ]
  }
 ],
 "metadata": {
  "kernelspec": {
   "display_name": "PytochJN",
   "language": "python",
   "name": "pytochjn"
  },
  "language_info": {
   "codemirror_mode": {
    "name": "ipython",
    "version": 3
   },
   "file_extension": ".py",
   "mimetype": "text/x-python",
   "name": "python",
   "nbconvert_exporter": "python",
   "pygments_lexer": "ipython3",
   "version": "3.8.1"
  }
 },
 "nbformat": 4,
 "nbformat_minor": 2
}
