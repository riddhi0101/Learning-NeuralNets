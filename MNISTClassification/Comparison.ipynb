{
 "cells": [
  {
   "cell_type": "markdown",
   "metadata": {},
   "source": [
    "## Prep"
   ]
  },
  {
   "cell_type": "code",
   "execution_count": 52,
   "metadata": {},
   "outputs": [],
   "source": [
    "import torch \n",
    "import torch.nn as nn\n",
    "import torchvision.transforms as transforms\n",
    "import torchvision.datasets as dsets\n",
    "import torch.nn.functional as F\n",
    "import matplotlib.pylab as plt\n",
    "import numpy as np\n",
    "from time import time\n",
    "from torch.utils.data import Dataset"
   ]
  },
  {
   "cell_type": "code",
   "execution_count": 53,
   "metadata": {},
   "outputs": [],
   "source": [
    "def plot_accuracy_loss(training_results): \n",
    "    plt.subplot(2, 1, 1)\n",
    "    plt.plot(training_results['training_loss'], 'r')\n",
    "    plt.ylabel('loss')\n",
    "    plt.title('training loss iterations')\n",
    "    plt.subplot(2, 1, 2)\n",
    "    plt.plot(training_results['validation_accuracy'])\n",
    "    plt.ylabel('accuracy')\n",
    "    plt.xlabel('epochs')   \n",
    "    plt.show()"
   ]
  },
  {
   "cell_type": "code",
   "execution_count": 54,
   "metadata": {},
   "outputs": [],
   "source": [
    "def show_data1(data_sample):\n",
    "    plt.imshow(data_sample[0].numpy().reshape(28, 28), cmap='gray')\n",
    "    plt.title('y = ' + str(data_sample[1]))\n",
    "    plt.show()"
   ]
  },
  {
   "cell_type": "code",
   "execution_count": 55,
   "metadata": {},
   "outputs": [],
   "source": [
    "def show_data(data_sample,y):\n",
    "    plt.subplot(1,2,1)\n",
    "    plt.imshow(data_sample[0].numpy().reshape(28, 28), cmap='gray')\n",
    "    plt.subplot(1,2,2)\n",
    "    plt.imshow(data_sample[1].numpy().reshape(28, 28), cmap='gray')\n",
    "    plt.title('y = ' + str(y))\n",
    "\n",
    "    plt.show()"
   ]
  },
  {
   "cell_type": "markdown",
   "metadata": {},
   "source": [
    "## Data pairing"
   ]
  },
  {
   "cell_type": "code",
   "execution_count": 56,
   "metadata": {},
   "outputs": [],
   "source": [
    "transform = transforms.Compose([transforms.ToTensor(),\n",
    "                              transforms.Normalize((0.5,), (0.5,)),])\n",
    "trainset = dsets.MNIST(root='./../data', \n",
    "                            train=True, \n",
    "                            download=True, \n",
    "                            transform=transform)\n",
    "valset = dsets.MNIST(root='./../data', \n",
    "                            train=False, \n",
    "                            download=True, \n",
    "                            transform=transform)"
   ]
  },
  {
   "cell_type": "code",
   "execution_count": 57,
   "metadata": {},
   "outputs": [
    {
     "name": "stdout",
     "output_type": "stream",
     "text": [
      "60000\n",
      "torch.Size([1, 28, 28])\n",
      "0\n"
     ]
    }
   ],
   "source": [
    "print(len(trainset))\n",
    "#print(trainset[1])\n",
    "# a tuple of a tensor with the image and its lable\n",
    "print(trainset[1][0].shape)\n",
    "print(trainset[1][1])"
   ]
  },
  {
   "cell_type": "code",
   "execution_count": 58,
   "metadata": {},
   "outputs": [
    {
     "name": "stdout",
     "output_type": "stream",
     "text": [
      "10000\n",
      "torch.Size([1, 28, 28])\n",
      "2\n"
     ]
    }
   ],
   "source": [
    "print(len(valset))\n",
    "#print(trainset[1])\n",
    "# a tuple of a tensor with the image and its lable\n",
    "print(valset[1][0].shape)\n",
    "print(valset[1][1])"
   ]
  },
  {
   "cell_type": "code",
   "execution_count": 59,
   "metadata": {},
   "outputs": [],
   "source": [
    "def get_same_index(target, label):\n",
    "    label_indices = []\n",
    "\n",
    "    for i in range(len(target)):\n",
    "        if target[i] == label:\n",
    "            label_indices.append(i)\n",
    "\n",
    "    return label_indices"
   ]
  },
  {
   "cell_type": "code",
   "execution_count": 60,
   "metadata": {},
   "outputs": [],
   "source": [
    "indices = []\n",
    "for i in range(5):\n",
    "    indlist = get_same_index(trainset.targets,i)\n",
    "    indices.append(indlist)\n",
    "indicesv = []\n",
    "for i in range(5):\n",
    "    indlist = get_same_index(valset.targets,i)\n",
    "    indicesv.append(indlist)\n"
   ]
  },
  {
   "cell_type": "code",
   "execution_count": 61,
   "metadata": {},
   "outputs": [
    {
     "name": "stdout",
     "output_type": "stream",
     "text": [
      "5923\n",
      "980\n"
     ]
    }
   ],
   "source": [
    "print(len(indices[0]))\n",
    "print(len(indicesv[0]))"
   ]
  },
  {
   "cell_type": "code",
   "execution_count": 62,
   "metadata": {},
   "outputs": [
    {
     "name": "stdout",
     "output_type": "stream",
     "text": [
      "[<torch.utils.data.dataset.Subset object at 0x1293ae6d0>, <torch.utils.data.dataset.Subset object at 0x1293aee50>, <torch.utils.data.dataset.Subset object at 0x1293aed90>, <torch.utils.data.dataset.Subset object at 0x1293ae1f0>, <torch.utils.data.dataset.Subset object at 0x1293aea00>]\n",
      "[<torch.utils.data.dataset.Subset object at 0x1293aeca0>, <torch.utils.data.dataset.Subset object at 0x1293ae160>, <torch.utils.data.dataset.Subset object at 0x1293ae580>, <torch.utils.data.dataset.Subset object at 0x1293ae310>, <torch.utils.data.dataset.Subset object at 0x1293aef10>]\n"
     ]
    }
   ],
   "source": [
    "subsets = []\n",
    "[subsets.append(torch.utils.data.Subset(trainset, i)) for i in indices]\n",
    "subsetsv = []\n",
    "[subsetsv.append(torch.utils.data.Subset(valset, i)) for i in indicesv]\n",
    "print(subsets)\n",
    "print(subsetsv)"
   ]
  },
  {
   "cell_type": "code",
   "execution_count": 63,
   "metadata": {},
   "outputs": [
    {
     "name": "stdout",
     "output_type": "stream",
     "text": [
      "23681 4004\n"
     ]
    }
   ],
   "source": [
    "comp = []\n",
    "for indi in range(len(indices) - 1):\n",
    "    comp.append(int(min(len(subsets[indi]), len(subsets[indi+1]))))\n",
    "tot1 = sum(comp)\n",
    "\n",
    "compv = []\n",
    "for indi in range(len(indicesv) - 1):\n",
    "    compv.append(int(min(len(subsetsv[indi]), len(subsetsv[indi+1]))))\n",
    "tot1v = sum(compv)\n",
    "\n",
    "print(tot1, tot1v)"
   ]
  },
  {
   "cell_type": "code",
   "execution_count": 64,
   "metadata": {},
   "outputs": [
    {
     "name": "stdout",
     "output_type": "stream",
     "text": [
      "torch.Size([23681, 2, 28, 28])\n",
      "torch.Size([4004, 2, 28, 28])\n"
     ]
    }
   ],
   "source": [
    "x = torch.zeros([tot1,2,28,28], dtype=torch.float32)\n",
    "print(x.shape)\n",
    "y = []\n",
    "# 1 for first pic greater, 0 for first pic less\n",
    "k = 0\n",
    "for i in range(len(subsets)-1):\n",
    "    for j in range(int(comp[i]/2)):\n",
    "        x[k][0] = subsets[i][j][0]\n",
    "        x[k][1] = subsets[i+1][j][0]\n",
    "        y.append(0)\n",
    "        k+=1\n",
    "    for j in range(int(comp[i]/2), comp[i]):\n",
    "        x[k][1] = subsets[i][j][0]\n",
    "        x[k][0] = subsets[i+1][j][0]\n",
    "        y.append(1)\n",
    "        k+=1\n",
    "    \n",
    "xv = torch.zeros([tot1v,2,28,28], dtype=torch.float32)\n",
    "print(xv.shape)\n",
    "yv = []\n",
    "# 1 for first pic greater, 0 for first pic less\n",
    "k = 0\n",
    "for i in range(len(subsetsv)-1):\n",
    "    for j in range(int(compv[i]/2)):\n",
    "        xv[k][0] = subsetsv[i][j][0]\n",
    "        xv[k][1] = subsetsv[i+1][j][0]\n",
    "        yv.append(0)\n",
    "        k+=1\n",
    "    for j in range(int(compv[i]/2), compv[i]):\n",
    "        xv[k][1] = subsetsv[i][j][0]\n",
    "        xv[k][0] = subsetsv[i+1][j][0]\n",
    "        yv.append(1)\n",
    "        k+=1"
   ]
  },
  {
   "cell_type": "code",
   "execution_count": 66,
   "metadata": {},
   "outputs": [],
   "source": [
    "#for i in range(0, x.shape[0],500):\n",
    "    #show_data(x[i],y[i])"
   ]
  },
  {
   "cell_type": "code",
   "execution_count": 65,
   "metadata": {},
   "outputs": [],
   "source": [
    "#for i in range(0, xv.shape[0],500):\n",
    "    #show_data(xv[i],yv[i])"
   ]
  },
  {
   "cell_type": "code",
   "execution_count": 67,
   "metadata": {},
   "outputs": [],
   "source": [
    "class Trainsetcomp(Dataset):\n",
    "    def __init__(self,x,y):\n",
    "        self.len = (x.shape[0])\n",
    "        self.x = x\n",
    "        self.y = y\n",
    "    def __getitem__(self,index):\n",
    "        return (x[index], y[index])\n",
    "    \n",
    "    def __len__(self):\n",
    "        return self.len\n",
    "trainsetcomp = Trainsetcomp(x,y)\n",
    "valsetcomp = Trainsetcomp(xv,yv)"
   ]
  },
  {
   "cell_type": "code",
   "execution_count": 68,
   "metadata": {},
   "outputs": [
    {
     "name": "stdout",
     "output_type": "stream",
     "text": [
      "torch.Size([2, 28, 28])\n",
      "0\n"
     ]
    },
    {
     "data": {
      "image/png": "[encoded data removed]",
      "text/plain": [
       "<Figure size 432x288 with 2 Axes>"
      ]
     },
     "metadata": {
      "needs_background": "light"
     },
     "output_type": "display_data"
    },
    {
     "data": {
      "text/plain": [
       "True"
      ]
     },
     "execution_count": 68,
     "metadata": {},
     "output_type": "execute_result"
    }
   ],
   "source": [
    "print(trainsetcomp[0][0].shape)\n",
    "print(trainsetcomp[0][1])\n",
    "show_data(trainsetcomp[6000][0],trainsetcomp[6000][1])\n",
    "len(trainsetcomp)== tot1"
   ]
  },
  {
   "cell_type": "code",
   "execution_count": 69,
   "metadata": {},
   "outputs": [
    {
     "name": "stdout",
     "output_type": "stream",
     "text": [
      "torch.Size([2, 28, 28])\n",
      "0\n"
     ]
    },
    {
     "data": {
      "image/png": "[encoded data removed]",
      "text/plain": [
       "<Figure size 432x288 with 2 Axes>"
      ]
     },
     "metadata": {
      "needs_background": "light"
     },
     "output_type": "display_data"
    },
    {
     "data": {
      "text/plain": [
       "True"
      ]
     },
     "execution_count": 69,
     "metadata": {},
     "output_type": "execute_result"
    }
   ],
   "source": [
    "print(valsetcomp[0][0].shape)\n",
    "print(valsetcomp[0][1])\n",
    "show_data(valsetcomp[6000][0],valsetcomp[6000][1])\n",
    "len(valsetcomp)== tot1v\n",
    "#len(valsetcomp) == len(trainsetcomp)"
   ]
  },
  {
   "cell_type": "code",
   "execution_count": 70,
   "metadata": {},
   "outputs": [],
   "source": [
    "trainloader = torch.utils.data.DataLoader(trainsetcomp, \n",
    "                                          batch_size=64, \n",
    "                                          shuffle=True)\n",
    "valloader = torch.utils.data.DataLoader(valsetcomp, \n",
    "                                          batch_size=64, \n",
    "                                          shuffle=True)"
   ]
  },
  {
   "cell_type": "markdown",
   "metadata": {},
   "source": [
    "## Training"
   ]
  },
  {
   "cell_type": "code",
   "execution_count": 75,
   "metadata": {},
   "outputs": [],
   "source": [
    "def train(model,criterion,optimizer, epochs = 15):\n",
    "    time0 = time()\n",
    "    i = 0\n",
    "    useful_stuff = {'training_loss': [],'validation_accuracy': []}  \n",
    "    for epoch in range(epochs):\n",
    "        running_loss = 0\n",
    "        for images, labels in trainloader:\n",
    "            i += 1\n",
    "            # Flatten MNIST images into a 784 long vector\n",
    "            images = images.view(-1, 2 * 28 * 28)\n",
    "\n",
    "            optimizer.zero_grad()\n",
    "            output = model(images)\n",
    "            loss = criterion(output, labels)\n",
    "            loss.backward()\n",
    "            optimizer.step()\n",
    "            useful_stuff['training_loss'].append(loss.data.item())\n",
    "            running_loss += loss.item()\n",
    "        correct = 0\n",
    "        for x, y in valloader:\n",
    "            #validation \n",
    "            z = model(x.view(-1, 2 * 28 * 28))\n",
    "            _, label = torch.max(z, 1)\n",
    "            correct += (label == y).sum().item()\n",
    "        accuracy = 100 * (correct / len(valset))\n",
    "        useful_stuff['validation_accuracy'].append(accuracy)\n",
    "        print(\"Epoch\",epoch, 'loss',running_loss/len(trainloader))\n",
    "    print(\"\\nTraining Time (in minutes) =\",(time()-time0)/60)\n",
    "    return useful_stuff"
   ]
  },
  {
   "cell_type": "markdown",
   "metadata": {},
   "source": [
    "## Model 1"
   ]
  },
  {
   "cell_type": "code",
   "execution_count": 76,
   "metadata": {},
   "outputs": [],
   "source": [
    "ind = 2 * 28 * 28\n",
    "outd = 2\n",
    "hd1 = 256\n",
    "hd2 = 128"
   ]
  },
  {
   "cell_type": "code",
   "execution_count": 77,
   "metadata": {},
   "outputs": [],
   "source": [
    "class Model(nn.Module):\n",
    "    def __init__(self,ind, hd1, hd2, outd):\n",
    "        super(Model, self).__init__()\n",
    "        self.lin1 = nn.Linear(ind,hd1)\n",
    "        self.lin2 = nn.Linear(hd1,hd2)\n",
    "        self.lin3 = nn.Linear(hd2, outd)\n",
    "    def forward(self,x):\n",
    "        x = torch.relu(self.lin1(x))\n",
    "        x = torch.relu(self.lin2(x))\n",
    "        x = self.lin3(x)\n",
    "        return x\n",
    "model = Model(ind,hd1,hd2,outd)"
   ]
  },
  {
   "cell_type": "code",
   "execution_count": 78,
   "metadata": {},
   "outputs": [],
   "source": [
    "criterion = nn.CrossEntropyLoss()\n",
    "optimizer = torch.optim.SGD(model.parameters(), lr=0.03)"
   ]
  },
  {
   "cell_type": "code",
   "execution_count": 79,
   "metadata": {},
   "outputs": [
    {
     "name": "stdout",
     "output_type": "stream",
     "text": [
      "Epoch 0 loss 0.4100215788077151\n",
      "Epoch 1 loss 0.14893681772798173\n",
      "Epoch 2 loss 0.0965786880662607\n",
      "Epoch 3 loss 0.07909535168455918\n",
      "Epoch 4 loss 0.06938738335737321\n",
      "Epoch 5 loss 0.06054872929839031\n",
      "Epoch 6 loss 0.05679658305127741\n",
      "Epoch 7 loss 0.04894078668894753\n",
      "Epoch 8 loss 0.04673660611620831\n",
      "Epoch 9 loss 0.03857104927790916\n",
      "Epoch 10 loss 0.03413007874190355\n",
      "Epoch 11 loss 0.030758877160162786\n",
      "Epoch 12 loss 0.027533647134389227\n",
      "Epoch 13 loss 0.025154617422378022\n",
      "Epoch 14 loss 0.02021412007922352\n",
      "\n",
      "Training Time (in minutes) = 0.2529075821240743\n"
     ]
    }
   ],
   "source": [
    "trainingloss1 = train(model,criterion,optimizer)"
   ]
  },
  {
   "cell_type": "code",
   "execution_count": 80,
   "metadata": {},
   "outputs": [
    {
     "data": {
      "image/png": "[encoded data removed]",
      "text/plain": [
       "<Figure size 432x288 with 2 Axes>"
      ]
     },
     "metadata": {
      "needs_background": "light"
     },
     "output_type": "display_data"
    },
    {
     "data": {
      "text/plain": [
       "40.0"
      ]
     },
     "execution_count": 80,
     "metadata": {},
     "output_type": "execute_result"
    }
   ],
   "source": [
    "plot_accuracy_loss(trainingloss1)\n",
    "acc = trainingloss1['validation_accuracy']\n",
    "acc.pop()"
   ]
  },
  {
   "cell_type": "markdown",
   "metadata": {},
   "source": [
    "## Model 2 - ignore incomplete"
   ]
  },
  {
   "cell_type": "code",
   "execution_count": 93,
   "metadata": {},
   "outputs": [],
   "source": [
    "ind = 2 * 28 * 28\n",
    "outd = 2\n",
    "hd1 = 256\n",
    "hd2 = 128"
   ]
  },
  {
   "cell_type": "code",
   "execution_count": 94,
   "metadata": {},
   "outputs": [
    {
     "name": "stdout",
     "output_type": "stream",
     "text": [
      "Sequential(\n",
      "  (0): Linear(in_features=1568, out_features=256, bias=True)\n",
      "  (1): ReLU()\n",
      "  (2): Linear(in_features=256, out_features=128, bias=True)\n",
      "  (3): ReLU()\n",
      "  (4): Linear(in_features=128, out_features=2, bias=True)\n",
      "  (5): LogSoftmax()\n",
      ")\n"
     ]
    }
   ],
   "source": [
    "model2 = nn.Sequential(nn.Linear(ind, hd1),\n",
    "                      nn.ReLU(),\n",
    "                      nn.Linear(hd1, hd2),\n",
    "                      nn.ReLU(),\n",
    "                      nn.Linear(hd2, outd),\n",
    "                      nn.LogSoftmax(dim=1))\n",
    "print(model2)"
   ]
  },
  {
   "cell_type": "code",
   "execution_count": 102,
   "metadata": {},
   "outputs": [],
   "source": [
    "criterion2 = nn.NLLLoss()\n",
    "optimizer2 = torch.optim.SGD(model2.parameters(), lr=0.03)"
   ]
  },
  {
   "cell_type": "code",
   "execution_count": 103,
   "metadata": {},
   "outputs": [
    {
     "name": "stdout",
     "output_type": "stream",
     "text": [
      "Epoch 0 loss -8.562765926042335\n",
      "Epoch 1 loss -8.567450348579015\n",
      "Epoch 2 loss -8.577836361856795\n",
      "Epoch 3 loss -8.573726950951343\n",
      "Epoch 4 loss -8.56721803248732\n",
      "Epoch 5 loss -8.567385749354196\n",
      "Epoch 6 loss -8.571397104031956\n",
      "Epoch 7 loss -8.56202589533721\n",
      "Epoch 8 loss -8.56411236765571\n",
      "Epoch 9 loss -8.572159155359808\n",
      "Epoch 10 loss -8.556797800038382\n",
      "Epoch 11 loss -8.562521536073916\n",
      "Epoch 12 loss -8.559517519814628\n",
      "Epoch 13 loss -8.553159946379957\n",
      "Epoch 14 loss -8.55983779629607\n",
      "\n",
      "Training Time (in minutes) = 0.21746584971745808\n"
     ]
    }
   ],
   "source": [
    "trainingresults2 = train(model,criterion2,optimizer2)# doesnt makes sense"
   ]
  },
  {
   "cell_type": "code",
   "execution_count": 108,
   "metadata": {},
   "outputs": [
    {
     "data": {
      "image/png": "[encoded data removed]",
      "text/plain": [
       "<Figure size 432x288 with 2 Axes>"
      ]
     },
     "metadata": {
      "needs_background": "light"
     },
     "output_type": "display_data"
    },
    {
     "data": {
      "text/plain": [
       "40.04"
      ]
     },
     "execution_count": 108,
     "metadata": {},
     "output_type": "execute_result"
    }
   ],
   "source": [
    "plot_accuracy_loss(trainingresults2)\n",
    "acc = trainingresults2['validation_accuracy']\n",
    "acc.pop()"
   ]
  },
  {
   "cell_type": "markdown",
   "metadata": {},
   "source": [
    "## Model3 - adam optimizer"
   ]
  },
  {
   "cell_type": "code",
   "execution_count": 112,
   "metadata": {},
   "outputs": [],
   "source": [
    "model3 = Model(ind,hd1,hd2,outd)\n",
    "criterion3 = nn.CrossEntropyLoss()\n",
    "optimizer3 = torch.optim.Adam(model3.parameters(), lr=0.03)"
   ]
  },
  {
   "cell_type": "code",
   "execution_count": 113,
   "metadata": {},
   "outputs": [
    {
     "name": "stdout",
     "output_type": "stream",
     "text": [
      "Epoch 0 loss 1.841678432578025\n",
      "Epoch 1 loss 0.38573123815888666\n",
      "Epoch 2 loss 0.3918216165627109\n",
      "Epoch 3 loss 0.37295016815077586\n",
      "Epoch 4 loss 0.3729916870935426\n",
      "Epoch 5 loss 0.37423097243848835\n",
      "Epoch 6 loss 0.3696951737421542\n",
      "Epoch 7 loss 0.36926991815836924\n",
      "Epoch 8 loss 0.3709524771816165\n",
      "Epoch 9 loss 0.37137061554305956\n",
      "Epoch 10 loss 0.6999888298003821\n",
      "Epoch 11 loss 0.6942033160407588\n",
      "Epoch 12 loss 0.6940033680023852\n",
      "Epoch 13 loss 0.6940505305390474\n",
      "Epoch 14 loss 0.6942824607268177\n",
      "Epoch 15 loss 0.693538190380261\n",
      "Epoch 16 loss 0.6941845752800893\n",
      "Epoch 17 loss 0.6940944189973919\n",
      "Epoch 18 loss 0.6937272622578871\n",
      "Epoch 19 loss 0.69401693954622\n",
      "Epoch 20 loss 0.6943265559538355\n",
      "Epoch 21 loss 0.694421015338435\n",
      "Epoch 22 loss 0.6945055605908931\n",
      "Epoch 23 loss 0.6941811345979532\n",
      "Epoch 24 loss 0.6939798548536481\n",
      "Epoch 25 loss 0.694356080014108\n",
      "Epoch 26 loss 0.6943226826158817\n",
      "Epoch 27 loss 0.6944271658630062\n",
      "Epoch 28 loss 0.6941706473936611\n",
      "Epoch 29 loss 0.6942490480659465\n",
      "\n",
      "Training Time (in minutes) = 1.4542956868807475\n"
     ]
    }
   ],
   "source": [
    "trainingresults3 = train(model3,criterion3,optimizer3, epochs = 30)"
   ]
  },
  {
   "cell_type": "code",
   "execution_count": 114,
   "metadata": {},
   "outputs": [
    {
     "data": {
      "image/png": "[encoded data removed]",
      "text/plain": [
       "<Figure size 432x288 with 2 Axes>"
      ]
     },
     "metadata": {
      "needs_background": "light"
     },
     "output_type": "display_data"
    },
    {
     "data": {
      "text/plain": [
       "29.609999999999996"
      ]
     },
     "execution_count": 114,
     "metadata": {},
     "output_type": "execute_result"
    }
   ],
   "source": [
    "plot_accuracy_loss(trainingresults3)\n",
    "acc = trainingresults3['validation_accuracy']\n",
    "acc.pop()"
   ]
  },
  {
   "cell_type": "code",
   "execution_count": null,
   "metadata": {},
   "outputs": [],
   "source": []
  }
 ],
 "metadata": {
  "kernelspec": {
   "display_name": "PytochJN",
   "language": "python",
   "name": "pytochjn"
  },
  "language_info": {
   "codemirror_mode": {
    "name": "ipython",
    "version": 3
   },
   "file_extension": ".py",
   "mimetype": "text/x-python",
   "name": "python",
   "nbconvert_exporter": "python",
   "pygments_lexer": "ipython3",
   "version": "3.8.1"
  }
 },
 "nbformat": 4,
 "nbformat_minor": 2
}
