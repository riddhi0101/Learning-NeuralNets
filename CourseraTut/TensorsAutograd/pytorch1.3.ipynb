{
 "cells": [
  {
   "cell_type": "code",
   "execution_count": 1,
   "metadata": {},
   "outputs": [],
   "source": [
    "import numpy as np\n",
    "import matplotlib.pyplot as plt\n",
    "import torch\n",
    "import pandas as pd"
   ]
  },
  {
   "cell_type": "code",
   "execution_count": 2,
   "metadata": {},
   "outputs": [
    {
     "name": "stdout",
     "output_type": "stream",
     "text": [
      "tensor(2., requires_grad=True)\n",
      "tensor(4., grad_fn=<PowBackward0>)\n"
     ]
    }
   ],
   "source": [
    "# calculating the derivative of y(x)= x^2\n",
    "x = torch.tensor(2.,requires_grad=True)\n",
    "#use evaluating functions of x using this value(req_grad=True)\n",
    "y = x**2#also a tensor\n",
    "print(x)\n",
    "print(y)"
   ]
  },
  {
   "cell_type": "code",
   "execution_count": 3,
   "metadata": {},
   "outputs": [
    {
     "name": "stdout",
     "output_type": "stream",
     "text": [
      "None\n",
      "tensor(4.)\n"
     ]
    }
   ],
   "source": [
    "# derivative of y: calc der of y, \n",
    "print(y.backward())\n",
    "print(x.grad)#eval at x=2\n",
    "# does this with some graph idk bro"
   ]
  },
  {
   "cell_type": "code",
   "execution_count": 4,
   "metadata": {},
   "outputs": [
    {
     "name": "stdout",
     "output_type": "stream",
     "text": [
      "y tensor(9., grad_fn=<AddBackward0>)\n",
      "der of y at x tensor(6.)\n"
     ]
    }
   ],
   "source": [
    "# Calculate the y = x^2 + 2x + 1, then find the derivative \n",
    "x = torch.tensor(2.0, requires_grad = True)\n",
    "y = x**2 + 2*x + 1\n",
    "print(\"y\",y)\n",
    "y.backward()\n",
    "print(\"der of y at x\", x.grad)"
   ]
  },
  {
   "cell_type": "code",
   "execution_count": 5,
   "metadata": {},
   "outputs": [
    {
     "name": "stdout",
     "output_type": "stream",
     "text": [
      "tensor(1., requires_grad=True)\n",
      "tensor(7.)\n"
     ]
    }
   ],
   "source": [
    "x = torch.tensor(1.0, requires_grad = True)\n",
    "print(x)\n",
    "y = 2*x**3 + x\n",
    "y.backward()\n",
    "print(x.grad)"
   ]
  },
  {
   "cell_type": "code",
   "execution_count": 18,
   "metadata": {},
   "outputs": [
    {
     "name": "stdout",
     "output_type": "stream",
     "text": [
      "tensor(3., grad_fn=<AddBackward0>)\n",
      "u der tensor(4.)\n",
      "v der tensor(1.)\n"
     ]
    }
   ],
   "source": [
    "# Calculate f(u, v) = v * u + u^2 at u = 1, v = 2\n",
    "u = torch.tensor(1.0, requires_grad = True)\n",
    "v = torch.tensor(2., requires_grad = True)\n",
    "f = u*v + u**2\n",
    "print(f)\n",
    "f.backward()\n",
    "print(\"u der\",u.grad)\n",
    "print(\"v der\",v.grad)\n"
   ]
  },
  {
   "cell_type": "code",
   "execution_count": 14,
   "metadata": {},
   "outputs": [
    {
     "name": "stdout",
     "output_type": "stream",
     "text": [
      "tensor([-10.0000,  -7.7778,  -5.5556,  -3.3333,  -1.1111,   1.1111,   3.3333,\n",
      "          5.5556,   7.7778,  10.0000], requires_grad=True)\n"
     ]
    }
   ],
   "source": [
    "# Calculate the derivative with multiple values\n",
    "\n",
    "x = torch.linspace(-10, 10, 10, requires_grad = True)\n",
    "Y = x ** 2\n",
    "y = torch.sum(x ** 2)\n",
    "print(x)"
   ]
  },
  {
   "cell_type": "code",
   "execution_count": 15,
   "metadata": {},
   "outputs": [
    {
     "data": {
      "image/png": "[encoded data removed]",
      "text/plain": [
       "<Figure size 432x288 with 1 Axes>"
      ]
     },
     "metadata": {
      "needs_background": "light"
     },
     "output_type": "display_data"
    },
    {
     "name": "stdout",
     "output_type": "stream",
     "text": [
      "tensor([-20.0000, -15.5556, -11.1111,  -6.6667,  -2.2222,   2.2222,   6.6667,\n",
      "         11.1111,  15.5556,  20.0000])\n"
     ]
    }
   ],
   "source": [
    "# Take the derivative with respect to multiple value. Plot out the function and its derivative\n",
    "\n",
    "y.backward()\n",
    "#use detach so it stops tracking the computation history\n",
    "plt.plot(x.detach().numpy(), Y.detach().numpy(), label = 'function')\n",
    "plt.plot(x.detach().numpy(), x.grad.detach().numpy(), label = 'derivative')\n",
    "plt.xlabel('x')\n",
    "plt.legend()\n",
    "plt.show()\n",
    "print(x.grad)"
   ]
  },
  {
   "cell_type": "code",
   "execution_count": 30,
   "metadata": {},
   "outputs": [
    {
     "name": "stdout",
     "output_type": "stream",
     "text": [
      "tensor(2., requires_grad=True)\n",
      "tensor(8., grad_fn=<PowBackward0>)\n",
      "tensor(16., grad_fn=<MulBackward0>)\n",
      "tensor(12.)\n"
     ]
    }
   ],
   "source": [
    "a = torch.tensor(2.,requires_grad=True)\n",
    "print(a)\n",
    "\n",
    "b = a**3\n",
    "print(b)\n",
    "\n",
    "c = b*2\n",
    "print(c)\n",
    "\n",
    "b.backward()\n",
    "print(a.grad)"
   ]
  },
  {
   "cell_type": "code",
   "execution_count": 35,
   "metadata": {},
   "outputs": [
    {
     "name": "stdout",
     "output_type": "stream",
     "text": [
      "tensor(2., requires_grad=True)\n",
      "tensor(8., grad_fn=<PowBackward0>)\n",
      "tensor(16., grad_fn=<MulBackward0>)\n",
      "tensor(24.)\n",
      "None\n"
     ]
    }
   ],
   "source": [
    "a = torch.tensor(2.,requires_grad=True)\n",
    "print(a)\n",
    "\n",
    "b = a**3\n",
    "print(b)\n",
    "\n",
    "c = b*2\n",
    "print(c)\n",
    "c.backward()\n",
    "print(a.grad)\n",
    "print(b.grad)"
   ]
  },
  {
   "cell_type": "code",
   "execution_count": 37,
   "metadata": {},
   "outputs": [
    {
     "name": "stdout",
     "output_type": "stream",
     "text": [
      "tensor(12.)\n",
      "tensor(36.)\n",
      "tensor(24.)\n"
     ]
    }
   ],
   "source": [
    "a = torch.tensor(2.,requires_grad=True)\n",
    "b = a**3\n",
    "c = b*2\n",
    "b.backward(retain_graph = True)\n",
    "print(a.grad)\n",
    "c.backward(retain_graph = True)\n",
    "print(a.grad)#adds to the existinf gradient\n",
    "#to not add make the a.grad zero\n",
    "a.grad.zero_()\n",
    "c.backward()\n",
    "print(a.grad)"
   ]
  },
  {
   "cell_type": "code",
   "execution_count": 33,
   "metadata": {},
   "outputs": [
    {
     "name": "stdout",
     "output_type": "stream",
     "text": [
      "None\n"
     ]
    }
   ],
   "source": [
    "print(b.grad)"
   ]
  },
  {
   "cell_type": "code",
   "execution_count": null,
   "metadata": {},
   "outputs": [],
   "source": []
  }
 ],
 "metadata": {
  "kernelspec": {
   "display_name": "PytochJN",
   "language": "python",
   "name": "pytochjn"
  },
  "language_info": {
   "codemirror_mode": {
    "name": "ipython",
    "version": 3
   },
   "file_extension": ".py",
   "mimetype": "text/x-python",
   "name": "python",
   "nbconvert_exporter": "python",
   "pygments_lexer": "ipython3",
   "version": "3.8.1"
  }
 },
 "nbformat": 4,
 "nbformat_minor": 2
}
