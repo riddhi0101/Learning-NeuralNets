{
 "cells": [
  {
   "cell_type": "markdown",
   "metadata": {},
   "source": [
    "## Optimizer"
   ]
  },
  {
   "cell_type": "code",
   "execution_count": 2,
   "metadata": {},
   "outputs": [],
   "source": [
    "import torch\n",
    "from torch.utils.data import Dataset, DataLoader\n",
    "import torch.nn as nn\n",
    "from torch import nn, optim\n",
    "import matplotlib.pyplot as plt"
   ]
  },
  {
   "cell_type": "markdown",
   "metadata": {},
   "source": [
    "### Steps\n",
    "1) create a Dataset object<br>\n",
    "2) create a custom module- using nn.module<br>\n",
    "3) create a criterion(loss function)--can get it from nn<br>\n",
    "4) create a dataloader object<br>\n",
    "5) create a model<br>\n",
    "6) create an optimizer object<br>\n",
    "7) write the training code<br>\n"
   ]
  },
  {
   "cell_type": "code",
   "execution_count": 3,
   "metadata": {},
   "outputs": [],
   "source": [
    "torch.manual_seed(1)\n",
    "X = torch.arange(-3,3,0.1).view(-1,1)\n",
    "f = -3 * X + 1\n",
    "Y = f + 0.1 * torch.randn(X.size())"
   ]
  },
  {
   "cell_type": "code",
   "execution_count": null,
   "metadata": {},
   "outputs": [],
   "source": [
    "class DatasetSLR(Dataset):\n",
    "    \n",
    "    def __init__(self,x,y, transform=None):\n",
    "        self.len = x.shape[0]\n",
    "        self.x = x\n",
    "        self.y = y\n",
    "        self.transform = transform\n",
    "        \n",
    "    def __getitem__ (self,index):\n",
    "        sample = self.x[index], self.y[index]\n",
    "        if self.transform:\n",
    "            sample = self.transform(sample)\n",
    "        return sample\n",
    "    \n",
    "    def __len__(self):\n",
    "        return self.len\n",
    "\n",
    "print(X.shape)\n",
    "print(Y)\n",
    "\n",
    "datasetLR = DatasetSLR(X,Y)\n",
    "print(datasetLR[0])\n",
    "print(datasetLR[1:3])\n",
    "print('\\n the size is',len(datasetLR))"
   ]
  },
  {
   "cell_type": "code",
   "execution_count": 5,
   "metadata": {},
   "outputs": [
    {
     "name": "stdout",
     "output_type": "stream",
     "text": [
      "LR(\n",
      "  (linear): Linear(in_features=1, out_features=1, bias=True)\n",
      ")\n",
      "[Parameter containing:\n",
      "tensor([[0.3636]], requires_grad=True), Parameter containing:\n",
      "tensor([0.4957], requires_grad=True)]\n",
      "Linear(in_features=1, out_features=1, bias=True)\n",
      "OrderedDict([('linear.weight', tensor([[0.3636]])), ('linear.bias', tensor([0.4957]))])\n",
      "\n",
      " the beginning weight is  Parameter containing:\n",
      "tensor([[0.3636]], requires_grad=True)\n",
      "\n",
      "the beginning bias is  Parameter containing:\n",
      "tensor([0.4957], requires_grad=True)\n"
     ]
    }
   ],
   "source": [
    "class LR(nn.Module):\n",
    "    \n",
    "    def __init__(self,input_size,output_size):\n",
    "        super(LR, self).__init__()\n",
    "        self.linear = nn.Linear(input_size,output_size)\n",
    "        \n",
    "    def forward(self,x):\n",
    "        out = self.linear(x)\n",
    "        return out\n",
    "\n",
    "model = LR(1,1)\n",
    "print(model)\n",
    "print(list(model.parameters()))\n",
    "print(model.linear)\n",
    "print(model.state_dict())\n",
    "begW = (model.linear.weight)\n",
    "print('\\n the beginning weight is ', begW)\n",
    "bedB = model.linear.bias\n",
    "print('\\nthe beginning bias is ', bedB)"
   ]
  },
  {
   "cell_type": "code",
   "execution_count": 6,
   "metadata": {},
   "outputs": [],
   "source": [
    "criterion = nn.MSELoss()\n",
    "trainloader = DataLoader(dataset=datasetLR, batch_size=1)\n",
    "optimizer = optim.SGD(model.parameters(), lr=0.01)\n",
    "#model = LR(1,1)\n",
    "#print(model)\n",
    "#print(list(model.parameters()))\n",
    "#print(model.linear)\n",
    "#print(model.state_dict())"
   ]
  },
  {
   "cell_type": "code",
   "execution_count": null,
   "metadata": {},
   "outputs": [],
   "source": [
    "def train1(model,trainloader,epochsNum):\n",
    "    train_loss = []\n",
    "    for epoch in range(epochsNum):\n",
    "        runningloss = 0.0\n",
    "        for x,y in trainloader:\n",
    "            yhat = model(x)\n",
    "            loss = criterion(yhat,y)\n",
    "            #print(model.linear.weight.grad)\n",
    "            optimizer.zero_grad()\n",
    "            loss.backward()\n",
    "            optimizer.step()\n",
    "            runningloss+=loss.item()\n",
    "        loss = runningloss/float(len(trainloader))\n",
    "        #print(runningloss)\n",
    "        train_loss.append(loss)\n",
    "        print('Epoch {} of {}, Train Loss: {:.3f}'.format(\n",
    "                epoch+1, epochsNum, loss))\n",
    "    return train_loss\n",
    "\n",
    "loss1 = train1(model,trainloader,10)"
   ]
  },
  {
   "cell_type": "code",
   "execution_count": null,
   "metadata": {},
   "outputs": [],
   "source": [
    "plt.plot(loss1,label = \"bs=1\")\n",
    "plt.plot(loss2,label = \"bs=12\")\n",
    "plt.xlabel('epoch')\n",
    "plt.ylabel('Cost/ total loss')\n",
    "plt.legend()\n",
    "plt.show()"
   ]
  },
  {
   "cell_type": "code",
   "execution_count": null,
   "metadata": {},
   "outputs": [],
   "source": []
  }
 ],
 "metadata": {
  "kernelspec": {
   "display_name": "PytochJN",
   "language": "python",
   "name": "pytochjn"
  },
  "language_info": {
   "codemirror_mode": {
    "name": "ipython",
    "version": 3
   },
   "file_extension": ".py",
   "mimetype": "text/x-python",
   "name": "python",
   "nbconvert_exporter": "python",
   "pygments_lexer": "ipython3",
   "version": "3.8.1"
  }
 },
 "nbformat": 4,
 "nbformat_minor": 2
}
